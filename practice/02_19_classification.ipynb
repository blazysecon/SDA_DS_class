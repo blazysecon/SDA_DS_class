{
 "cells": [
  {
   "cell_type": "markdown",
   "id": "c875de70",
   "metadata": {
    "colab_type": "text",
    "id": "view-in-github"
   },
   "source": [
    "<a href=\"https://colab.research.google.com/github/giedriusblazys/SDA_DS_class/blob/main/practice/classification.ipynb\" target=\"_parent\"><img src=\"https://colab.research.google.com/assets/colab-badge.svg\" alt=\"Open In Colab\"/></a>"
   ]
  },
  {
   "cell_type": "markdown",
   "id": "897b4e5f-f43d-4246-808d-9bb28361fad6",
   "metadata": {
    "id": "897b4e5f-f43d-4246-808d-9bb28361fad6",
    "tags": []
   },
   "source": [
    "# Classification"
   ]
  },
  {
   "cell_type": "markdown",
   "id": "050a62b6-dbf6-4e74-9a33-36789fd374d2",
   "metadata": {
    "id": "050a62b6-dbf6-4e74-9a33-36789fd374d2",
    "tags": []
   },
   "source": [
    "## 2022-02-19"
   ]
  },
  {
   "cell_type": "code",
   "execution_count": 1,
   "id": "wc_vPXRXoYp0",
   "metadata": {
    "id": "wc_vPXRXoYp0"
   },
   "outputs": [],
   "source": [
    "# run once\n",
    "\n",
    "# !pip install eli5"
   ]
  },
  {
   "cell_type": "code",
   "execution_count": 2,
   "id": "fb78545f-6425-4141-9935-0db1bafd3db1",
   "metadata": {
    "id": "fb78545f-6425-4141-9935-0db1bafd3db1",
    "tags": []
   },
   "outputs": [],
   "source": [
    "import pandas as pd\n",
    "import numpy as np\n",
    "\n",
    "from matplotlib import pyplot as plt\n",
    "import seaborn as sns\n",
    "\n",
    "%matplotlib inline"
   ]
  },
  {
   "cell_type": "code",
   "execution_count": 3,
   "id": "a53dd530-faaf-48a6-b3e8-50ffb328b4c8",
   "metadata": {
    "id": "a53dd530-faaf-48a6-b3e8-50ffb328b4c8"
   },
   "outputs": [],
   "source": [
    "from sklearn.linear_model import LinearRegression, LogisticRegression\n",
    "from sklearn.tree import DecisionTreeClassifier\n",
    "from sklearn import tree\n",
    "from sklearn import preprocessing\n",
    "\n",
    "from sklearn.model_selection import train_test_split\n",
    "from sklearn.metrics import accuracy_score, precision_score, recall_score, f1_score\n",
    "\n",
    "# Permutation Feature Importance\n",
    "import eli5\n",
    "from eli5.sklearn import PermutationImportance\n",
    "\n",
    "import graphviz"
   ]
  },
  {
   "cell_type": "code",
   "execution_count": 4,
   "id": "5f0b1bdb-9013-4009-9a6d-362322e04214",
   "metadata": {
    "id": "5f0b1bdb-9013-4009-9a6d-362322e04214"
   },
   "outputs": [],
   "source": [
    "# improve how pandas numbers are displayed\n",
    "pd.set_option('display.float_format', lambda x: '%.4f' % x)\n",
    "pd.set_option('display.max_columns', 25)\n",
    "pd.set_option('display.max_rows', 50)\n",
    "\n",
    "np.set_printoptions(suppress=True)"
   ]
  },
  {
   "cell_type": "code",
   "execution_count": 5,
   "id": "e1db73bd-242f-41b6-9a87-fa8a5b3c23a2",
   "metadata": {
    "id": "e1db73bd-242f-41b6-9a87-fa8a5b3c23a2"
   },
   "outputs": [],
   "source": [
    "def score_prediction(y_test, y_pred, model=None, columns=None):\n",
    "    print(f'Accuracy:  {accuracy_score(y_test, y_pred):.3f}')\n",
    "    print(f'Precision: {precision_score(y_test, y_pred):.3f}')\n",
    "    print(f'Recall:    {recall_score(y_test, y_pred):.3f}')\n",
    "    print(f'F1:        {f1_score(y_test, y_pred):.3f}')\n",
    "    if model:\n",
    "        print(F'\\nCoefficients:\\n{pd.Series(model.coef_[0], index=columns)}')\n",
    "    \n",
    "    \n",
    "def corr_plot(mat, title='My Title', color='cividis'):\n",
    "    plt.subplots(figsize=(14, 11))\n",
    "    plt.title(title,fontsize=22)\n",
    "\n",
    "    sns.heatmap(mat,linewidths=0.2,vmax=0.7,square=True,cmap=color, \n",
    "                linecolor='w',annot=True,annot_kws={'size':9},cbar_kws={'shrink': .5})\n",
    "\n",
    "def _tpr(y_actual, y_pred):\n",
    "    tn, fn, fp, tp = _confusion_matrix(y_actual, y_pred)\n",
    "    return tp / (tp + fn)\n",
    "\n",
    "def _fpr(y_actual, y_pred):\n",
    "    tn, fn, fp, tp = _confusion_matrix(y_actual, y_pred)\n",
    "    return fp / (fp + tn)\n",
    "\n",
    "def _roc(y_actual, y_pred):\n",
    "    tpr = _tpr(y_actual, y_pred)\n",
    "    fpr = _fpr(y_actual, y_pred)\n",
    "    return tpr, fpr\n",
    "\n",
    "def tpr_thresh(thresh):\n",
    "    y_pred = (y_pred_prob > thresh).astype('int')\n",
    "    return _tpr(y_test, y_pred)\n",
    "\n",
    "def fpr_thresh(thresh):\n",
    "    y_pred = (y_pred_prob > thresh).astype('int')\n",
    "    return _fpr(y_test, y_pred)\n",
    "\n",
    "def _confusion_matrix(y_actual, y_pred, if_print=False):\n",
    "    tp, tn, fp, fn = 0, 0, 0, 0\n",
    "    for (actual, predicted) in zip(y_test, y_pred):\n",
    "        if actual == predicted :\n",
    "            if predicted:\n",
    "                tp += 1\n",
    "            else:\n",
    "                tn += 1\n",
    "        else:\n",
    "            if predicted:\n",
    "                fp += 1\n",
    "            else:\n",
    "                fn += 1\n",
    "    if if_print:\n",
    "        print('                    ------ Actuals -----')\n",
    "        print('                      False  |   True   ')\n",
    "        print('                    --------------------') \n",
    "        print(f'Predicted - False | {tn: >5.0f}    |  {fn: >5.0f}')\n",
    "        print(f'            True  | {fp: >5.0f}    |  {tp: >5.0f}')\n",
    "     \n",
    "    return tn, fn, fp, tp"
   ]
  },
  {
   "cell_type": "code",
   "execution_count": 6,
   "id": "8dc64058-b62e-4d21-bf98-1450ceb9d00f",
   "metadata": {
    "id": "8dc64058-b62e-4d21-bf98-1450ceb9d00f"
   },
   "outputs": [],
   "source": [
    "# !git clone https://github.com/matzim95/ML-datasets"
   ]
  },
  {
   "cell_type": "code",
   "execution_count": 7,
   "id": "d25a70bb-3415-48dd-a4d3-f36a2a772ff9",
   "metadata": {
    "id": "d25a70bb-3415-48dd-a4d3-f36a2a772ff9"
   },
   "outputs": [],
   "source": [
    "# !ls '../../ML-datasets'"
   ]
  },
  {
   "cell_type": "code",
   "execution_count": 8,
   "id": "8c88fe82-2571-45eb-b9b0-651b02df8042",
   "metadata": {
    "id": "8c88fe82-2571-45eb-b9b0-651b02df8042",
    "outputId": "303ba755-46fd-4c2f-f612-3a1d871a82da"
   },
   "outputs": [
    {
     "name": "stdout",
     "output_type": "stream",
     "text": [
      "Object type features: Index(['Name', 'Sex', 'Ticket', 'Cabin', 'Embarked'], dtype='object')\n",
      "Numeric type features: Index(['Survived', 'Pclass', 'Age', 'SibSp', 'Parch', 'Fare', 'if_female',\n",
      "       'miss_Embarked'],\n",
      "      dtype='object')\n",
      "(891, 13)\n"
     ]
    }
   ],
   "source": [
    "# df = pd.read_csv('input/titanic.csv')\n",
    "df = pd.read_csv('https://github.com/giedriusblazys/SDA_DS_class/raw/main/practice/input/titanic.csv')\n",
    "\n",
    "df = df.drop(columns='PassengerId')\n",
    "df['if_female'] = (df.Sex=='female').astype('int')\n",
    "# df['if_embarked_C'] = (df.Embarked=='C').astype('int')\n",
    "# df['if_embarked_Q'] = (df.Embarked=='Q').astype('int')\n",
    "df['miss_Embarked'] = df.Embarked.isna().astype('int')\n",
    "\n",
    "target = 'Survived'\n",
    "\n",
    "print(f\"Object type features: {df.columns[df.dtypes=='object']}\")\n",
    "\n",
    "print(f\"Numeric type features: {df.columns[df.dtypes!='object']}\")\n",
    "\n",
    "print(df.shape)"
   ]
  },
  {
   "cell_type": "code",
   "execution_count": 9,
   "id": "0511c8b0-e567-470f-9ae6-9dcf640feb64",
   "metadata": {
    "id": "12e2b7b5-66fd-4363-9ae6-c5e0319ffa9b",
    "outputId": "2c434bb1-19e2-4a4d-ccae-788781b8c91a"
   },
   "outputs": [
    {
     "data": {
      "text/plain": [
       "S      644\n",
       "C      168\n",
       "Q       77\n",
       "NaN      2\n",
       "Name: Embarked, dtype: int64"
      ]
     },
     "execution_count": 9,
     "metadata": {},
     "output_type": "execute_result"
    }
   ],
   "source": [
    "df.Embarked.value_counts(dropna=False)"
   ]
  },
  {
   "cell_type": "code",
   "execution_count": 10,
   "id": "393fc174-ef43-4c62-94f6-10ac6bd5bd31",
   "metadata": {
    "id": "12e2b7b5-66fd-4363-9ae6-c5e0319ffa9b",
    "outputId": "2c434bb1-19e2-4a4d-ccae-788781b8c91a"
   },
   "outputs": [
    {
     "data": {
      "text/plain": [
       "Survived           0\n",
       "Pclass             0\n",
       "Name               0\n",
       "Sex                0\n",
       "Age              177\n",
       "SibSp              0\n",
       "Parch              0\n",
       "Ticket             0\n",
       "Fare               0\n",
       "Cabin            687\n",
       "Embarked           2\n",
       "if_female          0\n",
       "miss_Embarked      0\n",
       "dtype: int64"
      ]
     },
     "execution_count": 10,
     "metadata": {},
     "output_type": "execute_result"
    }
   ],
   "source": [
    "df.isna().sum()"
   ]
  },
  {
   "cell_type": "code",
   "execution_count": 11,
   "id": "4fc68c34-e12b-4abf-b72b-4493924b50b5",
   "metadata": {
    "id": "4fc68c34-e12b-4abf-b72b-4493924b50b5",
    "outputId": "69ef8af3-0cf2-4fee-f40e-2a6471ea929d"
   },
   "outputs": [
    {
     "data": {
      "text/html": [
       "<div>\n",
       "<style scoped>\n",
       "    .dataframe tbody tr th:only-of-type {\n",
       "        vertical-align: middle;\n",
       "    }\n",
       "\n",
       "    .dataframe tbody tr th {\n",
       "        vertical-align: top;\n",
       "    }\n",
       "\n",
       "    .dataframe thead th {\n",
       "        text-align: right;\n",
       "    }\n",
       "</style>\n",
       "<table border=\"1\" class=\"dataframe\">\n",
       "  <thead>\n",
       "    <tr style=\"text-align: right;\">\n",
       "      <th></th>\n",
       "      <th>Survived</th>\n",
       "      <th>Pclass</th>\n",
       "      <th>Name</th>\n",
       "      <th>Sex</th>\n",
       "      <th>Age</th>\n",
       "      <th>SibSp</th>\n",
       "      <th>Parch</th>\n",
       "      <th>Ticket</th>\n",
       "      <th>Fare</th>\n",
       "      <th>Cabin</th>\n",
       "      <th>Embarked</th>\n",
       "      <th>if_female</th>\n",
       "      <th>miss_Embarked</th>\n",
       "    </tr>\n",
       "  </thead>\n",
       "  <tbody>\n",
       "    <tr>\n",
       "      <th>61</th>\n",
       "      <td>1</td>\n",
       "      <td>1</td>\n",
       "      <td>Icard, Miss. Amelie</td>\n",
       "      <td>female</td>\n",
       "      <td>38.0000</td>\n",
       "      <td>0</td>\n",
       "      <td>0</td>\n",
       "      <td>113572</td>\n",
       "      <td>80.0000</td>\n",
       "      <td>B28</td>\n",
       "      <td>NaN</td>\n",
       "      <td>1</td>\n",
       "      <td>1</td>\n",
       "    </tr>\n",
       "    <tr>\n",
       "      <th>829</th>\n",
       "      <td>1</td>\n",
       "      <td>1</td>\n",
       "      <td>Stone, Mrs. George Nelson (Martha Evelyn)</td>\n",
       "      <td>female</td>\n",
       "      <td>62.0000</td>\n",
       "      <td>0</td>\n",
       "      <td>0</td>\n",
       "      <td>113572</td>\n",
       "      <td>80.0000</td>\n",
       "      <td>B28</td>\n",
       "      <td>NaN</td>\n",
       "      <td>1</td>\n",
       "      <td>1</td>\n",
       "    </tr>\n",
       "  </tbody>\n",
       "</table>\n",
       "</div>"
      ],
      "text/plain": [
       "     Survived  Pclass                                       Name     Sex  \\\n",
       "61          1       1                        Icard, Miss. Amelie  female   \n",
       "829         1       1  Stone, Mrs. George Nelson (Martha Evelyn)  female   \n",
       "\n",
       "        Age  SibSp  Parch  Ticket    Fare Cabin Embarked  if_female  \\\n",
       "61  38.0000      0      0  113572 80.0000   B28      NaN          1   \n",
       "829 62.0000      0      0  113572 80.0000   B28      NaN          1   \n",
       "\n",
       "     miss_Embarked  \n",
       "61               1  \n",
       "829              1  "
      ]
     },
     "execution_count": 11,
     "metadata": {},
     "output_type": "execute_result"
    }
   ],
   "source": [
    "df[df.Embarked.isna()]"
   ]
  },
  {
   "cell_type": "code",
   "execution_count": 12,
   "id": "46b1d2ad-1bf2-4e16-8597-889ed87640d6",
   "metadata": {
    "id": "46b1d2ad-1bf2-4e16-8597-889ed87640d6",
    "outputId": "f33a1123-cbe3-4fd4-c73d-ea8c0c8d3749"
   },
   "outputs": [
    {
     "data": {
      "text/plain": [
       "['Name', 'Sex', 'Ticket', 'Cabin', 'Embarked']"
      ]
     },
     "execution_count": 12,
     "metadata": {},
     "output_type": "execute_result"
    }
   ],
   "source": [
    "list(df.columns[df.dtypes=='object'])"
   ]
  },
  {
   "cell_type": "code",
   "execution_count": 13,
   "id": "440fd443-5707-4f6c-8b63-aa34053aefde",
   "metadata": {
    "id": "440fd443-5707-4f6c-8b63-aa34053aefde",
    "outputId": "baa0059f-e6b6-412d-ca91-b22ef5ffd075"
   },
   "outputs": [
    {
     "data": {
      "text/plain": [
       "S    644\n",
       "C    168\n",
       "Q     77\n",
       "Name: Embarked, dtype: int64"
      ]
     },
     "execution_count": 13,
     "metadata": {},
     "output_type": "execute_result"
    }
   ],
   "source": [
    "df.Embarked.value_counts()"
   ]
  },
  {
   "cell_type": "code",
   "execution_count": 14,
   "id": "88ff2506-00e9-409d-a905-fa2a2c28f0c2",
   "metadata": {
    "id": "88ff2506-00e9-409d-a905-fa2a2c28f0c2",
    "outputId": "8af14e7e-4fdd-4c2e-a2be-7c2281322ab8"
   },
   "outputs": [
    {
     "data": {
      "text/plain": [
       "male      577\n",
       "female    314\n",
       "Name: Sex, dtype: int64"
      ]
     },
     "execution_count": 14,
     "metadata": {},
     "output_type": "execute_result"
    }
   ],
   "source": [
    "df.Sex.value_counts()"
   ]
  },
  {
   "cell_type": "code",
   "execution_count": 15,
   "id": "b3540ea9-f563-4350-8276-16abfce8ded2",
   "metadata": {
    "id": "b3540ea9-f563-4350-8276-16abfce8ded2",
    "outputId": "77aa97c6-12f3-482a-80a2-1cb85f5be8ac"
   },
   "outputs": [
    {
     "data": {
      "text/plain": [
       "0    577\n",
       "1    314\n",
       "Name: if_female, dtype: int64"
      ]
     },
     "execution_count": 15,
     "metadata": {},
     "output_type": "execute_result"
    }
   ],
   "source": [
    "df.if_female.value_counts()"
   ]
  },
  {
   "cell_type": "code",
   "execution_count": 16,
   "id": "465d6319-39e4-41be-9348-54a538cd9158",
   "metadata": {
    "id": "465d6319-39e4-41be-9348-54a538cd9158",
    "outputId": "ff42ffd2-9faa-434c-a76b-9341bd478b12"
   },
   "outputs": [
    {
     "name": "stdout",
     "output_type": "stream",
     "text": [
      "Survived           0\n",
      "Pclass             0\n",
      "Age              177\n",
      "SibSp              0\n",
      "Parch              0\n",
      "Fare               0\n",
      "if_female          0\n",
      "miss_Embarked      0\n",
      "dtype: int64\n"
     ]
    }
   ],
   "source": [
    "df_num = df[df.columns[df.dtypes!='object']]\n",
    "print(df_num.isna().sum())"
   ]
  },
  {
   "cell_type": "markdown",
   "id": "5523b65b-23f7-4142-af7a-a4be68afc4f8",
   "metadata": {
    "id": "5523b65b-23f7-4142-af7a-a4be68afc4f8"
   },
   "source": [
    "### How to deal with missing values"
   ]
  },
  {
   "cell_type": "markdown",
   "id": "1dd1ef9a-5329-4172-b75f-1d8e9e0cacdc",
   "metadata": {
    "id": "1dd1ef9a-5329-4172-b75f-1d8e9e0cacdc"
   },
   "source": [
    "### 1. Drop rows with any missing data"
   ]
  },
  {
   "cell_type": "code",
   "execution_count": 17,
   "id": "5a438dbc-234e-479c-aa44-ed1ef05a8cf6",
   "metadata": {
    "id": "5a438dbc-234e-479c-aa44-ed1ef05a8cf6",
    "outputId": "8353e47d-eb8f-4cb8-cc4e-be8c4b9d8479"
   },
   "outputs": [
    {
     "name": "stdout",
     "output_type": "stream",
     "text": [
      "Survived         0\n",
      "Pclass           0\n",
      "Age              0\n",
      "SibSp            0\n",
      "Parch            0\n",
      "Fare             0\n",
      "if_female        0\n",
      "miss_Embarked    0\n",
      "dtype: int64\n"
     ]
    }
   ],
   "source": [
    "df_nonmiss = df_num.dropna(subset = [\"Age\"])\n",
    "\n",
    "# x = x.dropna()\n",
    "\n",
    "print(df_nonmiss.isna().sum())\n",
    "y = df_nonmiss.pop(target)\n",
    "x = df_nonmiss"
   ]
  },
  {
   "cell_type": "code",
   "execution_count": 18,
   "id": "8ff7409c-deb8-4bcf-bc03-a707efd921bf",
   "metadata": {
    "id": "8ff7409c-deb8-4bcf-bc03-a707efd921bf",
    "outputId": "2b2cc295-1da4-4f10-da40-eb43b90675e0"
   },
   "outputs": [
    {
     "name": "stdout",
     "output_type": "stream",
     "text": [
      "(499, 7) (215, 7)\n",
      "Accuracy:  0.823\n",
      "Precision: 0.747\n",
      "Recall:    0.766\n",
      "F1:        0.756\n"
     ]
    }
   ],
   "source": [
    "X_train,X_test,y_train,y_test=train_test_split(x, y, train_size = 0.7, random_state=412)\n",
    "print(X_train.shape, X_test.shape)\n",
    "\n",
    "lin_model = LinearRegression().fit(X_train, y_train)\n",
    "y_pred_prob = lin_model.predict(X_test)\n",
    "y_pred = (y_pred_prob > 0.5).astype('int')\n",
    "score_prediction(y_test, y_pred)"
   ]
  },
  {
   "cell_type": "markdown",
   "id": "4e8c128c-5398-4146-85d2-8768ce9be56f",
   "metadata": {
    "id": "4e8c128c-5398-4146-85d2-8768ce9be56f",
    "tags": []
   },
   "source": [
    "### 2. Use mean values"
   ]
  },
  {
   "cell_type": "code",
   "execution_count": 19,
   "id": "25b0bfe0-f23d-40f3-a059-7cfa2f24a6e5",
   "metadata": {
    "id": "25b0bfe0-f23d-40f3-a059-7cfa2f24a6e5",
    "outputId": "a8ac7eba-fecc-4b7b-ed36-f2be9bb782fe"
   },
   "outputs": [
    {
     "name": "stdout",
     "output_type": "stream",
     "text": [
      "Survived         0\n",
      "Pclass           0\n",
      "Age              0\n",
      "SibSp            0\n",
      "Parch            0\n",
      "Fare             0\n",
      "if_female        0\n",
      "miss_Embarked    0\n",
      "dtype: int64\n"
     ]
    }
   ],
   "source": [
    "df_nonmiss = df_num.fillna(df_num.mean())\n",
    "print(df_nonmiss.isna().sum())\n",
    "\n",
    "y = df_nonmiss.pop(target)\n",
    "x = df_nonmiss"
   ]
  },
  {
   "cell_type": "code",
   "execution_count": 20,
   "id": "5d4d1377-0afc-4de9-b6be-66d72dd9e25a",
   "metadata": {
    "id": "5d4d1377-0afc-4de9-b6be-66d72dd9e25a",
    "outputId": "7a6031f9-d284-4379-bdc4-b10d6e51b49f"
   },
   "outputs": [
    {
     "name": "stdout",
     "output_type": "stream",
     "text": [
      "(623, 7) (268, 7)\n",
      "Accuracy:  0.799\n",
      "Precision: 0.763\n",
      "Recall:    0.705\n",
      "F1:        0.733\n"
     ]
    }
   ],
   "source": [
    "X_train,X_test,y_train,y_test=train_test_split(x, y, train_size = 0.7, random_state=412)\n",
    "print(X_train.shape, X_test.shape)\n",
    "\n",
    "lin_model = LinearRegression().fit(X_train, y_train)\n",
    "y_pred_prob = lin_model.predict(X_test)\n",
    "y_pred = (y_pred_prob > 0.5).astype('int')\n",
    "score_prediction(y_test, y_pred)"
   ]
  },
  {
   "cell_type": "markdown",
   "id": "20067a33-cd85-411d-9189-e8f30806da27",
   "metadata": {
    "id": "20067a33-cd85-411d-9189-e8f30806da27",
    "tags": []
   },
   "source": [
    "### 3. Use zero values"
   ]
  },
  {
   "cell_type": "code",
   "execution_count": 21,
   "id": "7c0e3fbd-0d2d-4405-9605-0aa753b4d445",
   "metadata": {
    "id": "7c0e3fbd-0d2d-4405-9605-0aa753b4d445",
    "outputId": "4a408904-eee8-4048-d683-2630fca9b824"
   },
   "outputs": [
    {
     "name": "stdout",
     "output_type": "stream",
     "text": [
      "Survived         0\n",
      "Pclass           0\n",
      "Age              0\n",
      "SibSp            0\n",
      "Parch            0\n",
      "Fare             0\n",
      "if_female        0\n",
      "miss_Embarked    0\n",
      "dtype: int64\n"
     ]
    }
   ],
   "source": [
    "df_nonmiss = df_num.fillna(0)\n",
    "print(df_nonmiss.isna().sum())\n",
    "\n",
    "y = df_nonmiss.pop(target)\n",
    "x = df_nonmiss"
   ]
  },
  {
   "cell_type": "code",
   "execution_count": 22,
   "id": "b707497a-58e8-448c-b8d4-cecb80d37327",
   "metadata": {
    "id": "b707497a-58e8-448c-b8d4-cecb80d37327",
    "outputId": "879cdba8-8089-4188-960b-ac2aa22ce4fe"
   },
   "outputs": [
    {
     "name": "stdout",
     "output_type": "stream",
     "text": [
      "(623, 7) (268, 7)\n",
      "Accuracy:  0.799\n",
      "Precision: 0.768\n",
      "Recall:    0.695\n",
      "F1:        0.730\n"
     ]
    }
   ],
   "source": [
    "X_train,X_test,y_train,y_test=train_test_split(x, y, train_size = 0.7, random_state=412)\n",
    "print(X_train.shape, X_test.shape)\n",
    "\n",
    "lin_model = LinearRegression().fit(X_train, y_train)\n",
    "y_pred_prob = lin_model.predict(X_test)\n",
    "y_pred = (y_pred_prob > 0.5).astype('int')\n",
    "score_prediction(y_test, y_pred)"
   ]
  },
  {
   "cell_type": "markdown",
   "id": "d248ea61-2589-4048-bad1-b379955b558c",
   "metadata": {
    "id": "d248ea61-2589-4048-bad1-b379955b558c"
   },
   "source": [
    "### 4. Use mean values + missing_age feature"
   ]
  },
  {
   "cell_type": "code",
   "execution_count": 23,
   "id": "2cc1f8b2-7c74-4016-8b71-034cc0eec5a9",
   "metadata": {
    "id": "2cc1f8b2-7c74-4016-8b71-034cc0eec5a9",
    "outputId": "600fcf07-90f2-4641-d81b-f7217aab4d2c"
   },
   "outputs": [
    {
     "data": {
      "text/html": [
       "<div>\n",
       "<style scoped>\n",
       "    .dataframe tbody tr th:only-of-type {\n",
       "        vertical-align: middle;\n",
       "    }\n",
       "\n",
       "    .dataframe tbody tr th {\n",
       "        vertical-align: top;\n",
       "    }\n",
       "\n",
       "    .dataframe thead th {\n",
       "        text-align: right;\n",
       "    }\n",
       "</style>\n",
       "<table border=\"1\" class=\"dataframe\">\n",
       "  <thead>\n",
       "    <tr style=\"text-align: right;\">\n",
       "      <th></th>\n",
       "      <th>Pclass</th>\n",
       "      <th>Age</th>\n",
       "      <th>SibSp</th>\n",
       "      <th>Parch</th>\n",
       "      <th>Fare</th>\n",
       "      <th>if_female</th>\n",
       "      <th>miss_Embarked</th>\n",
       "      <th>miss_age</th>\n",
       "    </tr>\n",
       "  </thead>\n",
       "  <tbody>\n",
       "    <tr>\n",
       "      <th>886</th>\n",
       "      <td>2</td>\n",
       "      <td>27.0000</td>\n",
       "      <td>0</td>\n",
       "      <td>0</td>\n",
       "      <td>13.0000</td>\n",
       "      <td>0</td>\n",
       "      <td>0</td>\n",
       "      <td>0</td>\n",
       "    </tr>\n",
       "    <tr>\n",
       "      <th>887</th>\n",
       "      <td>1</td>\n",
       "      <td>19.0000</td>\n",
       "      <td>0</td>\n",
       "      <td>0</td>\n",
       "      <td>30.0000</td>\n",
       "      <td>1</td>\n",
       "      <td>0</td>\n",
       "      <td>0</td>\n",
       "    </tr>\n",
       "    <tr>\n",
       "      <th>888</th>\n",
       "      <td>3</td>\n",
       "      <td>29.6991</td>\n",
       "      <td>1</td>\n",
       "      <td>2</td>\n",
       "      <td>23.4500</td>\n",
       "      <td>1</td>\n",
       "      <td>0</td>\n",
       "      <td>1</td>\n",
       "    </tr>\n",
       "    <tr>\n",
       "      <th>889</th>\n",
       "      <td>1</td>\n",
       "      <td>26.0000</td>\n",
       "      <td>0</td>\n",
       "      <td>0</td>\n",
       "      <td>30.0000</td>\n",
       "      <td>0</td>\n",
       "      <td>0</td>\n",
       "      <td>0</td>\n",
       "    </tr>\n",
       "    <tr>\n",
       "      <th>890</th>\n",
       "      <td>3</td>\n",
       "      <td>32.0000</td>\n",
       "      <td>0</td>\n",
       "      <td>0</td>\n",
       "      <td>7.7500</td>\n",
       "      <td>0</td>\n",
       "      <td>0</td>\n",
       "      <td>0</td>\n",
       "    </tr>\n",
       "  </tbody>\n",
       "</table>\n",
       "</div>"
      ],
      "text/plain": [
       "     Pclass     Age  SibSp  Parch    Fare  if_female  miss_Embarked  miss_age\n",
       "886       2 27.0000      0      0 13.0000          0              0         0\n",
       "887       1 19.0000      0      0 30.0000          1              0         0\n",
       "888       3 29.6991      1      2 23.4500          1              0         1\n",
       "889       1 26.0000      0      0 30.0000          0              0         0\n",
       "890       3 32.0000      0      0  7.7500          0              0         0"
      ]
     },
     "execution_count": 23,
     "metadata": {},
     "output_type": "execute_result"
    }
   ],
   "source": [
    "df_nonmiss = df_num.copy()\n",
    "df_nonmiss['miss_age'] = df_nonmiss.Age.isna().astype('int')\n",
    "age_mean = df_nonmiss.Age.mean()\n",
    "df_nonmiss.loc[df_nonmiss.Age.isna(), 'Age'] = age_mean\n",
    "\n",
    "y = df_nonmiss.pop(target)\n",
    "x = df_nonmiss\n",
    "\n",
    "df_nonmiss.tail()"
   ]
  },
  {
   "cell_type": "code",
   "execution_count": 24,
   "id": "342ffd58-55e3-475a-84fb-fd436fb2ec93",
   "metadata": {
    "id": "342ffd58-55e3-475a-84fb-fd436fb2ec93",
    "outputId": "adc7156b-7e6c-49da-e2e2-bc26c7c3b1bc"
   },
   "outputs": [
    {
     "data": {
      "image/png": "[encoded data removed]",
      "text/plain": [
       "<Figure size 1008x792 with 2 Axes>"
      ]
     },
     "metadata": {
      "needs_background": "light"
     },
     "output_type": "display_data"
    }
   ],
   "source": [
    "corr_matrix = x.corr()\n",
    "\n",
    "corr_plot(corr_matrix, \"feature correlation\")"
   ]
  },
  {
   "cell_type": "code",
   "execution_count": 25,
   "id": "7d0187be-a14e-4324-b9c2-62fc4ec11a4e",
   "metadata": {
    "id": "7d0187be-a14e-4324-b9c2-62fc4ec11a4e",
    "outputId": "66506369-4419-4005-c152-594bf37549b6"
   },
   "outputs": [
    {
     "name": "stdout",
     "output_type": "stream",
     "text": [
      "(623, 8) (268, 8)\n",
      "Accuracy:  0.806\n",
      "Precision: 0.785\n",
      "Recall:    0.695\n",
      "F1:        0.737\n"
     ]
    }
   ],
   "source": [
    "X_train,X_test,y_train,y_test=train_test_split(x, y, train_size = 0.7, random_state=412)\n",
    "print(X_train.shape, X_test.shape)\n",
    "\n",
    "lin_model = LinearRegression().fit(X_train, y_train)\n",
    "y_pred_prob = lin_model.predict(X_test)\n",
    "y_pred = (y_pred_prob > 0.5).astype('int')\n",
    "score_prediction(y_test, y_pred)"
   ]
  },
  {
   "cell_type": "markdown",
   "id": "f5acf90d-5b5a-4cfa-aca7-aff878c5cfb7",
   "metadata": {
    "id": "f5acf90d-5b5a-4cfa-aca7-aff878c5cfb7"
   },
   "source": [
    "### 5. Use zero values + missing_age feature"
   ]
  },
  {
   "cell_type": "code",
   "execution_count": 26,
   "id": "8147fd5a-cdb6-43ed-9d3b-3e10e8c8a8f5",
   "metadata": {
    "id": "8147fd5a-cdb6-43ed-9d3b-3e10e8c8a8f5",
    "outputId": "bc0a1f3d-716f-4f6f-918c-5070fe68f0dc"
   },
   "outputs": [
    {
     "data": {
      "text/html": [
       "<div>\n",
       "<style scoped>\n",
       "    .dataframe tbody tr th:only-of-type {\n",
       "        vertical-align: middle;\n",
       "    }\n",
       "\n",
       "    .dataframe tbody tr th {\n",
       "        vertical-align: top;\n",
       "    }\n",
       "\n",
       "    .dataframe thead th {\n",
       "        text-align: right;\n",
       "    }\n",
       "</style>\n",
       "<table border=\"1\" class=\"dataframe\">\n",
       "  <thead>\n",
       "    <tr style=\"text-align: right;\">\n",
       "      <th></th>\n",
       "      <th>Pclass</th>\n",
       "      <th>Age</th>\n",
       "      <th>SibSp</th>\n",
       "      <th>Parch</th>\n",
       "      <th>Fare</th>\n",
       "      <th>if_female</th>\n",
       "      <th>miss_Embarked</th>\n",
       "      <th>miss_age</th>\n",
       "    </tr>\n",
       "  </thead>\n",
       "  <tbody>\n",
       "    <tr>\n",
       "      <th>886</th>\n",
       "      <td>2</td>\n",
       "      <td>27.0000</td>\n",
       "      <td>0</td>\n",
       "      <td>0</td>\n",
       "      <td>13.0000</td>\n",
       "      <td>0</td>\n",
       "      <td>0</td>\n",
       "      <td>0</td>\n",
       "    </tr>\n",
       "    <tr>\n",
       "      <th>887</th>\n",
       "      <td>1</td>\n",
       "      <td>19.0000</td>\n",
       "      <td>0</td>\n",
       "      <td>0</td>\n",
       "      <td>30.0000</td>\n",
       "      <td>1</td>\n",
       "      <td>0</td>\n",
       "      <td>0</td>\n",
       "    </tr>\n",
       "    <tr>\n",
       "      <th>888</th>\n",
       "      <td>3</td>\n",
       "      <td>0.0000</td>\n",
       "      <td>1</td>\n",
       "      <td>2</td>\n",
       "      <td>23.4500</td>\n",
       "      <td>1</td>\n",
       "      <td>0</td>\n",
       "      <td>1</td>\n",
       "    </tr>\n",
       "    <tr>\n",
       "      <th>889</th>\n",
       "      <td>1</td>\n",
       "      <td>26.0000</td>\n",
       "      <td>0</td>\n",
       "      <td>0</td>\n",
       "      <td>30.0000</td>\n",
       "      <td>0</td>\n",
       "      <td>0</td>\n",
       "      <td>0</td>\n",
       "    </tr>\n",
       "    <tr>\n",
       "      <th>890</th>\n",
       "      <td>3</td>\n",
       "      <td>32.0000</td>\n",
       "      <td>0</td>\n",
       "      <td>0</td>\n",
       "      <td>7.7500</td>\n",
       "      <td>0</td>\n",
       "      <td>0</td>\n",
       "      <td>0</td>\n",
       "    </tr>\n",
       "  </tbody>\n",
       "</table>\n",
       "</div>"
      ],
      "text/plain": [
       "     Pclass     Age  SibSp  Parch    Fare  if_female  miss_Embarked  miss_age\n",
       "886       2 27.0000      0      0 13.0000          0              0         0\n",
       "887       1 19.0000      0      0 30.0000          1              0         0\n",
       "888       3  0.0000      1      2 23.4500          1              0         1\n",
       "889       1 26.0000      0      0 30.0000          0              0         0\n",
       "890       3 32.0000      0      0  7.7500          0              0         0"
      ]
     },
     "execution_count": 26,
     "metadata": {},
     "output_type": "execute_result"
    }
   ],
   "source": [
    "df_nonmiss = df_num.copy()\n",
    "df_nonmiss['miss_age'] = df_nonmiss.Age.isna().astype('int')\n",
    "df_nonmiss.loc[df_nonmiss.Age.isna(), 'Age'] = 0\n",
    "\n",
    "y = df_nonmiss.pop(target)\n",
    "x = df_nonmiss\n",
    "\n",
    "df_nonmiss.tail()"
   ]
  },
  {
   "cell_type": "code",
   "execution_count": 27,
   "id": "2eab3a9d-4885-4d4f-a16d-4c905b1eb13f",
   "metadata": {
    "id": "2eab3a9d-4885-4d4f-a16d-4c905b1eb13f",
    "outputId": "5852671f-7128-4bc1-a9b7-5436a86e1dbb"
   },
   "outputs": [
    {
     "name": "stdout",
     "output_type": "stream",
     "text": [
      "(623, 8) (268, 8)\n",
      "Accuracy:  0.806\n",
      "Precision: 0.785\n",
      "Recall:    0.695\n",
      "F1:        0.737\n"
     ]
    }
   ],
   "source": [
    "X_train,X_test,y_train,y_test=train_test_split(x, y, train_size = 0.7, random_state=412)\n",
    "print(X_train.shape, X_test.shape)\n",
    "\n",
    "lin_model = LinearRegression().fit(X_train, y_train)\n",
    "y_pred_prob = lin_model.predict(X_test)\n",
    "y_pred = (y_pred_prob > 0.5).astype('int')\n",
    "score_prediction(y_test, y_pred)"
   ]
  },
  {
   "cell_type": "code",
   "execution_count": 28,
   "id": "6be0dbef-17f1-4bcb-80c2-9758ae1875ad",
   "metadata": {
    "id": "6be0dbef-17f1-4bcb-80c2-9758ae1875ad",
    "outputId": "26b761b0-cfb1-4ec1-a248-82f18179bc70"
   },
   "outputs": [
    {
     "data": {
      "text/html": [
       "\n",
       "    <style>\n",
       "    table.eli5-weights tr:hover {\n",
       "        filter: brightness(85%);\n",
       "    }\n",
       "</style>\n",
       "\n",
       "\n",
       "\n",
       "    \n",
       "\n",
       "    \n",
       "\n",
       "    \n",
       "\n",
       "    \n",
       "\n",
       "    \n",
       "\n",
       "    \n",
       "\n",
       "\n",
       "    \n",
       "\n",
       "    \n",
       "\n",
       "    \n",
       "\n",
       "    \n",
       "\n",
       "    \n",
       "\n",
       "    \n",
       "\n",
       "\n",
       "    \n",
       "\n",
       "    \n",
       "\n",
       "    \n",
       "\n",
       "    \n",
       "\n",
       "    \n",
       "        <table class=\"eli5-weights eli5-feature-importances\" style=\"border-collapse: collapse; border: none; margin-top: 0em; table-layout: auto;\">\n",
       "    <thead>\n",
       "    <tr style=\"border: none;\">\n",
       "        <th style=\"padding: 0 1em 0 0.5em; text-align: right; border: none;\">Weight</th>\n",
       "        <th style=\"padding: 0 0.5em 0 0.5em; text-align: left; border: none;\">Feature</th>\n",
       "    </tr>\n",
       "    </thead>\n",
       "    <tbody>\n",
       "    \n",
       "        <tr style=\"background-color: hsl(120, 100.00%, 80.00%); border: none;\">\n",
       "            <td style=\"padding: 0 1em 0 0.5em; text-align: right; border: none;\">\n",
       "                0.5606\n",
       "                \n",
       "                    &plusmn; 0.0601\n",
       "                \n",
       "            </td>\n",
       "            <td style=\"padding: 0 0.5em 0 0.5em; text-align: left; border: none;\">\n",
       "                if_female\n",
       "            </td>\n",
       "        </tr>\n",
       "    \n",
       "        <tr style=\"background-color: hsl(120, 100.00%, 91.63%); border: none;\">\n",
       "            <td style=\"padding: 0 1em 0 0.5em; text-align: right; border: none;\">\n",
       "                0.1615\n",
       "                \n",
       "                    &plusmn; 0.0231\n",
       "                \n",
       "            </td>\n",
       "            <td style=\"padding: 0 0.5em 0 0.5em; text-align: left; border: none;\">\n",
       "                Pclass\n",
       "            </td>\n",
       "        </tr>\n",
       "    \n",
       "        <tr style=\"background-color: hsl(120, 100.00%, 93.50%); border: none;\">\n",
       "            <td style=\"padding: 0 1em 0 0.5em; text-align: right; border: none;\">\n",
       "                0.1127\n",
       "                \n",
       "                    &plusmn; 0.0433\n",
       "                \n",
       "            </td>\n",
       "            <td style=\"padding: 0 0.5em 0 0.5em; text-align: left; border: none;\">\n",
       "                Age\n",
       "            </td>\n",
       "        </tr>\n",
       "    \n",
       "        <tr style=\"background-color: hsl(120, 100.00%, 98.05%); border: none;\">\n",
       "            <td style=\"padding: 0 1em 0 0.5em; text-align: right; border: none;\">\n",
       "                0.0201\n",
       "                \n",
       "                    &plusmn; 0.0146\n",
       "                \n",
       "            </td>\n",
       "            <td style=\"padding: 0 0.5em 0 0.5em; text-align: left; border: none;\">\n",
       "                SibSp\n",
       "            </td>\n",
       "        </tr>\n",
       "    \n",
       "        <tr style=\"background-color: hsl(120, 100.00%, 98.14%); border: none;\">\n",
       "            <td style=\"padding: 0 1em 0 0.5em; text-align: right; border: none;\">\n",
       "                0.0189\n",
       "                \n",
       "                    &plusmn; 0.0165\n",
       "                \n",
       "            </td>\n",
       "            <td style=\"padding: 0 0.5em 0 0.5em; text-align: left; border: none;\">\n",
       "                miss_age\n",
       "            </td>\n",
       "        </tr>\n",
       "    \n",
       "        <tr style=\"background-color: hsl(120, 100.00%, 99.27%); border: none;\">\n",
       "            <td style=\"padding: 0 1em 0 0.5em; text-align: right; border: none;\">\n",
       "                0.0049\n",
       "                \n",
       "                    &plusmn; 0.0033\n",
       "                \n",
       "            </td>\n",
       "            <td style=\"padding: 0 0.5em 0 0.5em; text-align: left; border: none;\">\n",
       "                Fare\n",
       "            </td>\n",
       "        </tr>\n",
       "    \n",
       "        <tr style=\"background-color: hsl(120, 100.00%, 99.71%); border: none;\">\n",
       "            <td style=\"padding: 0 1em 0 0.5em; text-align: right; border: none;\">\n",
       "                0.0013\n",
       "                \n",
       "                    &plusmn; 0.0018\n",
       "                \n",
       "            </td>\n",
       "            <td style=\"padding: 0 0.5em 0 0.5em; text-align: left; border: none;\">\n",
       "                Parch\n",
       "            </td>\n",
       "        </tr>\n",
       "    \n",
       "        <tr style=\"background-color: hsl(120, 100.00%, 99.80%); border: none;\">\n",
       "            <td style=\"padding: 0 1em 0 0.5em; text-align: right; border: none;\">\n",
       "                0.0008\n",
       "                \n",
       "                    &plusmn; 0.0010\n",
       "                \n",
       "            </td>\n",
       "            <td style=\"padding: 0 0.5em 0 0.5em; text-align: left; border: none;\">\n",
       "                miss_Embarked\n",
       "            </td>\n",
       "        </tr>\n",
       "    \n",
       "    \n",
       "    </tbody>\n",
       "</table>\n",
       "    \n",
       "\n",
       "    \n",
       "\n",
       "\n",
       "    \n",
       "\n",
       "    \n",
       "\n",
       "    \n",
       "\n",
       "    \n",
       "\n",
       "    \n",
       "\n",
       "    \n",
       "\n",
       "\n",
       "\n"
      ],
      "text/plain": [
       "<IPython.core.display.HTML object>"
      ]
     },
     "execution_count": 28,
     "metadata": {},
     "output_type": "execute_result"
    }
   ],
   "source": [
    "lr_perm = PermutationImportance(lin_model, random_state=42).fit(X_test, y_test)\n",
    "eli5.show_weights(lr_perm, feature_names = X_test.columns.tolist())"
   ]
  },
  {
   "cell_type": "markdown",
   "id": "1bf42c85-f0ad-4b63-8713-c91716ec8639",
   "metadata": {
    "id": "1bf42c85-f0ad-4b63-8713-c91716ec8639"
   },
   "source": [
    "### Let's investigate ROC_AUC"
   ]
  },
  {
   "cell_type": "code",
   "execution_count": 29,
   "id": "5c721376-de98-4649-9e27-a1ec8ecdfdd4",
   "metadata": {
    "id": "5c721376-de98-4649-9e27-a1ec8ecdfdd4",
    "outputId": "2b68613c-52e8-436d-d3fa-761969233c4f"
   },
   "outputs": [
    {
     "data": {
      "text/plain": [
       "[0.0, 0.01, 0.02, 0.03, 0.04]"
      ]
     },
     "execution_count": 29,
     "metadata": {},
     "output_type": "execute_result"
    }
   ],
   "source": [
    "thresh_list = list(np.arange(0.0, 1.0, 0.01))\n",
    "thresh_list[0:5]"
   ]
  },
  {
   "cell_type": "markdown",
   "id": "57830fb9-247b-4c8e-89dd-635f458af66b",
   "metadata": {
    "id": "57830fb9-247b-4c8e-89dd-635f458af66b"
   },
   "source": [
    "#### More features model"
   ]
  },
  {
   "cell_type": "code",
   "execution_count": 30,
   "id": "990eeda7-4c21-4bca-a524-53b4ec1dd209",
   "metadata": {
    "id": "990eeda7-4c21-4bca-a524-53b4ec1dd209"
   },
   "outputs": [],
   "source": [
    "df_nonmiss = df_num.copy()\n",
    "# df_nonmiss.loc[1, 'Age']=100000\n",
    "df_nonmiss['miss_age'] = df_nonmiss.Age.isna().astype('int')\n",
    "age_mean = df_nonmiss.Age.mean()\n",
    "df_nonmiss.loc[df_nonmiss.Age.isna(), 'Age'] = age_mean\n",
    "\n",
    "y = df_nonmiss.pop(target)\n",
    "x = df_nonmiss"
   ]
  },
  {
   "cell_type": "code",
   "execution_count": 31,
   "id": "25cc3d30-71ea-4dee-9d12-0f75ffdb10fa",
   "metadata": {
    "id": "25cc3d30-71ea-4dee-9d12-0f75ffdb10fa",
    "outputId": "5bc99f6a-bba8-4c30-df35-fce384e11d96"
   },
   "outputs": [
    {
     "name": "stdout",
     "output_type": "stream",
     "text": [
      "(623, 8) (268, 8)\n",
      "Accuracy:  0.806\n",
      "Precision: 0.785\n",
      "Recall:    0.695\n",
      "F1:        0.737\n"
     ]
    }
   ],
   "source": [
    "X_train,X_test,y_train,y_test=train_test_split(x, y, train_size = 0.7, random_state=412)\n",
    "print(X_train.shape, X_test.shape)\n",
    "\n",
    "lin_model = LinearRegression().fit(X_train, y_train)\n",
    "y_pred_prob = lin_model.predict(X_test)\n",
    "y_pred = (y_pred_prob > 0.5).astype('int')\n",
    "score_prediction(y_test, y_pred)"
   ]
  },
  {
   "cell_type": "code",
   "execution_count": 32,
   "id": "9ff14952-f786-44a7-b741-b7556adeb1da",
   "metadata": {
    "id": "9ff14952-f786-44a7-b741-b7556adeb1da",
    "outputId": "babd274b-9754-4bd2-aa41-6be2a489485c"
   },
   "outputs": [
    {
     "data": {
      "image/png": "[encoded data removed]",
      "text/plain": [
       "<Figure size 432x288 with 1 Axes>"
      ]
     },
     "metadata": {
      "needs_background": "light"
     },
     "output_type": "display_data"
    }
   ],
   "source": [
    "tpr_series = [tpr_thresh(thresh) for thresh in thresh_list]\n",
    "fpr_series = [fpr_thresh(thresh) for thresh in thresh_list]\n",
    "\n",
    "plt.plot(fpr_series, tpr_series)\n",
    "plt.title('ROC curve, all features')\n",
    "plt.show()"
   ]
  },
  {
   "cell_type": "markdown",
   "id": "06346222-daef-40c9-b050-74fd6f220835",
   "metadata": {
    "id": "06346222-daef-40c9-b050-74fd6f220835"
   },
   "source": [
    "#### Simple model"
   ]
  },
  {
   "cell_type": "code",
   "execution_count": 33,
   "id": "29746f95-70ec-417b-b0c1-1e343b20a24b",
   "metadata": {
    "id": "29746f95-70ec-417b-b0c1-1e343b20a24b",
    "outputId": "b6f764a9-99a5-434f-b06f-f1d1ccdbe94d"
   },
   "outputs": [
    {
     "name": "stdout",
     "output_type": "stream",
     "text": [
      "(623, 1) (268, 1)\n",
      "Accuracy:  0.687\n",
      "Precision: 0.667\n",
      "Recall:    0.400\n",
      "F1:        0.500\n"
     ]
    }
   ],
   "source": [
    "df_nonmiss = df_num.copy()\n",
    "\n",
    "y = df_nonmiss.pop(target)\n",
    "x = df_nonmiss[['Pclass']]\n",
    "X_train,X_test,y_train,y_test=train_test_split(x, y, train_size = 0.7, random_state=412)\n",
    "print(X_train.shape, X_test.shape)\n",
    "\n",
    "lin_model = LinearRegression().fit(X_train, y_train)\n",
    "y_pred_prob = lin_model.predict(X_test)\n",
    "y_pred = (y_pred_prob > 0.5).astype('int')\n",
    "score_prediction(y_test, y_pred)"
   ]
  },
  {
   "cell_type": "code",
   "execution_count": 34,
   "id": "fdb17483-1467-4d3e-8c43-b10dc4e3e02e",
   "metadata": {
    "id": "fdb17483-1467-4d3e-8c43-b10dc4e3e02e",
    "outputId": "24043571-84ca-42ae-fde1-69e65da9754f"
   },
   "outputs": [
    {
     "data": {
      "image/png": "[encoded data removed]",
      "text/plain": [
       "<Figure size 432x288 with 1 Axes>"
      ]
     },
     "metadata": {
      "needs_background": "light"
     },
     "output_type": "display_data"
    }
   ],
   "source": [
    "tpr_series_1 = [tpr_thresh(thresh) for thresh in thresh_list]\n",
    "fpr_series_1 = [fpr_thresh(thresh) for thresh in thresh_list]\n",
    "\n",
    "plt.plot(fpr_series_1, tpr_series_1)\n",
    "plt.title('ROC curve, Pclass only')\n",
    "plt.show()"
   ]
  },
  {
   "cell_type": "code",
   "execution_count": 35,
   "id": "7c77adfc-95f1-4cdc-b4a7-ec1d87c0adce",
   "metadata": {
    "id": "7c77adfc-95f1-4cdc-b4a7-ec1d87c0adce",
    "outputId": "95426df9-a359-407d-eee5-245eea77b6cd"
   },
   "outputs": [
    {
     "data": {
      "image/png": "[encoded data removed]",
      "text/plain": [
       "<Figure size 432x288 with 1 Axes>"
      ]
     },
     "metadata": {
      "needs_background": "light"
     },
     "output_type": "display_data"
    }
   ],
   "source": [
    "plt.plot(fpr_series, tpr_series, label='many features')\n",
    "plt.plot(fpr_series_1, tpr_series_1, label='simple model')\n",
    "plt.legend()\n",
    "plt.title('ROC curve, Pclass only')\n",
    "plt.show()"
   ]
  },
  {
   "cell_type": "code",
   "execution_count": 36,
   "id": "64a010ec-e450-488c-a4b7-995be519d005",
   "metadata": {
    "id": "64a010ec-e450-488c-a4b7-995be519d005",
    "outputId": "afcfce11-efa9-40af-aa59-f352120b4507"
   },
   "outputs": [
    {
     "data": {
      "text/plain": [
       "(1.0, 0.0)"
      ]
     },
     "execution_count": 36,
     "metadata": {},
     "output_type": "execute_result"
    }
   ],
   "source": [
    "tpr_thresh(0.1), tpr_thresh(0.9)"
   ]
  },
  {
   "cell_type": "markdown",
   "id": "202c6903-7a67-4b3d-b8ae-a0496eebd0cc",
   "metadata": {
    "id": "202c6903-7a67-4b3d-b8ae-a0496eebd0cc"
   },
   "source": [
    "### How accuracy depends on threshold"
   ]
  },
  {
   "cell_type": "code",
   "execution_count": 37,
   "id": "1e854ad4-bd91-4228-b3f0-df1d87ded0b6",
   "metadata": {
    "id": "1e854ad4-bd91-4228-b3f0-df1d87ded0b6"
   },
   "outputs": [],
   "source": [
    "def accuracy_thresh(thresh, y_test, y_pred_prob):\n",
    "    y_pred = (y_pred_prob > thresh).astype('int')\n",
    "    return accuracy_score(y_test, y_pred)"
   ]
  },
  {
   "cell_type": "code",
   "execution_count": 38,
   "id": "d7a305ae-7edc-4319-b9bc-a15dde05ba53",
   "metadata": {
    "id": "d7a305ae-7edc-4319-b9bc-a15dde05ba53",
    "outputId": "ed96dea5-2316-4149-8f32-aaf0735dfd8f"
   },
   "outputs": [
    {
     "data": {
      "text/html": [
       "\n",
       "    <style>\n",
       "    table.eli5-weights tr:hover {\n",
       "        filter: brightness(85%);\n",
       "    }\n",
       "</style>\n",
       "\n",
       "\n",
       "\n",
       "    \n",
       "\n",
       "    \n",
       "\n",
       "    \n",
       "\n",
       "    \n",
       "\n",
       "    \n",
       "\n",
       "    \n",
       "\n",
       "\n",
       "    \n",
       "\n",
       "    \n",
       "\n",
       "    \n",
       "\n",
       "    \n",
       "\n",
       "    \n",
       "\n",
       "    \n",
       "\n",
       "\n",
       "    \n",
       "\n",
       "    \n",
       "\n",
       "    \n",
       "\n",
       "    \n",
       "\n",
       "    \n",
       "        <table class=\"eli5-weights eli5-feature-importances\" style=\"border-collapse: collapse; border: none; margin-top: 0em; table-layout: auto;\">\n",
       "    <thead>\n",
       "    <tr style=\"border: none;\">\n",
       "        <th style=\"padding: 0 1em 0 0.5em; text-align: right; border: none;\">Weight</th>\n",
       "        <th style=\"padding: 0 0.5em 0 0.5em; text-align: left; border: none;\">Feature</th>\n",
       "    </tr>\n",
       "    </thead>\n",
       "    <tbody>\n",
       "    \n",
       "        <tr style=\"background-color: hsl(120, 100.00%, 80.00%); border: none;\">\n",
       "            <td style=\"padding: 0 1em 0 0.5em; text-align: right; border: none;\">\n",
       "                0.5052\n",
       "                \n",
       "                    &plusmn; 0.1441\n",
       "                \n",
       "            </td>\n",
       "            <td style=\"padding: 0 0.5em 0 0.5em; text-align: left; border: none;\">\n",
       "                if_female\n",
       "            </td>\n",
       "        </tr>\n",
       "    \n",
       "        <tr style=\"background-color: hsl(120, 100.00%, 87.47%); border: none;\">\n",
       "            <td style=\"padding: 0 1em 0 0.5em; text-align: right; border: none;\">\n",
       "                0.2590\n",
       "                \n",
       "                    &plusmn; 0.0863\n",
       "                \n",
       "            </td>\n",
       "            <td style=\"padding: 0 0.5em 0 0.5em; text-align: left; border: none;\">\n",
       "                Pclass\n",
       "            </td>\n",
       "        </tr>\n",
       "    \n",
       "        <tr style=\"background-color: hsl(120, 100.00%, 94.11%); border: none;\">\n",
       "            <td style=\"padding: 0 1em 0 0.5em; text-align: right; border: none;\">\n",
       "                0.0881\n",
       "                \n",
       "                    &plusmn; 0.0418\n",
       "                \n",
       "            </td>\n",
       "            <td style=\"padding: 0 0.5em 0 0.5em; text-align: left; border: none;\">\n",
       "                Age\n",
       "            </td>\n",
       "        </tr>\n",
       "    \n",
       "        <tr style=\"background-color: hsl(120, 100.00%, 97.29%); border: none;\">\n",
       "            <td style=\"padding: 0 1em 0 0.5em; text-align: right; border: none;\">\n",
       "                0.0291\n",
       "                \n",
       "                    &plusmn; 0.0121\n",
       "                \n",
       "            </td>\n",
       "            <td style=\"padding: 0 0.5em 0 0.5em; text-align: left; border: none;\">\n",
       "                SibSp\n",
       "            </td>\n",
       "        </tr>\n",
       "    \n",
       "        <tr style=\"background-color: hsl(120, 100.00%, 99.81%); border: none;\">\n",
       "            <td style=\"padding: 0 1em 0 0.5em; text-align: right; border: none;\">\n",
       "                0.0006\n",
       "                \n",
       "                    &plusmn; 0.0090\n",
       "                \n",
       "            </td>\n",
       "            <td style=\"padding: 0 0.5em 0 0.5em; text-align: left; border: none;\">\n",
       "                miss_Embarked\n",
       "            </td>\n",
       "        </tr>\n",
       "    \n",
       "        <tr style=\"background-color: hsl(120, 100.00%, 99.95%); border: none;\">\n",
       "            <td style=\"padding: 0 1em 0 0.5em; text-align: right; border: none;\">\n",
       "                0.0001\n",
       "                \n",
       "                    &plusmn; 0.0006\n",
       "                \n",
       "            </td>\n",
       "            <td style=\"padding: 0 0.5em 0 0.5em; text-align: left; border: none;\">\n",
       "                Fare\n",
       "            </td>\n",
       "        </tr>\n",
       "    \n",
       "        <tr style=\"background-color: hsl(0, 100.00%, 99.21%); border: none;\">\n",
       "            <td style=\"padding: 0 1em 0 0.5em; text-align: right; border: none;\">\n",
       "                -0.0050\n",
       "                \n",
       "                    &plusmn; 0.0039\n",
       "                \n",
       "            </td>\n",
       "            <td style=\"padding: 0 0.5em 0 0.5em; text-align: left; border: none;\">\n",
       "                Parch\n",
       "            </td>\n",
       "        </tr>\n",
       "    \n",
       "    \n",
       "    </tbody>\n",
       "</table>\n",
       "    \n",
       "\n",
       "    \n",
       "\n",
       "\n",
       "    \n",
       "\n",
       "    \n",
       "\n",
       "    \n",
       "\n",
       "    \n",
       "\n",
       "    \n",
       "\n",
       "    \n",
       "\n",
       "\n",
       "\n"
      ],
      "text/plain": [
       "<IPython.core.display.HTML object>"
      ]
     },
     "execution_count": 38,
     "metadata": {},
     "output_type": "execute_result"
    }
   ],
   "source": [
    "df_nonmiss = df_num.dropna(subset = [\"Age\"])\n",
    "\n",
    "y = df_nonmiss.pop(target)\n",
    "x = df_nonmiss\n",
    "X_train,X_test,y_train,y_test=train_test_split(x, y, train_size = 0.7, random_state=412)\n",
    "\n",
    "lin_model = LinearRegression().fit(X_train, y_train)\n",
    "y_pred_prob = lin_model.predict(X_test)\n",
    "lr_perm = PermutationImportance(lin_model, random_state=42).fit(X_test, y_test)\n",
    "eli5.show_weights(lr_perm, feature_names = X_test.columns.tolist())"
   ]
  },
  {
   "cell_type": "code",
   "execution_count": 39,
   "id": "8580083e-655d-45f2-a792-bc06fc346bb9",
   "metadata": {
    "id": "8580083e-655d-45f2-a792-bc06fc346bb9",
    "outputId": "6a09b228-d2b5-4fda-f2d8-5712d269dc2f"
   },
   "outputs": [
    {
     "data": {
      "image/png": "[encoded data removed]",
      "text/plain": [
       "<Figure size 432x288 with 1 Axes>"
      ]
     },
     "metadata": {
      "needs_background": "light"
     },
     "output_type": "display_data"
    }
   ],
   "source": [
    "accuracy_series = [accuracy_thresh(thresh, y_test, y_pred_prob) for thresh in thresh_list]\n",
    "plt.plot(thresh_list, accuracy_series, label='simple model')\n",
    "plt.legend()\n",
    "plt.title('Accuracy by threshold')\n",
    "plt.show()"
   ]
  },
  {
   "cell_type": "markdown",
   "id": "33561ef9-55c4-4d6a-89d9-70305107ab14",
   "metadata": {
    "id": "33561ef9-55c4-4d6a-89d9-70305107ab14"
   },
   "source": [
    "### HW 1: check (plot) precision_score, recall_score, f1_score for different threshold values"
   ]
  },
  {
   "cell_type": "markdown",
   "id": "5194bf0b-acf8-46fc-904c-180382129ace",
   "metadata": {
    "id": "5194bf0b-acf8-46fc-904c-180382129ace"
   },
   "source": [
    "### Logistic Regression\n",
    "\n",
    "Also called **logit** model\n",
    "\n",
    "**probit** is similar logit, but uses Gaussian distribution instead of sigmoid function "
   ]
  },
  {
   "cell_type": "code",
   "execution_count": 40,
   "id": "c612fd66-4f66-4c39-9c7e-786c6bd79680",
   "metadata": {
    "id": "c612fd66-4f66-4c39-9c7e-786c6bd79680",
    "outputId": "e992fdfd-5ab6-438a-94ad-b194b120315a"
   },
   "outputs": [
    {
     "name": "stdout",
     "output_type": "stream",
     "text": [
      "(623, 1) (268, 1)\n"
     ]
    }
   ],
   "source": [
    "df_nonmiss = df_num.copy()\n",
    "# df_nonmiss.loc[1, 'Age']=100000\n",
    "\n",
    "y = df_nonmiss.pop(target)\n",
    "x = df_nonmiss[['Pclass']]\n",
    "X_train,X_test,y_train,y_test=train_test_split(x, y, train_size = 0.7, random_state=412)\n",
    "print(X_train.shape, X_test.shape)\n",
    "\n",
    "logit_model = LogisticRegression().fit(X_train, y_train)"
   ]
  },
  {
   "cell_type": "code",
   "execution_count": 41,
   "id": "a19e3f7a-829f-4b27-88db-696513a9d580",
   "metadata": {
    "id": "a19e3f7a-829f-4b27-88db-696513a9d580",
    "outputId": "eb72a798-6423-4583-e523-5daf8342d531"
   },
   "outputs": [
    {
     "name": "stdout",
     "output_type": "stream",
     "text": [
      "Accuracy:  0.687\n",
      "Precision: 0.667\n",
      "Recall:    0.400\n",
      "F1:        0.500\n"
     ]
    }
   ],
   "source": [
    "y_pred_prob = logit_model.predict_proba(X_test)\n",
    "y_pred = (y_pred_prob[:,1] > 0.5).astype('int')\n",
    "score_prediction(y_test, y_pred)"
   ]
  },
  {
   "cell_type": "markdown",
   "id": "29c8ae56-dfbc-44a2-b63b-63c326d5d932",
   "metadata": {
    "id": "29c8ae56-dfbc-44a2-b63b-63c326d5d932",
    "tags": []
   },
   "source": [
    "### HW 2: test how sensitive is logistic and linear models to outliers\n",
    "\n",
    "### HW 3: compare results from logit (logistic) and probit models (statsmodels.discrete.discrete_model.Probit)"
   ]
  },
  {
   "cell_type": "markdown",
   "id": "4aa98c4a-4ce2-4987-9e56-f477b115b61d",
   "metadata": {
    "id": "4aa98c4a-4ce2-4987-9e56-f477b115b61d",
    "tags": []
   },
   "source": [
    "## 2022-02-20"
   ]
  },
  {
   "cell_type": "code",
   "execution_count": 42,
   "id": "541ba584-c8ed-4f2b-94d8-b3edc6707319",
   "metadata": {
    "id": "541ba584-c8ed-4f2b-94d8-b3edc6707319",
    "outputId": "81c636a7-f1da-4c05-927e-64ec3fedead4"
   },
   "outputs": [
    {
     "name": "stdout",
     "output_type": "stream",
     "text": [
      "(623, 10) (268, 10)\n",
      "Survival rate in train dataset: 0.38362760834670945, in test dataset: 0.3843283582089552\n"
     ]
    }
   ],
   "source": [
    "df = pd.read_csv('https://github.com/giedriusblazys/SDA_DS_class/raw/main/practice/input/titanic.csv')\n",
    "\n",
    "df = df.drop(columns='PassengerId')\n",
    "df['if_female'] = (df.Sex=='female').astype('int')\n",
    "df['if_embarked_C'] = (df.Embarked=='C').astype('int')\n",
    "df['if_embarked_Q'] = (df.Embarked=='Q').astype('int')\n",
    "df['miss_Embarked'] = df.Embarked.isna().astype('int')\n",
    "\n",
    "target = 'Survived'\n",
    "\n",
    "df_num = df[df.columns[df.dtypes!='object']]\n",
    "\n",
    "df_nonmiss = df_num.copy()\n",
    "# df_nonmiss.loc[1, 'Age']=100000\n",
    "df_nonmiss['miss_age'] = df_nonmiss.Age.isna().astype('int')\n",
    "age_mean = df_nonmiss.Age.mean()\n",
    "df_nonmiss.loc[df_nonmiss.Age.isna(), 'Age'] = age_mean\n",
    "\n",
    "y = df_nonmiss[target]\n",
    "x = df_nonmiss.drop(columns=[target])\n",
    "\n",
    "X_train,X_test,y_train,y_test=train_test_split(x, y, train_size = 0.7, random_state=42, stratify=y)\n",
    "print(X_train.shape, X_test.shape)\n",
    "print(f'Survival rate in train dataset: {y_train.mean()}, in test dataset: {y_test.mean()}')"
   ]
  },
  {
   "cell_type": "code",
   "execution_count": 43,
   "id": "394b8e1d-9886-4d21-93f1-b5632157c4f1",
   "metadata": {
    "id": "394b8e1d-9886-4d21-93f1-b5632157c4f1",
    "outputId": "03fd4b23-cc26-4db9-b5bd-7a672bb31454"
   },
   "outputs": [
    {
     "name": "stdout",
     "output_type": "stream",
     "text": [
      "Accuracy:  0.806\n",
      "Precision: 0.768\n",
      "Recall:    0.709\n",
      "F1:        0.737\n"
     ]
    }
   ],
   "source": [
    "logit_model = LogisticRegression(penalty='none', max_iter=1000).fit(X_train, y_train)\n",
    "y_pred = logit_model.predict(X_test)\n",
    "score_prediction(y_test, y_pred)"
   ]
  },
  {
   "cell_type": "code",
   "execution_count": 44,
   "id": "f94d91fd-8bab-4599-8cf2-bf276f34fc0a",
   "metadata": {
    "id": "f94d91fd-8bab-4599-8cf2-bf276f34fc0a"
   },
   "outputs": [],
   "source": [
    "# #Try scaling\n",
    "# x['if_female'] = x['if_female']*1000\n",
    "\n",
    "# X_train,X_test,y_train,y_test=train_test_split(x, y, train_size = 0.7, random_state=412)\n",
    "# logit_model_scaled = LogisticRegression(penalty='none', max_iter=1000).fit(X_train, y_train)\n",
    "# y_pred = logit_model_scaled.predict(X_test)\n",
    "# score_prediction(y_test, y_pred)\n",
    "\n",
    "# logit_model.coef_[0][5], logit_model_scaled.coef_[0][5]"
   ]
  },
  {
   "cell_type": "code",
   "execution_count": 45,
   "id": "81453f0e-e957-4e64-b0f0-1b9147f9e75a",
   "metadata": {
    "id": "81453f0e-e957-4e64-b0f0-1b9147f9e75a",
    "outputId": "4c47d4bb-a400-4f4a-f66f-290b9e723d41"
   },
   "outputs": [
    {
     "name": "stdout",
     "output_type": "stream",
     "text": [
      "Accuracy:  0.799\n",
      "Precision: 0.753\n",
      "Recall:    0.709\n",
      "F1:        0.730\n"
     ]
    }
   ],
   "source": [
    "logit_model = LogisticRegression(penalty='l2', C=2, max_iter=1000).fit(X_train, y_train)\n",
    "y_pred = logit_model.predict(X_test)\n",
    "score_prediction(y_test, y_pred)"
   ]
  },
  {
   "cell_type": "code",
   "execution_count": 46,
   "id": "265c3e9e-ff62-46fc-b6e5-e43b8190f55d",
   "metadata": {
    "id": "265c3e9e-ff62-46fc-b6e5-e43b8190f55d",
    "outputId": "976abc76-072d-469e-8849-db71ecbe852f"
   },
   "outputs": [
    {
     "name": "stdout",
     "output_type": "stream",
     "text": [
      "Accuracy:  0.791\n",
      "Precision: 0.747\n",
      "Recall:    0.689\n",
      "F1:        0.717\n"
     ]
    }
   ],
   "source": [
    "logit_model = LogisticRegression(penalty='l1', C=1, solver='liblinear', max_iter=1000).fit(X_train, y_train)\n",
    "y_pred = logit_model.predict(X_test)\n",
    "score_prediction(y_test, y_pred)"
   ]
  },
  {
   "cell_type": "code",
   "execution_count": 47,
   "id": "54f178e8-24fb-48ca-b500-7888066a909e",
   "metadata": {
    "id": "54f178e8-24fb-48ca-b500-7888066a909e",
    "outputId": "c9ad6574-e8b6-4e87-8f47-aabbf3fdba3a"
   },
   "outputs": [
    {
     "name": "stdout",
     "output_type": "stream",
     "text": [
      "Accuracy:  0.791\n",
      "Precision: 0.783\n",
      "Recall:    0.631\n",
      "F1:        0.699\n"
     ]
    }
   ],
   "source": [
    "logit_model = LogisticRegression(penalty='elasticnet', C=2, l1_ratio=0.9, solver='saga', max_iter=10000).fit(X_train, y_train)\n",
    "y_pred = logit_model.predict(X_test)\n",
    "score_prediction(y_test, y_pred)"
   ]
  },
  {
   "cell_type": "code",
   "execution_count": 48,
   "id": "6f452965-6200-4d74-ad43-ed237bf08177",
   "metadata": {
    "id": "6f452965-6200-4d74-ad43-ed237bf08177",
    "outputId": "c700a6bb-59f6-4ebd-8de6-e2412e2cf61c"
   },
   "outputs": [
    {
     "name": "stdout",
     "output_type": "stream",
     "text": [
      "Accuracy:  0.799\n",
      "Precision: 0.753\n",
      "Recall:    0.709\n",
      "F1:        0.730\n"
     ]
    }
   ],
   "source": [
    "logit_model = LogisticRegression(penalty='l2', C=2, max_iter=1000).fit(X_train, y_train)\n",
    "y_pred = logit_model.predict(X_test)\n",
    "score_prediction(y_test, y_pred)"
   ]
  },
  {
   "cell_type": "markdown",
   "id": "79e947bf-f4a9-4dd3-b051-2d3c202dc350",
   "metadata": {
    "id": "79e947bf-f4a9-4dd3-b051-2d3c202dc350"
   },
   "source": [
    "### Decision Trees "
   ]
  },
  {
   "cell_type": "code",
   "execution_count": 49,
   "id": "52b4b47d-9de0-40c0-8964-af1f6bd95483",
   "metadata": {
    "id": "52b4b47d-9de0-40c0-8964-af1f6bd95483",
    "outputId": "2bc829ed-cc58-4ff9-c54d-1dcf7cc99877"
   },
   "outputs": [
    {
     "name": "stdout",
     "output_type": "stream",
     "text": [
      "Accuracy:  0.795\n",
      "Precision: 0.864\n",
      "Recall:    0.553\n",
      "F1:        0.675\n"
     ]
    }
   ],
   "source": [
    "tree_model = DecisionTreeClassifier(random_state=42, max_depth=4, min_samples_split=5).fit(X_train, y_train)\n",
    "y_pred = tree_model.predict(X_test)\n",
    "score_prediction(y_test, y_pred)"
   ]
  },
  {
   "cell_type": "code",
   "execution_count": 50,
   "id": "2c56fe68-1041-4cff-9a4d-bd550657c329",
   "metadata": {
    "id": "2c56fe68-1041-4cff-9a4d-bd550657c329",
    "outputId": "41c84b22-26de-4562-b7b8-895806c81d35"
   },
   "outputs": [
    {
     "data": {
      "image/svg+xml": [
       "<?xml version=\"1.0\" encoding=\"UTF-8\" standalone=\"no\"?>\n",
       "<!DOCTYPE svg PUBLIC \"-//W3C//DTD SVG 1.1//EN\"\n",
       " \"http://www.w3.org/Graphics/SVG/1.1/DTD/svg11.dtd\">\n",
       "<!-- Generated by graphviz version 2.50.0 (0)\n",
       " -->\n",
       "<!-- Title: Tree Pages: 1 -->\n",
       "<svg width=\"1556pt\" height=\"477pt\"\n",
       " viewBox=\"0.00 0.00 1556.00 477.00\" xmlns=\"http://www.w3.org/2000/svg\" xmlns:xlink=\"http://www.w3.org/1999/xlink\">\n",
       "<g id=\"graph0\" class=\"graph\" transform=\"scale(1 1) rotate(0) translate(4 473)\">\n",
       "<title>Tree</title>\n",
       "<polygon fill=\"white\" stroke=\"transparent\" points=\"-4,4 -4,-473 1552,-473 1552,4 -4,4\"/>\n",
       "<!-- 0 -->\n",
       "<g id=\"node1\" class=\"node\">\n",
       "<title>0</title>\n",
       "<polygon fill=\"none\" stroke=\"black\" points=\"661.5,-469 536.5,-469 536.5,-401 661.5,-401 661.5,-469\"/>\n",
       "<text text-anchor=\"middle\" x=\"599\" y=\"-453.8\" font-family=\"Helvetica,sans-Serif\" font-size=\"14.00\">if_female &lt;= 0.5</text>\n",
       "<text text-anchor=\"middle\" x=\"599\" y=\"-438.8\" font-family=\"Helvetica,sans-Serif\" font-size=\"14.00\">gini = 0.473</text>\n",
       "<text text-anchor=\"middle\" x=\"599\" y=\"-423.8\" font-family=\"Helvetica,sans-Serif\" font-size=\"14.00\">samples = 623</text>\n",
       "<text text-anchor=\"middle\" x=\"599\" y=\"-408.8\" font-family=\"Helvetica,sans-Serif\" font-size=\"14.00\">value = [384, 239]</text>\n",
       "</g>\n",
       "<!-- 1 -->\n",
       "<g id=\"node2\" class=\"node\">\n",
       "<title>1</title>\n",
       "<polygon fill=\"none\" stroke=\"black\" points=\"416.5,-365 299.5,-365 299.5,-297 416.5,-297 416.5,-365\"/>\n",
       "<text text-anchor=\"middle\" x=\"358\" y=\"-349.8\" font-family=\"Helvetica,sans-Serif\" font-size=\"14.00\">Age &lt;= 3.5</text>\n",
       "<text text-anchor=\"middle\" x=\"358\" y=\"-334.8\" font-family=\"Helvetica,sans-Serif\" font-size=\"14.00\">gini = 0.304</text>\n",
       "<text text-anchor=\"middle\" x=\"358\" y=\"-319.8\" font-family=\"Helvetica,sans-Serif\" font-size=\"14.00\">samples = 406</text>\n",
       "<text text-anchor=\"middle\" x=\"358\" y=\"-304.8\" font-family=\"Helvetica,sans-Serif\" font-size=\"14.00\">value = [330, 76]</text>\n",
       "</g>\n",
       "<!-- 0&#45;&gt;1 -->\n",
       "<g id=\"edge1\" class=\"edge\">\n",
       "<title>0&#45;&gt;1</title>\n",
       "<path fill=\"none\" stroke=\"black\" d=\"M536.31,-407.47C502.53,-393.17 460.8,-375.51 426.21,-360.87\"/>\n",
       "<polygon fill=\"black\" stroke=\"black\" points=\"427.22,-357.5 416.65,-356.82 424.5,-363.94 427.22,-357.5\"/>\n",
       "<text text-anchor=\"middle\" x=\"426.04\" y=\"-376.29\" font-family=\"Helvetica,sans-Serif\" font-size=\"14.00\">True</text>\n",
       "</g>\n",
       "<!-- 12 -->\n",
       "<g id=\"node13\" class=\"node\">\n",
       "<title>12</title>\n",
       "<polygon fill=\"none\" stroke=\"black\" points=\"898.5,-365 781.5,-365 781.5,-297 898.5,-297 898.5,-365\"/>\n",
       "<text text-anchor=\"middle\" x=\"840\" y=\"-349.8\" font-family=\"Helvetica,sans-Serif\" font-size=\"14.00\">Pclass &lt;= 2.5</text>\n",
       "<text text-anchor=\"middle\" x=\"840\" y=\"-334.8\" font-family=\"Helvetica,sans-Serif\" font-size=\"14.00\">gini = 0.374</text>\n",
       "<text text-anchor=\"middle\" x=\"840\" y=\"-319.8\" font-family=\"Helvetica,sans-Serif\" font-size=\"14.00\">samples = 217</text>\n",
       "<text text-anchor=\"middle\" x=\"840\" y=\"-304.8\" font-family=\"Helvetica,sans-Serif\" font-size=\"14.00\">value = [54, 163]</text>\n",
       "</g>\n",
       "<!-- 0&#45;&gt;12 -->\n",
       "<g id=\"edge12\" class=\"edge\">\n",
       "<title>0&#45;&gt;12</title>\n",
       "<path fill=\"none\" stroke=\"black\" d=\"M661.69,-407.47C695.47,-393.17 737.2,-375.51 771.79,-360.87\"/>\n",
       "<polygon fill=\"black\" stroke=\"black\" points=\"773.5,-363.94 781.35,-356.82 770.78,-357.5 773.5,-363.94\"/>\n",
       "<text text-anchor=\"middle\" x=\"771.96\" y=\"-376.29\" font-family=\"Helvetica,sans-Serif\" font-size=\"14.00\">False</text>\n",
       "</g>\n",
       "<!-- 2 -->\n",
       "<g id=\"node3\" class=\"node\">\n",
       "<title>2</title>\n",
       "<polygon fill=\"none\" stroke=\"black\" points=\"219,-261 117,-261 117,-193 219,-193 219,-261\"/>\n",
       "<text text-anchor=\"middle\" x=\"168\" y=\"-245.8\" font-family=\"Helvetica,sans-Serif\" font-size=\"14.00\">SibSp &lt;= 3.0</text>\n",
       "<text text-anchor=\"middle\" x=\"168\" y=\"-230.8\" font-family=\"Helvetica,sans-Serif\" font-size=\"14.00\">gini = 0.153</text>\n",
       "<text text-anchor=\"middle\" x=\"168\" y=\"-215.8\" font-family=\"Helvetica,sans-Serif\" font-size=\"14.00\">samples = 12</text>\n",
       "<text text-anchor=\"middle\" x=\"168\" y=\"-200.8\" font-family=\"Helvetica,sans-Serif\" font-size=\"14.00\">value = [1, 11]</text>\n",
       "</g>\n",
       "<!-- 1&#45;&gt;2 -->\n",
       "<g id=\"edge2\" class=\"edge\">\n",
       "<title>1&#45;&gt;2</title>\n",
       "<path fill=\"none\" stroke=\"black\" d=\"M299.44,-298.56C276.82,-286.42 250.95,-272.53 228.18,-260.31\"/>\n",
       "<polygon fill=\"black\" stroke=\"black\" points=\"229.76,-257.18 219.29,-255.53 226.45,-263.35 229.76,-257.18\"/>\n",
       "</g>\n",
       "<!-- 5 -->\n",
       "<g id=\"node6\" class=\"node\">\n",
       "<title>5</title>\n",
       "<polygon fill=\"none\" stroke=\"black\" points=\"416.5,-261 299.5,-261 299.5,-193 416.5,-193 416.5,-261\"/>\n",
       "<text text-anchor=\"middle\" x=\"358\" y=\"-245.8\" font-family=\"Helvetica,sans-Serif\" font-size=\"14.00\">Pclass &lt;= 1.5</text>\n",
       "<text text-anchor=\"middle\" x=\"358\" y=\"-230.8\" font-family=\"Helvetica,sans-Serif\" font-size=\"14.00\">gini = 0.276</text>\n",
       "<text text-anchor=\"middle\" x=\"358\" y=\"-215.8\" font-family=\"Helvetica,sans-Serif\" font-size=\"14.00\">samples = 394</text>\n",
       "<text text-anchor=\"middle\" x=\"358\" y=\"-200.8\" font-family=\"Helvetica,sans-Serif\" font-size=\"14.00\">value = [329, 65]</text>\n",
       "</g>\n",
       "<!-- 1&#45;&gt;5 -->\n",
       "<g id=\"edge5\" class=\"edge\">\n",
       "<title>1&#45;&gt;5</title>\n",
       "<path fill=\"none\" stroke=\"black\" d=\"M358,-296.88C358,-288.78 358,-279.98 358,-271.47\"/>\n",
       "<polygon fill=\"black\" stroke=\"black\" points=\"361.5,-271.3 358,-261.3 354.5,-271.3 361.5,-271.3\"/>\n",
       "</g>\n",
       "<!-- 3 -->\n",
       "<g id=\"node4\" class=\"node\">\n",
       "<title>3</title>\n",
       "<polygon fill=\"none\" stroke=\"black\" points=\"102,-149.5 0,-149.5 0,-96.5 102,-96.5 102,-149.5\"/>\n",
       "<text text-anchor=\"middle\" x=\"51\" y=\"-134.3\" font-family=\"Helvetica,sans-Serif\" font-size=\"14.00\">gini = 0.0</text>\n",
       "<text text-anchor=\"middle\" x=\"51\" y=\"-119.3\" font-family=\"Helvetica,sans-Serif\" font-size=\"14.00\">samples = 11</text>\n",
       "<text text-anchor=\"middle\" x=\"51\" y=\"-104.3\" font-family=\"Helvetica,sans-Serif\" font-size=\"14.00\">value = [0, 11]</text>\n",
       "</g>\n",
       "<!-- 2&#45;&gt;3 -->\n",
       "<g id=\"edge3\" class=\"edge\">\n",
       "<title>2&#45;&gt;3</title>\n",
       "<path fill=\"none\" stroke=\"black\" d=\"M130.01,-192.88C116.52,-181.12 101.35,-167.89 87.94,-156.2\"/>\n",
       "<polygon fill=\"black\" stroke=\"black\" points=\"90.11,-153.45 80.27,-149.52 85.51,-158.73 90.11,-153.45\"/>\n",
       "</g>\n",
       "<!-- 4 -->\n",
       "<g id=\"node5\" class=\"node\">\n",
       "<title>4</title>\n",
       "<polygon fill=\"none\" stroke=\"black\" points=\"215.5,-149.5 120.5,-149.5 120.5,-96.5 215.5,-96.5 215.5,-149.5\"/>\n",
       "<text text-anchor=\"middle\" x=\"168\" y=\"-134.3\" font-family=\"Helvetica,sans-Serif\" font-size=\"14.00\">gini = 0.0</text>\n",
       "<text text-anchor=\"middle\" x=\"168\" y=\"-119.3\" font-family=\"Helvetica,sans-Serif\" font-size=\"14.00\">samples = 1</text>\n",
       "<text text-anchor=\"middle\" x=\"168\" y=\"-104.3\" font-family=\"Helvetica,sans-Serif\" font-size=\"14.00\">value = [1, 0]</text>\n",
       "</g>\n",
       "<!-- 2&#45;&gt;4 -->\n",
       "<g id=\"edge4\" class=\"edge\">\n",
       "<title>2&#45;&gt;4</title>\n",
       "<path fill=\"none\" stroke=\"black\" d=\"M168,-192.88C168,-182.33 168,-170.6 168,-159.85\"/>\n",
       "<polygon fill=\"black\" stroke=\"black\" points=\"171.5,-159.52 168,-149.52 164.5,-159.52 171.5,-159.52\"/>\n",
       "</g>\n",
       "<!-- 6 -->\n",
       "<g id=\"node7\" class=\"node\">\n",
       "<title>6</title>\n",
       "<polygon fill=\"none\" stroke=\"black\" points=\"344,-157 234,-157 234,-89 344,-89 344,-157\"/>\n",
       "<text text-anchor=\"middle\" x=\"289\" y=\"-141.8\" font-family=\"Helvetica,sans-Serif\" font-size=\"14.00\">Fare &lt;= 26.144</text>\n",
       "<text text-anchor=\"middle\" x=\"289\" y=\"-126.8\" font-family=\"Helvetica,sans-Serif\" font-size=\"14.00\">gini = 0.462</text>\n",
       "<text text-anchor=\"middle\" x=\"289\" y=\"-111.8\" font-family=\"Helvetica,sans-Serif\" font-size=\"14.00\">samples = 80</text>\n",
       "<text text-anchor=\"middle\" x=\"289\" y=\"-96.8\" font-family=\"Helvetica,sans-Serif\" font-size=\"14.00\">value = [51, 29]</text>\n",
       "</g>\n",
       "<!-- 5&#45;&gt;6 -->\n",
       "<g id=\"edge6\" class=\"edge\">\n",
       "<title>5&#45;&gt;6</title>\n",
       "<path fill=\"none\" stroke=\"black\" d=\"M335.6,-192.88C329.75,-184.24 323.38,-174.82 317.27,-165.79\"/>\n",
       "<polygon fill=\"black\" stroke=\"black\" points=\"320.03,-163.62 311.53,-157.3 314.23,-167.54 320.03,-163.62\"/>\n",
       "</g>\n",
       "<!-- 9 -->\n",
       "<g id=\"node10\" class=\"node\">\n",
       "<title>9</title>\n",
       "<polygon fill=\"none\" stroke=\"black\" points=\"479.5,-157 362.5,-157 362.5,-89 479.5,-89 479.5,-157\"/>\n",
       "<text text-anchor=\"middle\" x=\"421\" y=\"-141.8\" font-family=\"Helvetica,sans-Serif\" font-size=\"14.00\">Fare &lt;= 48.092</text>\n",
       "<text text-anchor=\"middle\" x=\"421\" y=\"-126.8\" font-family=\"Helvetica,sans-Serif\" font-size=\"14.00\">gini = 0.203</text>\n",
       "<text text-anchor=\"middle\" x=\"421\" y=\"-111.8\" font-family=\"Helvetica,sans-Serif\" font-size=\"14.00\">samples = 314</text>\n",
       "<text text-anchor=\"middle\" x=\"421\" y=\"-96.8\" font-family=\"Helvetica,sans-Serif\" font-size=\"14.00\">value = [278, 36]</text>\n",
       "</g>\n",
       "<!-- 5&#45;&gt;9 -->\n",
       "<g id=\"edge9\" class=\"edge\">\n",
       "<title>5&#45;&gt;9</title>\n",
       "<path fill=\"none\" stroke=\"black\" d=\"M378.45,-192.88C383.74,-184.33 389.49,-175.01 395.01,-166.07\"/>\n",
       "<polygon fill=\"black\" stroke=\"black\" points=\"398.16,-167.65 400.43,-157.3 392.2,-163.97 398.16,-167.65\"/>\n",
       "</g>\n",
       "<!-- 7 -->\n",
       "<g id=\"node8\" class=\"node\">\n",
       "<title>7</title>\n",
       "<polygon fill=\"none\" stroke=\"black\" points=\"215.5,-53 120.5,-53 120.5,0 215.5,0 215.5,-53\"/>\n",
       "<text text-anchor=\"middle\" x=\"168\" y=\"-37.8\" font-family=\"Helvetica,sans-Serif\" font-size=\"14.00\">gini = 0.0</text>\n",
       "<text text-anchor=\"middle\" x=\"168\" y=\"-22.8\" font-family=\"Helvetica,sans-Serif\" font-size=\"14.00\">samples = 8</text>\n",
       "<text text-anchor=\"middle\" x=\"168\" y=\"-7.8\" font-family=\"Helvetica,sans-Serif\" font-size=\"14.00\">value = [8, 0]</text>\n",
       "</g>\n",
       "<!-- 6&#45;&gt;7 -->\n",
       "<g id=\"edge7\" class=\"edge\">\n",
       "<title>6&#45;&gt;7</title>\n",
       "<path fill=\"none\" stroke=\"black\" d=\"M246.68,-88.95C234.5,-79.43 221.23,-69.07 209.12,-59.62\"/>\n",
       "<polygon fill=\"black\" stroke=\"black\" points=\"210.99,-56.63 200.95,-53.24 206.68,-62.15 210.99,-56.63\"/>\n",
       "</g>\n",
       "<!-- 8 -->\n",
       "<g id=\"node9\" class=\"node\">\n",
       "<title>8</title>\n",
       "<polygon fill=\"none\" stroke=\"black\" points=\"344,-53 234,-53 234,0 344,0 344,-53\"/>\n",
       "<text text-anchor=\"middle\" x=\"289\" y=\"-37.8\" font-family=\"Helvetica,sans-Serif\" font-size=\"14.00\">gini = 0.481</text>\n",
       "<text text-anchor=\"middle\" x=\"289\" y=\"-22.8\" font-family=\"Helvetica,sans-Serif\" font-size=\"14.00\">samples = 72</text>\n",
       "<text text-anchor=\"middle\" x=\"289\" y=\"-7.8\" font-family=\"Helvetica,sans-Serif\" font-size=\"14.00\">value = [43, 29]</text>\n",
       "</g>\n",
       "<!-- 6&#45;&gt;8 -->\n",
       "<g id=\"edge8\" class=\"edge\">\n",
       "<title>6&#45;&gt;8</title>\n",
       "<path fill=\"none\" stroke=\"black\" d=\"M289,-88.95C289,-80.72 289,-71.85 289,-63.48\"/>\n",
       "<polygon fill=\"black\" stroke=\"black\" points=\"292.5,-63.24 289,-53.24 285.5,-63.24 292.5,-63.24\"/>\n",
       "</g>\n",
       "<!-- 10 -->\n",
       "<g id=\"node11\" class=\"node\">\n",
       "<title>10</title>\n",
       "<polygon fill=\"none\" stroke=\"black\" points=\"479.5,-53 362.5,-53 362.5,0 479.5,0 479.5,-53\"/>\n",
       "<text text-anchor=\"middle\" x=\"421\" y=\"-37.8\" font-family=\"Helvetica,sans-Serif\" font-size=\"14.00\">gini = 0.189</text>\n",
       "<text text-anchor=\"middle\" x=\"421\" y=\"-22.8\" font-family=\"Helvetica,sans-Serif\" font-size=\"14.00\">samples = 303</text>\n",
       "<text text-anchor=\"middle\" x=\"421\" y=\"-7.8\" font-family=\"Helvetica,sans-Serif\" font-size=\"14.00\">value = [271, 32]</text>\n",
       "</g>\n",
       "<!-- 9&#45;&gt;10 -->\n",
       "<g id=\"edge10\" class=\"edge\">\n",
       "<title>9&#45;&gt;10</title>\n",
       "<path fill=\"none\" stroke=\"black\" d=\"M421,-88.95C421,-80.72 421,-71.85 421,-63.48\"/>\n",
       "<polygon fill=\"black\" stroke=\"black\" points=\"424.5,-63.24 421,-53.24 417.5,-63.24 424.5,-63.24\"/>\n",
       "</g>\n",
       "<!-- 11 -->\n",
       "<g id=\"node12\" class=\"node\">\n",
       "<title>11</title>\n",
       "<polygon fill=\"none\" stroke=\"black\" points=\"596,-53 498,-53 498,0 596,0 596,-53\"/>\n",
       "<text text-anchor=\"middle\" x=\"547\" y=\"-37.8\" font-family=\"Helvetica,sans-Serif\" font-size=\"14.00\">gini = 0.463</text>\n",
       "<text text-anchor=\"middle\" x=\"547\" y=\"-22.8\" font-family=\"Helvetica,sans-Serif\" font-size=\"14.00\">samples = 11</text>\n",
       "<text text-anchor=\"middle\" x=\"547\" y=\"-7.8\" font-family=\"Helvetica,sans-Serif\" font-size=\"14.00\">value = [7, 4]</text>\n",
       "</g>\n",
       "<!-- 9&#45;&gt;11 -->\n",
       "<g id=\"edge11\" class=\"edge\">\n",
       "<title>9&#45;&gt;11</title>\n",
       "<path fill=\"none\" stroke=\"black\" d=\"M465.07,-88.95C477.88,-79.34 491.83,-68.87 504.54,-59.34\"/>\n",
       "<polygon fill=\"black\" stroke=\"black\" points=\"506.78,-62.04 512.68,-53.24 502.58,-56.44 506.78,-62.04\"/>\n",
       "</g>\n",
       "<!-- 13 -->\n",
       "<g id=\"node14\" class=\"node\">\n",
       "<title>13</title>\n",
       "<polygon fill=\"none\" stroke=\"black\" points=\"895,-261 785,-261 785,-193 895,-193 895,-261\"/>\n",
       "<text text-anchor=\"middle\" x=\"840\" y=\"-245.8\" font-family=\"Helvetica,sans-Serif\" font-size=\"14.00\">Fare &lt;= 28.856</text>\n",
       "<text text-anchor=\"middle\" x=\"840\" y=\"-230.8\" font-family=\"Helvetica,sans-Serif\" font-size=\"14.00\">gini = 0.112</text>\n",
       "<text text-anchor=\"middle\" x=\"840\" y=\"-215.8\" font-family=\"Helvetica,sans-Serif\" font-size=\"14.00\">samples = 117</text>\n",
       "<text text-anchor=\"middle\" x=\"840\" y=\"-200.8\" font-family=\"Helvetica,sans-Serif\" font-size=\"14.00\">value = [7, 110]</text>\n",
       "</g>\n",
       "<!-- 12&#45;&gt;13 -->\n",
       "<g id=\"edge13\" class=\"edge\">\n",
       "<title>12&#45;&gt;13</title>\n",
       "<path fill=\"none\" stroke=\"black\" d=\"M840,-296.88C840,-288.78 840,-279.98 840,-271.47\"/>\n",
       "<polygon fill=\"black\" stroke=\"black\" points=\"843.5,-271.3 840,-261.3 836.5,-271.3 843.5,-271.3\"/>\n",
       "</g>\n",
       "<!-- 20 -->\n",
       "<g id=\"node21\" class=\"node\">\n",
       "<title>20</title>\n",
       "<polygon fill=\"none\" stroke=\"black\" points=\"1248,-261 1138,-261 1138,-193 1248,-193 1248,-261\"/>\n",
       "<text text-anchor=\"middle\" x=\"1193\" y=\"-245.8\" font-family=\"Helvetica,sans-Serif\" font-size=\"14.00\">Fare &lt;= 7.888</text>\n",
       "<text text-anchor=\"middle\" x=\"1193\" y=\"-230.8\" font-family=\"Helvetica,sans-Serif\" font-size=\"14.00\">gini = 0.498</text>\n",
       "<text text-anchor=\"middle\" x=\"1193\" y=\"-215.8\" font-family=\"Helvetica,sans-Serif\" font-size=\"14.00\">samples = 100</text>\n",
       "<text text-anchor=\"middle\" x=\"1193\" y=\"-200.8\" font-family=\"Helvetica,sans-Serif\" font-size=\"14.00\">value = [47, 53]</text>\n",
       "</g>\n",
       "<!-- 12&#45;&gt;20 -->\n",
       "<g id=\"edge20\" class=\"edge\">\n",
       "<title>12&#45;&gt;20</title>\n",
       "<path fill=\"none\" stroke=\"black\" d=\"M898.69,-313.04C962,-294.75 1062.52,-265.7 1128.13,-246.74\"/>\n",
       "<polygon fill=\"black\" stroke=\"black\" points=\"1129.32,-250.04 1137.95,-243.91 1127.37,-243.32 1129.32,-250.04\"/>\n",
       "</g>\n",
       "<!-- 14 -->\n",
       "<g id=\"node15\" class=\"node\">\n",
       "<title>14</title>\n",
       "<polygon fill=\"none\" stroke=\"black\" points=\"831,-157 729,-157 729,-89 831,-89 831,-157\"/>\n",
       "<text text-anchor=\"middle\" x=\"780\" y=\"-141.8\" font-family=\"Helvetica,sans-Serif\" font-size=\"14.00\">Age &lt;= 56.0</text>\n",
       "<text text-anchor=\"middle\" x=\"780\" y=\"-126.8\" font-family=\"Helvetica,sans-Serif\" font-size=\"14.00\">gini = 0.223</text>\n",
       "<text text-anchor=\"middle\" x=\"780\" y=\"-111.8\" font-family=\"Helvetica,sans-Serif\" font-size=\"14.00\">samples = 47</text>\n",
       "<text text-anchor=\"middle\" x=\"780\" y=\"-96.8\" font-family=\"Helvetica,sans-Serif\" font-size=\"14.00\">value = [6, 41]</text>\n",
       "</g>\n",
       "<!-- 13&#45;&gt;14 -->\n",
       "<g id=\"edge14\" class=\"edge\">\n",
       "<title>13&#45;&gt;14</title>\n",
       "<path fill=\"none\" stroke=\"black\" d=\"M820.52,-192.88C815.49,-184.33 810.01,-175.01 804.75,-166.07\"/>\n",
       "<polygon fill=\"black\" stroke=\"black\" points=\"807.67,-164.14 799.59,-157.3 801.64,-167.69 807.67,-164.14\"/>\n",
       "</g>\n",
       "<!-- 17 -->\n",
       "<g id=\"node18\" class=\"node\">\n",
       "<title>17</title>\n",
       "<polygon fill=\"none\" stroke=\"black\" points=\"951,-157 849,-157 849,-89 951,-89 951,-157\"/>\n",
       "<text text-anchor=\"middle\" x=\"900\" y=\"-141.8\" font-family=\"Helvetica,sans-Serif\" font-size=\"14.00\">Parch &lt;= 1.5</text>\n",
       "<text text-anchor=\"middle\" x=\"900\" y=\"-126.8\" font-family=\"Helvetica,sans-Serif\" font-size=\"14.00\">gini = 0.028</text>\n",
       "<text text-anchor=\"middle\" x=\"900\" y=\"-111.8\" font-family=\"Helvetica,sans-Serif\" font-size=\"14.00\">samples = 70</text>\n",
       "<text text-anchor=\"middle\" x=\"900\" y=\"-96.8\" font-family=\"Helvetica,sans-Serif\" font-size=\"14.00\">value = [1, 69]</text>\n",
       "</g>\n",
       "<!-- 13&#45;&gt;17 -->\n",
       "<g id=\"edge17\" class=\"edge\">\n",
       "<title>13&#45;&gt;17</title>\n",
       "<path fill=\"none\" stroke=\"black\" d=\"M859.48,-192.88C864.51,-184.33 869.99,-175.01 875.25,-166.07\"/>\n",
       "<polygon fill=\"black\" stroke=\"black\" points=\"878.36,-167.69 880.41,-157.3 872.33,-164.14 878.36,-167.69\"/>\n",
       "</g>\n",
       "<!-- 15 -->\n",
       "<g id=\"node16\" class=\"node\">\n",
       "<title>15</title>\n",
       "<polygon fill=\"none\" stroke=\"black\" points=\"716,-53 614,-53 614,0 716,0 716,-53\"/>\n",
       "<text text-anchor=\"middle\" x=\"665\" y=\"-37.8\" font-family=\"Helvetica,sans-Serif\" font-size=\"14.00\">gini = 0.194</text>\n",
       "<text text-anchor=\"middle\" x=\"665\" y=\"-22.8\" font-family=\"Helvetica,sans-Serif\" font-size=\"14.00\">samples = 46</text>\n",
       "<text text-anchor=\"middle\" x=\"665\" y=\"-7.8\" font-family=\"Helvetica,sans-Serif\" font-size=\"14.00\">value = [5, 41]</text>\n",
       "</g>\n",
       "<!-- 14&#45;&gt;15 -->\n",
       "<g id=\"edge15\" class=\"edge\">\n",
       "<title>14&#45;&gt;15</title>\n",
       "<path fill=\"none\" stroke=\"black\" d=\"M739.78,-88.95C728.2,-79.43 715.59,-69.07 704.08,-59.62\"/>\n",
       "<polygon fill=\"black\" stroke=\"black\" points=\"706.27,-56.88 696.32,-53.24 701.82,-62.29 706.27,-56.88\"/>\n",
       "</g>\n",
       "<!-- 16 -->\n",
       "<g id=\"node17\" class=\"node\">\n",
       "<title>16</title>\n",
       "<polygon fill=\"none\" stroke=\"black\" points=\"829.5,-53 734.5,-53 734.5,0 829.5,0 829.5,-53\"/>\n",
       "<text text-anchor=\"middle\" x=\"782\" y=\"-37.8\" font-family=\"Helvetica,sans-Serif\" font-size=\"14.00\">gini = 0.0</text>\n",
       "<text text-anchor=\"middle\" x=\"782\" y=\"-22.8\" font-family=\"Helvetica,sans-Serif\" font-size=\"14.00\">samples = 1</text>\n",
       "<text text-anchor=\"middle\" x=\"782\" y=\"-7.8\" font-family=\"Helvetica,sans-Serif\" font-size=\"14.00\">value = [1, 0]</text>\n",
       "</g>\n",
       "<!-- 14&#45;&gt;16 -->\n",
       "<g id=\"edge16\" class=\"edge\">\n",
       "<title>14&#45;&gt;16</title>\n",
       "<path fill=\"none\" stroke=\"black\" d=\"M780.7,-88.95C780.87,-80.72 781.06,-71.85 781.24,-63.48\"/>\n",
       "<polygon fill=\"black\" stroke=\"black\" points=\"784.74,-63.31 781.46,-53.24 777.74,-63.16 784.74,-63.31\"/>\n",
       "</g>\n",
       "<!-- 18 -->\n",
       "<g id=\"node19\" class=\"node\">\n",
       "<title>18</title>\n",
       "<polygon fill=\"none\" stroke=\"black\" points=\"950,-53 848,-53 848,0 950,0 950,-53\"/>\n",
       "<text text-anchor=\"middle\" x=\"899\" y=\"-37.8\" font-family=\"Helvetica,sans-Serif\" font-size=\"14.00\">gini = 0.0</text>\n",
       "<text text-anchor=\"middle\" x=\"899\" y=\"-22.8\" font-family=\"Helvetica,sans-Serif\" font-size=\"14.00\">samples = 58</text>\n",
       "<text text-anchor=\"middle\" x=\"899\" y=\"-7.8\" font-family=\"Helvetica,sans-Serif\" font-size=\"14.00\">value = [0, 58]</text>\n",
       "</g>\n",
       "<!-- 17&#45;&gt;18 -->\n",
       "<g id=\"edge18\" class=\"edge\">\n",
       "<title>17&#45;&gt;18</title>\n",
       "<path fill=\"none\" stroke=\"black\" d=\"M899.65,-88.95C899.56,-80.72 899.47,-71.85 899.38,-63.48\"/>\n",
       "<polygon fill=\"black\" stroke=\"black\" points=\"902.88,-63.2 899.27,-53.24 895.88,-63.27 902.88,-63.2\"/>\n",
       "</g>\n",
       "<!-- 19 -->\n",
       "<g id=\"node20\" class=\"node\">\n",
       "<title>19</title>\n",
       "<polygon fill=\"none\" stroke=\"black\" points=\"1070,-53 968,-53 968,0 1070,0 1070,-53\"/>\n",
       "<text text-anchor=\"middle\" x=\"1019\" y=\"-37.8\" font-family=\"Helvetica,sans-Serif\" font-size=\"14.00\">gini = 0.153</text>\n",
       "<text text-anchor=\"middle\" x=\"1019\" y=\"-22.8\" font-family=\"Helvetica,sans-Serif\" font-size=\"14.00\">samples = 12</text>\n",
       "<text text-anchor=\"middle\" x=\"1019\" y=\"-7.8\" font-family=\"Helvetica,sans-Serif\" font-size=\"14.00\">value = [1, 11]</text>\n",
       "</g>\n",
       "<!-- 17&#45;&gt;19 -->\n",
       "<g id=\"edge19\" class=\"edge\">\n",
       "<title>17&#45;&gt;19</title>\n",
       "<path fill=\"none\" stroke=\"black\" d=\"M941.62,-88.95C953.6,-79.43 966.65,-69.07 978.56,-59.62\"/>\n",
       "<polygon fill=\"black\" stroke=\"black\" points=\"980.94,-62.2 986.59,-53.24 976.58,-56.71 980.94,-62.2\"/>\n",
       "</g>\n",
       "<!-- 21 -->\n",
       "<g id=\"node22\" class=\"node\">\n",
       "<title>21</title>\n",
       "<polygon fill=\"none\" stroke=\"black\" points=\"1244,-157 1142,-157 1142,-89 1244,-89 1244,-157\"/>\n",
       "<text text-anchor=\"middle\" x=\"1193\" y=\"-141.8\" font-family=\"Helvetica,sans-Serif\" font-size=\"14.00\">Age &lt;= 30.1</text>\n",
       "<text text-anchor=\"middle\" x=\"1193\" y=\"-126.8\" font-family=\"Helvetica,sans-Serif\" font-size=\"14.00\">gini = 0.334</text>\n",
       "<text text-anchor=\"middle\" x=\"1193\" y=\"-111.8\" font-family=\"Helvetica,sans-Serif\" font-size=\"14.00\">samples = 33</text>\n",
       "<text text-anchor=\"middle\" x=\"1193\" y=\"-96.8\" font-family=\"Helvetica,sans-Serif\" font-size=\"14.00\">value = [7, 26]</text>\n",
       "</g>\n",
       "<!-- 20&#45;&gt;21 -->\n",
       "<g id=\"edge21\" class=\"edge\">\n",
       "<title>20&#45;&gt;21</title>\n",
       "<path fill=\"none\" stroke=\"black\" d=\"M1193,-192.88C1193,-184.78 1193,-175.98 1193,-167.47\"/>\n",
       "<polygon fill=\"black\" stroke=\"black\" points=\"1196.5,-167.3 1193,-157.3 1189.5,-167.3 1196.5,-167.3\"/>\n",
       "</g>\n",
       "<!-- 24 -->\n",
       "<g id=\"node25\" class=\"node\">\n",
       "<title>24</title>\n",
       "<polygon fill=\"none\" stroke=\"black\" points=\"1426,-157 1316,-157 1316,-89 1426,-89 1426,-157\"/>\n",
       "<text text-anchor=\"middle\" x=\"1371\" y=\"-141.8\" font-family=\"Helvetica,sans-Serif\" font-size=\"14.00\">Age &lt;= 5.5</text>\n",
       "<text text-anchor=\"middle\" x=\"1371\" y=\"-126.8\" font-family=\"Helvetica,sans-Serif\" font-size=\"14.00\">gini = 0.481</text>\n",
       "<text text-anchor=\"middle\" x=\"1371\" y=\"-111.8\" font-family=\"Helvetica,sans-Serif\" font-size=\"14.00\">samples = 67</text>\n",
       "<text text-anchor=\"middle\" x=\"1371\" y=\"-96.8\" font-family=\"Helvetica,sans-Serif\" font-size=\"14.00\">value = [40, 27]</text>\n",
       "</g>\n",
       "<!-- 20&#45;&gt;24 -->\n",
       "<g id=\"edge24\" class=\"edge\">\n",
       "<title>20&#45;&gt;24</title>\n",
       "<path fill=\"none\" stroke=\"black\" d=\"M1248.34,-194.29C1267.02,-183.59 1288.01,-171.56 1307.28,-160.51\"/>\n",
       "<polygon fill=\"black\" stroke=\"black\" points=\"1309.06,-163.53 1316,-155.52 1305.58,-157.45 1309.06,-163.53\"/>\n",
       "</g>\n",
       "<!-- 22 -->\n",
       "<g id=\"node23\" class=\"node\">\n",
       "<title>22</title>\n",
       "<polygon fill=\"none\" stroke=\"black\" points=\"1190,-53 1088,-53 1088,0 1190,0 1190,-53\"/>\n",
       "<text text-anchor=\"middle\" x=\"1139\" y=\"-37.8\" font-family=\"Helvetica,sans-Serif\" font-size=\"14.00\">gini = 0.271</text>\n",
       "<text text-anchor=\"middle\" x=\"1139\" y=\"-22.8\" font-family=\"Helvetica,sans-Serif\" font-size=\"14.00\">samples = 31</text>\n",
       "<text text-anchor=\"middle\" x=\"1139\" y=\"-7.8\" font-family=\"Helvetica,sans-Serif\" font-size=\"14.00\">value = [5, 26]</text>\n",
       "</g>\n",
       "<!-- 21&#45;&gt;22 -->\n",
       "<g id=\"edge22\" class=\"edge\">\n",
       "<title>21&#45;&gt;22</title>\n",
       "<path fill=\"none\" stroke=\"black\" d=\"M1174.11,-88.95C1169.15,-80.26 1163.78,-70.86 1158.77,-62.09\"/>\n",
       "<polygon fill=\"black\" stroke=\"black\" points=\"1161.71,-60.18 1153.71,-53.24 1155.63,-63.66 1161.71,-60.18\"/>\n",
       "</g>\n",
       "<!-- 23 -->\n",
       "<g id=\"node24\" class=\"node\">\n",
       "<title>23</title>\n",
       "<polygon fill=\"none\" stroke=\"black\" points=\"1303.5,-53 1208.5,-53 1208.5,0 1303.5,0 1303.5,-53\"/>\n",
       "<text text-anchor=\"middle\" x=\"1256\" y=\"-37.8\" font-family=\"Helvetica,sans-Serif\" font-size=\"14.00\">gini = 0.0</text>\n",
       "<text text-anchor=\"middle\" x=\"1256\" y=\"-22.8\" font-family=\"Helvetica,sans-Serif\" font-size=\"14.00\">samples = 2</text>\n",
       "<text text-anchor=\"middle\" x=\"1256\" y=\"-7.8\" font-family=\"Helvetica,sans-Serif\" font-size=\"14.00\">value = [2, 0]</text>\n",
       "</g>\n",
       "<!-- 21&#45;&gt;23 -->\n",
       "<g id=\"edge23\" class=\"edge\">\n",
       "<title>21&#45;&gt;23</title>\n",
       "<path fill=\"none\" stroke=\"black\" d=\"M1215.03,-88.95C1220.89,-80.17 1227.22,-70.66 1233.12,-61.82\"/>\n",
       "<polygon fill=\"black\" stroke=\"black\" points=\"1236.21,-63.5 1238.84,-53.24 1230.38,-59.62 1236.21,-63.5\"/>\n",
       "</g>\n",
       "<!-- 25 -->\n",
       "<g id=\"node26\" class=\"node\">\n",
       "<title>25</title>\n",
       "<polygon fill=\"none\" stroke=\"black\" points=\"1420,-53 1322,-53 1322,0 1420,0 1420,-53\"/>\n",
       "<text text-anchor=\"middle\" x=\"1371\" y=\"-37.8\" font-family=\"Helvetica,sans-Serif\" font-size=\"14.00\">gini = 0.298</text>\n",
       "<text text-anchor=\"middle\" x=\"1371\" y=\"-22.8\" font-family=\"Helvetica,sans-Serif\" font-size=\"14.00\">samples = 11</text>\n",
       "<text text-anchor=\"middle\" x=\"1371\" y=\"-7.8\" font-family=\"Helvetica,sans-Serif\" font-size=\"14.00\">value = [2, 9]</text>\n",
       "</g>\n",
       "<!-- 24&#45;&gt;25 -->\n",
       "<g id=\"edge25\" class=\"edge\">\n",
       "<title>24&#45;&gt;25</title>\n",
       "<path fill=\"none\" stroke=\"black\" d=\"M1371,-88.95C1371,-80.72 1371,-71.85 1371,-63.48\"/>\n",
       "<polygon fill=\"black\" stroke=\"black\" points=\"1374.5,-63.24 1371,-53.24 1367.5,-63.24 1374.5,-63.24\"/>\n",
       "</g>\n",
       "<!-- 26 -->\n",
       "<g id=\"node27\" class=\"node\">\n",
       "<title>26</title>\n",
       "<polygon fill=\"none\" stroke=\"black\" points=\"1548,-53 1438,-53 1438,0 1548,0 1548,-53\"/>\n",
       "<text text-anchor=\"middle\" x=\"1493\" y=\"-37.8\" font-family=\"Helvetica,sans-Serif\" font-size=\"14.00\">gini = 0.436</text>\n",
       "<text text-anchor=\"middle\" x=\"1493\" y=\"-22.8\" font-family=\"Helvetica,sans-Serif\" font-size=\"14.00\">samples = 56</text>\n",
       "<text text-anchor=\"middle\" x=\"1493\" y=\"-7.8\" font-family=\"Helvetica,sans-Serif\" font-size=\"14.00\">value = [38, 18]</text>\n",
       "</g>\n",
       "<!-- 24&#45;&gt;26 -->\n",
       "<g id=\"edge26\" class=\"edge\">\n",
       "<title>24&#45;&gt;26</title>\n",
       "<path fill=\"none\" stroke=\"black\" d=\"M1413.67,-88.95C1425.95,-79.43 1439.33,-69.07 1451.54,-59.62\"/>\n",
       "<polygon fill=\"black\" stroke=\"black\" points=\"1454.01,-62.13 1459.77,-53.24 1449.72,-56.59 1454.01,-62.13\"/>\n",
       "</g>\n",
       "</g>\n",
       "</svg>\n"
      ],
      "text/plain": [
       "<graphviz.sources.Source at 0x1a5c4d610>"
      ]
     },
     "execution_count": 50,
     "metadata": {},
     "output_type": "execute_result"
    }
   ],
   "source": [
    "tree_graph = tree.export_graphviz(tree_model, out_file=None, feature_names=x.columns)\n",
    "graphviz.Source(tree_graph)"
   ]
  },
  {
   "cell_type": "code",
   "execution_count": 51,
   "id": "47ef6b11-0bc2-4203-98a8-d0bdf9865279",
   "metadata": {
    "id": "47ef6b11-0bc2-4203-98a8-d0bdf9865279",
    "outputId": "d8a0dadd-3f09-4a0e-accf-488ce749a66f"
   },
   "outputs": [
    {
     "data": {
      "text/html": [
       "<div>\n",
       "<style scoped>\n",
       "    .dataframe tbody tr th:only-of-type {\n",
       "        vertical-align: middle;\n",
       "    }\n",
       "\n",
       "    .dataframe tbody tr th {\n",
       "        vertical-align: top;\n",
       "    }\n",
       "\n",
       "    .dataframe thead th {\n",
       "        text-align: right;\n",
       "    }\n",
       "</style>\n",
       "<table border=\"1\" class=\"dataframe\">\n",
       "  <thead>\n",
       "    <tr style=\"text-align: right;\">\n",
       "      <th></th>\n",
       "      <th>Pclass</th>\n",
       "      <th>Age</th>\n",
       "      <th>SibSp</th>\n",
       "      <th>Parch</th>\n",
       "      <th>Fare</th>\n",
       "      <th>if_female</th>\n",
       "      <th>if_embarked_C</th>\n",
       "      <th>if_embarked_Q</th>\n",
       "      <th>miss_Embarked</th>\n",
       "      <th>miss_age</th>\n",
       "    </tr>\n",
       "  </thead>\n",
       "  <tbody>\n",
       "    <tr>\n",
       "      <th>0</th>\n",
       "      <td>3</td>\n",
       "      <td>22.0000</td>\n",
       "      <td>1</td>\n",
       "      <td>0</td>\n",
       "      <td>7.2500</td>\n",
       "      <td>0</td>\n",
       "      <td>0</td>\n",
       "      <td>0</td>\n",
       "      <td>0</td>\n",
       "      <td>0</td>\n",
       "    </tr>\n",
       "    <tr>\n",
       "      <th>1</th>\n",
       "      <td>1</td>\n",
       "      <td>38.0000</td>\n",
       "      <td>1</td>\n",
       "      <td>0</td>\n",
       "      <td>71.2833</td>\n",
       "      <td>1</td>\n",
       "      <td>1</td>\n",
       "      <td>0</td>\n",
       "      <td>0</td>\n",
       "      <td>0</td>\n",
       "    </tr>\n",
       "    <tr>\n",
       "      <th>2</th>\n",
       "      <td>3</td>\n",
       "      <td>26.0000</td>\n",
       "      <td>0</td>\n",
       "      <td>0</td>\n",
       "      <td>7.9250</td>\n",
       "      <td>1</td>\n",
       "      <td>0</td>\n",
       "      <td>0</td>\n",
       "      <td>0</td>\n",
       "      <td>0</td>\n",
       "    </tr>\n",
       "    <tr>\n",
       "      <th>3</th>\n",
       "      <td>1</td>\n",
       "      <td>35.0000</td>\n",
       "      <td>1</td>\n",
       "      <td>0</td>\n",
       "      <td>53.1000</td>\n",
       "      <td>1</td>\n",
       "      <td>0</td>\n",
       "      <td>0</td>\n",
       "      <td>0</td>\n",
       "      <td>0</td>\n",
       "    </tr>\n",
       "    <tr>\n",
       "      <th>4</th>\n",
       "      <td>3</td>\n",
       "      <td>35.0000</td>\n",
       "      <td>0</td>\n",
       "      <td>0</td>\n",
       "      <td>8.0500</td>\n",
       "      <td>0</td>\n",
       "      <td>0</td>\n",
       "      <td>0</td>\n",
       "      <td>0</td>\n",
       "      <td>0</td>\n",
       "    </tr>\n",
       "    <tr>\n",
       "      <th>5</th>\n",
       "      <td>3</td>\n",
       "      <td>29.6991</td>\n",
       "      <td>0</td>\n",
       "      <td>0</td>\n",
       "      <td>8.4583</td>\n",
       "      <td>0</td>\n",
       "      <td>0</td>\n",
       "      <td>1</td>\n",
       "      <td>0</td>\n",
       "      <td>1</td>\n",
       "    </tr>\n",
       "    <tr>\n",
       "      <th>6</th>\n",
       "      <td>1</td>\n",
       "      <td>54.0000</td>\n",
       "      <td>0</td>\n",
       "      <td>0</td>\n",
       "      <td>51.8625</td>\n",
       "      <td>0</td>\n",
       "      <td>0</td>\n",
       "      <td>0</td>\n",
       "      <td>0</td>\n",
       "      <td>0</td>\n",
       "    </tr>\n",
       "    <tr>\n",
       "      <th>7</th>\n",
       "      <td>3</td>\n",
       "      <td>2.0000</td>\n",
       "      <td>3</td>\n",
       "      <td>1</td>\n",
       "      <td>21.0750</td>\n",
       "      <td>0</td>\n",
       "      <td>0</td>\n",
       "      <td>0</td>\n",
       "      <td>0</td>\n",
       "      <td>0</td>\n",
       "    </tr>\n",
       "    <tr>\n",
       "      <th>8</th>\n",
       "      <td>3</td>\n",
       "      <td>27.0000</td>\n",
       "      <td>0</td>\n",
       "      <td>2</td>\n",
       "      <td>11.1333</td>\n",
       "      <td>1</td>\n",
       "      <td>0</td>\n",
       "      <td>0</td>\n",
       "      <td>0</td>\n",
       "      <td>0</td>\n",
       "    </tr>\n",
       "    <tr>\n",
       "      <th>9</th>\n",
       "      <td>2</td>\n",
       "      <td>14.0000</td>\n",
       "      <td>1</td>\n",
       "      <td>0</td>\n",
       "      <td>30.0708</td>\n",
       "      <td>1</td>\n",
       "      <td>1</td>\n",
       "      <td>0</td>\n",
       "      <td>0</td>\n",
       "      <td>0</td>\n",
       "    </tr>\n",
       "  </tbody>\n",
       "</table>\n",
       "</div>"
      ],
      "text/plain": [
       "   Pclass     Age  SibSp  Parch    Fare  if_female  if_embarked_C  \\\n",
       "0       3 22.0000      1      0  7.2500          0              0   \n",
       "1       1 38.0000      1      0 71.2833          1              1   \n",
       "2       3 26.0000      0      0  7.9250          1              0   \n",
       "3       1 35.0000      1      0 53.1000          1              0   \n",
       "4       3 35.0000      0      0  8.0500          0              0   \n",
       "5       3 29.6991      0      0  8.4583          0              0   \n",
       "6       1 54.0000      0      0 51.8625          0              0   \n",
       "7       3  2.0000      3      1 21.0750          0              0   \n",
       "8       3 27.0000      0      2 11.1333          1              0   \n",
       "9       2 14.0000      1      0 30.0708          1              1   \n",
       "\n",
       "   if_embarked_Q  miss_Embarked  miss_age  \n",
       "0              0              0         0  \n",
       "1              0              0         0  \n",
       "2              0              0         0  \n",
       "3              0              0         0  \n",
       "4              0              0         0  \n",
       "5              1              0         1  \n",
       "6              0              0         0  \n",
       "7              0              0         0  \n",
       "8              0              0         0  \n",
       "9              0              0         0  "
      ]
     },
     "execution_count": 51,
     "metadata": {},
     "output_type": "execute_result"
    }
   ],
   "source": [
    "x.head(10)"
   ]
  },
  {
   "cell_type": "markdown",
   "id": "e2e0c643-a06e-4626-82af-d1a1ac571880",
   "metadata": {
    "id": "e2e0c643-a06e-4626-82af-d1a1ac571880"
   },
   "source": [
    "### Normalization (Standardization)"
   ]
  },
  {
   "cell_type": "markdown",
   "id": "5ad6724f-e14d-4841-8ee0-5ff7c67ce4b5",
   "metadata": {
    "id": "5ad6724f-e14d-4841-8ee0-5ff7c67ce4b5",
    "tags": []
   },
   "source": [
    "#### MinMax scaling"
   ]
  },
  {
   "cell_type": "code",
   "execution_count": 52,
   "id": "3815fc7a-ad7c-4829-99eb-ea0993dc40de",
   "metadata": {
    "id": "3815fc7a-ad7c-4829-99eb-ea0993dc40de"
   },
   "outputs": [],
   "source": [
    "y = df_nonmiss[target]\n",
    "x = df_nonmiss.drop(columns=[target])\n",
    "\n",
    "x_scaled = x.copy()\n",
    "\n",
    "for var in x.columns:\n",
    "    x_scaled[var] =  (x[var] - x[var].min())/(x[var].max() - x[var].min()) \n",
    "\n",
    "X_train,X_test,y_train,y_test=train_test_split(x_scaled, y, train_size = 0.7, random_state=412)"
   ]
  },
  {
   "cell_type": "code",
   "execution_count": 53,
   "id": "a9aa66ed-3f66-4189-a68c-409220fc6aa9",
   "metadata": {
    "id": "a9aa66ed-3f66-4189-a68c-409220fc6aa9",
    "outputId": "c2025e25-c9ac-49ca-b2d8-c7480b54c81a"
   },
   "outputs": [
    {
     "name": "stdout",
     "output_type": "stream",
     "text": [
      "Accuracy:  0.821\n",
      "Precision: 0.794\n",
      "Recall:    0.733\n",
      "F1:        0.762\n"
     ]
    }
   ],
   "source": [
    "logit_model = LogisticRegression(penalty='l2', C=1.5).fit(X_train, y_train)\n",
    "y_pred = logit_model.predict(X_test)\n",
    "score_prediction(y_test, y_pred)"
   ]
  },
  {
   "cell_type": "code",
   "execution_count": 54,
   "id": "6cd4f140-952e-4b0a-8f5f-14ee743c7ccb",
   "metadata": {
    "id": "6cd4f140-952e-4b0a-8f5f-14ee743c7ccb"
   },
   "outputs": [],
   "source": [
    "y = df_nonmiss[target]\n",
    "x = df_nonmiss.drop(columns=[target])\n",
    "\n",
    "X_train,X_test,y_train,y_test=train_test_split(x, y, train_size = 0.7, random_state=412)"
   ]
  },
  {
   "cell_type": "code",
   "execution_count": 55,
   "id": "824a6156-a51b-4864-a007-f2cf67c0ad12",
   "metadata": {
    "id": "824a6156-a51b-4864-a007-f2cf67c0ad12",
    "outputId": "d0cdf90c-b14f-4f25-a5e0-137f16911be7"
   },
   "outputs": [
    {
     "name": "stdout",
     "output_type": "stream",
     "text": [
      "Accuracy:  0.821\n",
      "Precision: 0.794\n",
      "Recall:    0.733\n",
      "F1:        0.762\n"
     ]
    }
   ],
   "source": [
    "min_max_scaler = preprocessing.MinMaxScaler()\n",
    "X_train_minmax = min_max_scaler.fit_transform(X_train)\n",
    "X_test_minmax = min_max_scaler.transform(X_test)\n",
    "\n",
    "logit_model = LogisticRegression(penalty='l2', C=1.5).fit(X_train_minmax, y_train)\n",
    "y_pred = logit_model.predict(X_test_minmax)\n",
    "score_prediction(y_test, y_pred)"
   ]
  },
  {
   "cell_type": "code",
   "execution_count": 56,
   "id": "8485eccc-cb55-4302-98c0-1892a24efb81",
   "metadata": {
    "id": "8485eccc-cb55-4302-98c0-1892a24efb81",
    "outputId": "99ca2043-7968-4f4a-cf7c-36b4f20a99fe"
   },
   "outputs": [
    {
     "name": "stdout",
     "output_type": "stream",
     "text": [
      "Accuracy:  0.784\n",
      "Precision: 0.758\n",
      "Recall:    0.657\n",
      "F1:        0.704\n"
     ]
    }
   ],
   "source": [
    "tree_model = DecisionTreeClassifier(random_state=42, max_depth=16, min_samples_split=5).fit(X_train_minmax, y_train)\n",
    "y_pred = tree_model.predict(X_test_minmax)\n",
    "score_prediction(y_test, y_pred)"
   ]
  },
  {
   "cell_type": "markdown",
   "id": "19879073-67b4-426f-9f34-08d9bf27646b",
   "metadata": {
    "id": "19879073-67b4-426f-9f34-08d9bf27646b"
   },
   "source": [
    "#### Standard scaling\n",
    "\n",
    "Optimal strength of penalty is different depending on type of scaling"
   ]
  },
  {
   "cell_type": "code",
   "execution_count": 57,
   "id": "f9ccbf41-859c-487a-99b5-1278aacfff1e",
   "metadata": {
    "id": "f9ccbf41-859c-487a-99b5-1278aacfff1e",
    "outputId": "2c71e112-610d-4373-c4f3-437fbae9e366"
   },
   "outputs": [
    {
     "name": "stdout",
     "output_type": "stream",
     "text": [
      "Accuracy:  0.821\n",
      "Precision: 0.800\n",
      "Recall:    0.724\n",
      "F1:        0.760\n"
     ]
    }
   ],
   "source": [
    "std_scaler = preprocessing.StandardScaler()\n",
    "X_train_std = std_scaler.fit_transform(X_train)\n",
    "X_test_std = std_scaler.transform(X_test)\n",
    "\n",
    "logit_model = LogisticRegression(penalty='l2', C=0.08).fit(X_train_std, y_train)\n",
    "y_pred = logit_model.predict(X_test_std)\n",
    "score_prediction(y_test, y_pred)"
   ]
  },
  {
   "cell_type": "code",
   "execution_count": 58,
   "id": "0726917d-ce51-443d-aa72-a6b41d340efd",
   "metadata": {
    "id": "0726917d-ce51-443d-aa72-a6b41d340efd",
    "outputId": "fb5566a9-4c9e-4340-d527-d111cf1d8c1a"
   },
   "outputs": [
    {
     "data": {
      "text/plain": [
       "Pclass           0.0000\n",
       "Age             -0.0000\n",
       "SibSp            0.0000\n",
       "Parch           -0.0000\n",
       "Fare            -0.0000\n",
       "if_female        0.0000\n",
       "if_embarked_C   -0.0000\n",
       "if_embarked_Q    0.0000\n",
       "miss_Embarked   -0.0000\n",
       "miss_age        -0.0000\n",
       "dtype: float64"
      ]
     },
     "execution_count": 58,
     "metadata": {},
     "output_type": "execute_result"
    }
   ],
   "source": [
    "pd.DataFrame(X_train_std, columns = x.columns).mean()"
   ]
  },
  {
   "cell_type": "code",
   "execution_count": 59,
   "id": "05ab036c-0d45-430d-a8db-895e67311af6",
   "metadata": {
    "id": "05ab036c-0d45-430d-a8db-895e67311af6",
    "outputId": "b7eb7e3d-87ac-4309-c72a-1db7c96b2c8f"
   },
   "outputs": [
    {
     "data": {
      "text/plain": [
       "Pclass          1.0008\n",
       "Age             1.0008\n",
       "SibSp           1.0008\n",
       "Parch           1.0008\n",
       "Fare            1.0008\n",
       "if_female       1.0008\n",
       "if_embarked_C   1.0008\n",
       "if_embarked_Q   1.0008\n",
       "miss_Embarked   1.0008\n",
       "miss_age        1.0008\n",
       "dtype: float64"
      ]
     },
     "execution_count": 59,
     "metadata": {},
     "output_type": "execute_result"
    }
   ],
   "source": [
    "pd.DataFrame(X_train_std, columns = x.columns).std()"
   ]
  },
  {
   "cell_type": "markdown",
   "id": "ab225ac8-8578-47d6-ba7f-d99f002ec42f",
   "metadata": {
    "id": "ab225ac8-8578-47d6-ba7f-d99f002ec42f"
   },
   "source": [
    "### Binning (Discretization)"
   ]
  },
  {
   "cell_type": "markdown",
   "id": "43aeb17c-577a-4b27-8a13-5599d4095845",
   "metadata": {
    "id": "43aeb17c-577a-4b27-8a13-5599d4095845"
   },
   "source": [
    "#### Manual binning continuous variables to meaningful categories"
   ]
  },
  {
   "cell_type": "code",
   "execution_count": 60,
   "id": "8ee07fa0-80bb-4a33-abf3-2bfe4d6cefa0",
   "metadata": {
    "id": "8ee07fa0-80bb-4a33-abf3-2bfe4d6cefa0",
    "outputId": "c7bc62ea-b8c9-428e-929e-ce07a91c479e"
   },
   "outputs": [
    {
     "data": {
      "text/html": [
       "<div>\n",
       "<style scoped>\n",
       "    .dataframe tbody tr th:only-of-type {\n",
       "        vertical-align: middle;\n",
       "    }\n",
       "\n",
       "    .dataframe tbody tr th {\n",
       "        vertical-align: top;\n",
       "    }\n",
       "\n",
       "    .dataframe thead th {\n",
       "        text-align: right;\n",
       "    }\n",
       "</style>\n",
       "<table border=\"1\" class=\"dataframe\">\n",
       "  <thead>\n",
       "    <tr style=\"text-align: right;\">\n",
       "      <th></th>\n",
       "      <th>Pclass</th>\n",
       "      <th>SibSp</th>\n",
       "      <th>Parch</th>\n",
       "      <th>Fare</th>\n",
       "      <th>if_female</th>\n",
       "      <th>if_embarked_C</th>\n",
       "      <th>if_embarked_Q</th>\n",
       "      <th>miss_Embarked</th>\n",
       "      <th>miss_age</th>\n",
       "      <th>infant</th>\n",
       "      <th>child</th>\n",
       "      <th>youth</th>\n",
       "      <th>adult</th>\n",
       "      <th>senior</th>\n",
       "    </tr>\n",
       "  </thead>\n",
       "  <tbody>\n",
       "    <tr>\n",
       "      <th>886</th>\n",
       "      <td>2</td>\n",
       "      <td>0</td>\n",
       "      <td>0</td>\n",
       "      <td>13.0000</td>\n",
       "      <td>0</td>\n",
       "      <td>0</td>\n",
       "      <td>0</td>\n",
       "      <td>0</td>\n",
       "      <td>0</td>\n",
       "      <td>0</td>\n",
       "      <td>0</td>\n",
       "      <td>0</td>\n",
       "      <td>1</td>\n",
       "      <td>0</td>\n",
       "    </tr>\n",
       "    <tr>\n",
       "      <th>887</th>\n",
       "      <td>1</td>\n",
       "      <td>0</td>\n",
       "      <td>0</td>\n",
       "      <td>30.0000</td>\n",
       "      <td>1</td>\n",
       "      <td>0</td>\n",
       "      <td>0</td>\n",
       "      <td>0</td>\n",
       "      <td>0</td>\n",
       "      <td>0</td>\n",
       "      <td>0</td>\n",
       "      <td>1</td>\n",
       "      <td>0</td>\n",
       "      <td>0</td>\n",
       "    </tr>\n",
       "    <tr>\n",
       "      <th>888</th>\n",
       "      <td>3</td>\n",
       "      <td>1</td>\n",
       "      <td>2</td>\n",
       "      <td>23.4500</td>\n",
       "      <td>1</td>\n",
       "      <td>0</td>\n",
       "      <td>0</td>\n",
       "      <td>0</td>\n",
       "      <td>1</td>\n",
       "      <td>0</td>\n",
       "      <td>0</td>\n",
       "      <td>0</td>\n",
       "      <td>1</td>\n",
       "      <td>0</td>\n",
       "    </tr>\n",
       "    <tr>\n",
       "      <th>889</th>\n",
       "      <td>1</td>\n",
       "      <td>0</td>\n",
       "      <td>0</td>\n",
       "      <td>30.0000</td>\n",
       "      <td>0</td>\n",
       "      <td>1</td>\n",
       "      <td>0</td>\n",
       "      <td>0</td>\n",
       "      <td>0</td>\n",
       "      <td>0</td>\n",
       "      <td>0</td>\n",
       "      <td>0</td>\n",
       "      <td>1</td>\n",
       "      <td>0</td>\n",
       "    </tr>\n",
       "    <tr>\n",
       "      <th>890</th>\n",
       "      <td>3</td>\n",
       "      <td>0</td>\n",
       "      <td>0</td>\n",
       "      <td>7.7500</td>\n",
       "      <td>0</td>\n",
       "      <td>0</td>\n",
       "      <td>1</td>\n",
       "      <td>0</td>\n",
       "      <td>0</td>\n",
       "      <td>0</td>\n",
       "      <td>0</td>\n",
       "      <td>0</td>\n",
       "      <td>1</td>\n",
       "      <td>0</td>\n",
       "    </tr>\n",
       "  </tbody>\n",
       "</table>\n",
       "</div>"
      ],
      "text/plain": [
       "     Pclass  SibSp  Parch    Fare  if_female  if_embarked_C  if_embarked_Q  \\\n",
       "886       2      0      0 13.0000          0              0              0   \n",
       "887       1      0      0 30.0000          1              0              0   \n",
       "888       3      1      2 23.4500          1              0              0   \n",
       "889       1      0      0 30.0000          0              1              0   \n",
       "890       3      0      0  7.7500          0              0              1   \n",
       "\n",
       "     miss_Embarked  miss_age  infant  child  youth  adult  senior  \n",
       "886              0         0       0      0      0      1       0  \n",
       "887              0         0       0      0      1      0       0  \n",
       "888              0         1       0      0      0      1       0  \n",
       "889              0         0       0      0      0      1       0  \n",
       "890              0         0       0      0      0      1       0  "
      ]
     },
     "execution_count": 60,
     "metadata": {},
     "output_type": "execute_result"
    }
   ],
   "source": [
    "y = df_nonmiss[target]\n",
    "x = df_nonmiss.drop(columns=[target])\n",
    "x['infant'] = (x.Age < 2).astype('int')\n",
    "x['child'] = ((x.Age >= 2) & (x.Age < 14)).astype('int')\n",
    "x['youth'] = ((x.Age >= 14) & (x.Age < 21)).astype('int')\n",
    "x['adult'] = ((x.Age >= 21) & (x.Age < 50)).astype('int')\n",
    "x['senior'] = ((x.Age >= 50)).astype('int')\n",
    "x.drop(columns=['Age'], inplace=True)\n",
    "x.tail()"
   ]
  },
  {
   "cell_type": "code",
   "execution_count": 61,
   "id": "f8bee4d0-28ca-42d3-a660-7a0ae4d6592b",
   "metadata": {
    "id": "f8bee4d0-28ca-42d3-a660-7a0ae4d6592b"
   },
   "outputs": [],
   "source": [
    "X_train,X_test,y_train,y_test=train_test_split(x, y, train_size = 0.7, random_state=412)\n",
    "min_max_scaler = preprocessing.MinMaxScaler()\n",
    "X_train_minmax = min_max_scaler.fit_transform(X_train)\n",
    "X_test_minmax = min_max_scaler.transform(X_test)"
   ]
  },
  {
   "cell_type": "code",
   "execution_count": 62,
   "id": "e21129c3-20ae-4063-a016-ac75be085cb6",
   "metadata": {
    "id": "e21129c3-20ae-4063-a016-ac75be085cb6",
    "outputId": "5d963285-f7dd-469c-8afa-07bb2b86ba65"
   },
   "outputs": [
    {
     "name": "stdout",
     "output_type": "stream",
     "text": [
      "Accuracy:  0.828\n",
      "Precision: 0.798\n",
      "Recall:    0.752\n",
      "F1:        0.775\n"
     ]
    }
   ],
   "source": [
    "logit_model = LogisticRegression(penalty='l2', C=1.5).fit(X_train_minmax, y_train)\n",
    "y_pred = logit_model.predict(X_test_minmax)\n",
    "score_prediction(y_test, y_pred)"
   ]
  },
  {
   "cell_type": "code",
   "execution_count": 63,
   "id": "26858050-5223-461e-8fd5-37f6b1805adf",
   "metadata": {
    "id": "26858050-5223-461e-8fd5-37f6b1805adf",
    "outputId": "facb38c2-aedc-4ea3-b89b-49cd302bd55a"
   },
   "outputs": [
    {
     "name": "stdout",
     "output_type": "stream",
     "text": [
      "Accuracy:  0.858\n",
      "Precision: 0.894\n",
      "Recall:    0.724\n",
      "F1:        0.800\n"
     ]
    }
   ],
   "source": [
    "tree_model = DecisionTreeClassifier(random_state=42, max_depth=16, min_samples_split=5).fit(X_train_minmax, y_train)\n",
    "y_pred = tree_model.predict(X_test_minmax)\n",
    "score_prediction(y_test, y_pred)"
   ]
  },
  {
   "cell_type": "markdown",
   "id": "aaeb023e-1c11-4eeb-9ab3-a9ec242ccd8f",
   "metadata": {
    "id": "aaeb023e-1c11-4eeb-9ab3-a9ec242ccd8f"
   },
   "source": [
    "#### Uniform transformation - ordinal encoding"
   ]
  },
  {
   "cell_type": "markdown",
   "id": "d05ccd5d-4685-47a5-ae77-d9dc08ff43e8",
   "metadata": {},
   "source": [
    "![discretization](input/sphx_glr_plot_discretization_strategies_001.png)"
   ]
  },
  {
   "cell_type": "code",
   "execution_count": 69,
   "id": "52fcc716-459a-4300-9dc8-c5612e02fd99",
   "metadata": {
    "id": "52fcc716-459a-4300-9dc8-c5612e02fd99",
    "outputId": "cd902793-d50e-42a3-de45-cdba48b53cf0"
   },
   "outputs": [
    {
     "data": {
      "text/html": [
       "<div>\n",
       "<style scoped>\n",
       "    .dataframe tbody tr th:only-of-type {\n",
       "        vertical-align: middle;\n",
       "    }\n",
       "\n",
       "    .dataframe tbody tr th {\n",
       "        vertical-align: top;\n",
       "    }\n",
       "\n",
       "    .dataframe thead th {\n",
       "        text-align: right;\n",
       "    }\n",
       "</style>\n",
       "<table border=\"1\" class=\"dataframe\">\n",
       "  <thead>\n",
       "    <tr style=\"text-align: right;\">\n",
       "      <th></th>\n",
       "      <th>Pclass</th>\n",
       "      <th>Age</th>\n",
       "      <th>SibSp</th>\n",
       "      <th>Parch</th>\n",
       "      <th>Fare</th>\n",
       "      <th>if_female</th>\n",
       "      <th>if_embarked_C</th>\n",
       "      <th>if_embarked_Q</th>\n",
       "      <th>miss_Embarked</th>\n",
       "      <th>miss_age</th>\n",
       "    </tr>\n",
       "  </thead>\n",
       "  <tbody>\n",
       "    <tr>\n",
       "      <th>0</th>\n",
       "      <td>3</td>\n",
       "      <td>1.0000</td>\n",
       "      <td>1</td>\n",
       "      <td>0</td>\n",
       "      <td>0.0000</td>\n",
       "      <td>0</td>\n",
       "      <td>0</td>\n",
       "      <td>0</td>\n",
       "      <td>0</td>\n",
       "      <td>0</td>\n",
       "    </tr>\n",
       "    <tr>\n",
       "      <th>1</th>\n",
       "      <td>1</td>\n",
       "      <td>2.0000</td>\n",
       "      <td>1</td>\n",
       "      <td>0</td>\n",
       "      <td>0.0000</td>\n",
       "      <td>1</td>\n",
       "      <td>1</td>\n",
       "      <td>0</td>\n",
       "      <td>0</td>\n",
       "      <td>0</td>\n",
       "    </tr>\n",
       "    <tr>\n",
       "      <th>2</th>\n",
       "      <td>3</td>\n",
       "      <td>1.0000</td>\n",
       "      <td>0</td>\n",
       "      <td>0</td>\n",
       "      <td>0.0000</td>\n",
       "      <td>1</td>\n",
       "      <td>0</td>\n",
       "      <td>0</td>\n",
       "      <td>0</td>\n",
       "      <td>0</td>\n",
       "    </tr>\n",
       "    <tr>\n",
       "      <th>3</th>\n",
       "      <td>1</td>\n",
       "      <td>2.0000</td>\n",
       "      <td>1</td>\n",
       "      <td>0</td>\n",
       "      <td>0.0000</td>\n",
       "      <td>1</td>\n",
       "      <td>0</td>\n",
       "      <td>0</td>\n",
       "      <td>0</td>\n",
       "      <td>0</td>\n",
       "    </tr>\n",
       "    <tr>\n",
       "      <th>4</th>\n",
       "      <td>3</td>\n",
       "      <td>2.0000</td>\n",
       "      <td>0</td>\n",
       "      <td>0</td>\n",
       "      <td>0.0000</td>\n",
       "      <td>0</td>\n",
       "      <td>0</td>\n",
       "      <td>0</td>\n",
       "      <td>0</td>\n",
       "      <td>0</td>\n",
       "    </tr>\n",
       "  </tbody>\n",
       "</table>\n",
       "</div>"
      ],
      "text/plain": [
       "   Pclass    Age  SibSp  Parch   Fare  if_female  if_embarked_C  \\\n",
       "0       3 1.0000      1      0 0.0000          0              0   \n",
       "1       1 2.0000      1      0 0.0000          1              1   \n",
       "2       3 1.0000      0      0 0.0000          1              0   \n",
       "3       1 2.0000      1      0 0.0000          1              0   \n",
       "4       3 2.0000      0      0 0.0000          0              0   \n",
       "\n",
       "   if_embarked_Q  miss_Embarked  miss_age  \n",
       "0              0              0         0  \n",
       "1              0              0         0  \n",
       "2              0              0         0  \n",
       "3              0              0         0  \n",
       "4              0              0         0  "
      ]
     },
     "execution_count": 69,
     "metadata": {},
     "output_type": "execute_result"
    }
   ],
   "source": [
    "y = df_nonmiss[target]\n",
    "x = df_nonmiss.drop(columns=[target])\n",
    "\n",
    "transf = preprocessing.KBinsDiscretizer(n_bins = 5, encode = 'ordinal', strategy = 'uniform')\n",
    "\n",
    "features_to_bin = ['Age', 'Fare']\n",
    "# features_to_bin = ['Age']\n",
    "\n",
    "data_binned = transf.fit_transform(x[features_to_bin])\n",
    "\n",
    "x[features_to_bin] = data_binned\n",
    "x.head()"
   ]
  },
  {
   "cell_type": "code",
   "execution_count": 70,
   "id": "c4cbc070-4add-432d-848d-e8219023e69b",
   "metadata": {
    "id": "c4cbc070-4add-432d-848d-e8219023e69b"
   },
   "outputs": [],
   "source": [
    "X_train,X_test,y_train,y_test=train_test_split(x, y, train_size = 0.7, random_state=412)\n",
    "min_max_scaler = preprocessing.MinMaxScaler()\n",
    "X_train_minmax = min_max_scaler.fit_transform(X_train)\n",
    "X_test_minmax = min_max_scaler.transform(X_test)"
   ]
  },
  {
   "cell_type": "code",
   "execution_count": 71,
   "id": "bc2e22c4-8314-4271-ab78-76634f42b740",
   "metadata": {
    "id": "bc2e22c4-8314-4271-ab78-76634f42b740",
    "outputId": "ca6e89f4-4f4b-4f88-c433-3c8b548c2df4"
   },
   "outputs": [
    {
     "name": "stdout",
     "output_type": "stream",
     "text": [
      "Accuracy:  0.817\n",
      "Precision: 0.792\n",
      "Recall:    0.724\n",
      "F1:        0.756\n"
     ]
    }
   ],
   "source": [
    "logit_model = LogisticRegression(penalty='l2', C=1.5).fit(X_train_minmax, y_train)\n",
    "y_pred = logit_model.predict(X_test_minmax)\n",
    "score_prediction(y_test, y_pred)"
   ]
  },
  {
   "cell_type": "markdown",
   "id": "c86e48fd-cbd2-4a0b-aabd-935ff34bd888",
   "metadata": {},
   "source": [
    "#### Uniform transformation - one-hot encoding"
   ]
  },
  {
   "cell_type": "code",
   "execution_count": 84,
   "id": "61df3609-1a20-428a-82fe-1a45f9c847e4",
   "metadata": {},
   "outputs": [
    {
     "data": {
      "text/html": [
       "<div>\n",
       "<style scoped>\n",
       "    .dataframe tbody tr th:only-of-type {\n",
       "        vertical-align: middle;\n",
       "    }\n",
       "\n",
       "    .dataframe tbody tr th {\n",
       "        vertical-align: top;\n",
       "    }\n",
       "\n",
       "    .dataframe thead th {\n",
       "        text-align: right;\n",
       "    }\n",
       "</style>\n",
       "<table border=\"1\" class=\"dataframe\">\n",
       "  <thead>\n",
       "    <tr style=\"text-align: right;\">\n",
       "      <th></th>\n",
       "      <th>Pclass</th>\n",
       "      <th>SibSp</th>\n",
       "      <th>Parch</th>\n",
       "      <th>if_female</th>\n",
       "      <th>if_embarked_C</th>\n",
       "      <th>if_embarked_Q</th>\n",
       "      <th>miss_Embarked</th>\n",
       "      <th>miss_age</th>\n",
       "      <th>Age_0.0</th>\n",
       "      <th>Age_1.0</th>\n",
       "      <th>Age_2.0</th>\n",
       "      <th>Age_3.0</th>\n",
       "      <th>Age_4.0</th>\n",
       "      <th>Fare_0.0</th>\n",
       "      <th>Fare_1.0</th>\n",
       "      <th>Fare_2.0</th>\n",
       "      <th>Fare_3.0</th>\n",
       "      <th>Fare_4.0</th>\n",
       "    </tr>\n",
       "  </thead>\n",
       "  <tbody>\n",
       "    <tr>\n",
       "      <th>858</th>\n",
       "      <td>3</td>\n",
       "      <td>0</td>\n",
       "      <td>3</td>\n",
       "      <td>1</td>\n",
       "      <td>1</td>\n",
       "      <td>0</td>\n",
       "      <td>0</td>\n",
       "      <td>0</td>\n",
       "      <td>0.0000</td>\n",
       "      <td>1.0000</td>\n",
       "      <td>0.0000</td>\n",
       "      <td>0.0000</td>\n",
       "      <td>0.0000</td>\n",
       "      <td>1.0000</td>\n",
       "      <td>0.0000</td>\n",
       "      <td>0.0000</td>\n",
       "      <td>0.0000</td>\n",
       "      <td>0.0000</td>\n",
       "    </tr>\n",
       "    <tr>\n",
       "      <th>66</th>\n",
       "      <td>2</td>\n",
       "      <td>0</td>\n",
       "      <td>0</td>\n",
       "      <td>1</td>\n",
       "      <td>0</td>\n",
       "      <td>0</td>\n",
       "      <td>0</td>\n",
       "      <td>0</td>\n",
       "      <td>0.0000</td>\n",
       "      <td>1.0000</td>\n",
       "      <td>0.0000</td>\n",
       "      <td>0.0000</td>\n",
       "      <td>0.0000</td>\n",
       "      <td>1.0000</td>\n",
       "      <td>0.0000</td>\n",
       "      <td>0.0000</td>\n",
       "      <td>0.0000</td>\n",
       "      <td>0.0000</td>\n",
       "    </tr>\n",
       "    <tr>\n",
       "      <th>245</th>\n",
       "      <td>1</td>\n",
       "      <td>2</td>\n",
       "      <td>0</td>\n",
       "      <td>0</td>\n",
       "      <td>0</td>\n",
       "      <td>1</td>\n",
       "      <td>0</td>\n",
       "      <td>0</td>\n",
       "      <td>0.0000</td>\n",
       "      <td>0.0000</td>\n",
       "      <td>1.0000</td>\n",
       "      <td>0.0000</td>\n",
       "      <td>0.0000</td>\n",
       "      <td>1.0000</td>\n",
       "      <td>0.0000</td>\n",
       "      <td>0.0000</td>\n",
       "      <td>0.0000</td>\n",
       "      <td>0.0000</td>\n",
       "    </tr>\n",
       "    <tr>\n",
       "      <th>140</th>\n",
       "      <td>3</td>\n",
       "      <td>0</td>\n",
       "      <td>2</td>\n",
       "      <td>1</td>\n",
       "      <td>1</td>\n",
       "      <td>0</td>\n",
       "      <td>0</td>\n",
       "      <td>1</td>\n",
       "      <td>0.0000</td>\n",
       "      <td>1.0000</td>\n",
       "      <td>0.0000</td>\n",
       "      <td>0.0000</td>\n",
       "      <td>0.0000</td>\n",
       "      <td>1.0000</td>\n",
       "      <td>0.0000</td>\n",
       "      <td>0.0000</td>\n",
       "      <td>0.0000</td>\n",
       "      <td>0.0000</td>\n",
       "    </tr>\n",
       "    <tr>\n",
       "      <th>366</th>\n",
       "      <td>1</td>\n",
       "      <td>1</td>\n",
       "      <td>0</td>\n",
       "      <td>1</td>\n",
       "      <td>1</td>\n",
       "      <td>0</td>\n",
       "      <td>0</td>\n",
       "      <td>0</td>\n",
       "      <td>0.0000</td>\n",
       "      <td>0.0000</td>\n",
       "      <td>0.0000</td>\n",
       "      <td>1.0000</td>\n",
       "      <td>0.0000</td>\n",
       "      <td>1.0000</td>\n",
       "      <td>0.0000</td>\n",
       "      <td>0.0000</td>\n",
       "      <td>0.0000</td>\n",
       "      <td>0.0000</td>\n",
       "    </tr>\n",
       "  </tbody>\n",
       "</table>\n",
       "</div>"
      ],
      "text/plain": [
       "     Pclass  SibSp  Parch  if_female  if_embarked_C  if_embarked_Q  \\\n",
       "858       3      0      3          1              1              0   \n",
       "66        2      0      0          1              0              0   \n",
       "245       1      2      0          0              0              1   \n",
       "140       3      0      2          1              1              0   \n",
       "366       1      1      0          1              1              0   \n",
       "\n",
       "     miss_Embarked  miss_age  Age_0.0  Age_1.0  Age_2.0  Age_3.0  Age_4.0  \\\n",
       "858              0         0   0.0000   1.0000   0.0000   0.0000   0.0000   \n",
       "66               0         0   0.0000   1.0000   0.0000   0.0000   0.0000   \n",
       "245              0         0   0.0000   0.0000   1.0000   0.0000   0.0000   \n",
       "140              0         1   0.0000   1.0000   0.0000   0.0000   0.0000   \n",
       "366              0         0   0.0000   0.0000   0.0000   1.0000   0.0000   \n",
       "\n",
       "     Fare_0.0  Fare_1.0  Fare_2.0  Fare_3.0  Fare_4.0  \n",
       "858    1.0000    0.0000    0.0000    0.0000    0.0000  \n",
       "66     1.0000    0.0000    0.0000    0.0000    0.0000  \n",
       "245    1.0000    0.0000    0.0000    0.0000    0.0000  \n",
       "140    1.0000    0.0000    0.0000    0.0000    0.0000  \n",
       "366    1.0000    0.0000    0.0000    0.0000    0.0000  "
      ]
     },
     "execution_count": 84,
     "metadata": {},
     "output_type": "execute_result"
    }
   ],
   "source": [
    "y = df_nonmiss[target]\n",
    "x = df_nonmiss.drop(columns=[target])\n",
    "\n",
    "transf = preprocessing.KBinsDiscretizer(n_bins = 5, encode = 'onehot', strategy = 'uniform')\n",
    "\n",
    "# features_to_bin = ['Age', 'Fare']\n",
    "features_to_bin = ['Age', 'Fare']\n",
    "\n",
    "X_train_array = transf.fit_transform(X_train[features_to_bin]).toarray()\n",
    "OH_cols_train = pd.DataFrame(X_train_array, columns = transf.get_feature_names_out())\n",
    "X_test_array = transf.transform(X_test[features_to_bin]).toarray()\n",
    "OH_cols_test = pd.DataFrame(X_test_array, columns = transf.get_feature_names_out())\n",
    "OH_cols_train.index = X_train.index\n",
    "OH_cols_test.index = X_test.index\n",
    "\n",
    "# Remove categorical columns (will replace with one-hot encoding)\n",
    "num_X_train = X_train.drop(features_to_bin, axis=1)\n",
    "num_X_test = X_test.drop(features_to_bin, axis=1)\n",
    "\n",
    "# Add one-hot encoded columns to numerical features\n",
    "OH_X_train = pd.concat([num_X_train, OH_cols_train], axis=1)\n",
    "OH_X_test = pd.concat([num_X_test, OH_cols_test], axis=1)\n",
    "OH_X_train.head()"
   ]
  },
  {
   "cell_type": "code",
   "execution_count": 85,
   "id": "994c852a-1647-4ab9-a7e6-dae0f044c949",
   "metadata": {},
   "outputs": [
    {
     "name": "stdout",
     "output_type": "stream",
     "text": [
      "Accuracy:  0.821\n",
      "Precision: 0.806\n",
      "Recall:    0.714\n",
      "F1:        0.758\n"
     ]
    }
   ],
   "source": [
    "min_max_scaler = preprocessing.MinMaxScaler()\n",
    "X_train_minmax = min_max_scaler.fit_transform(OH_X_train)\n",
    "X_test_minmax = min_max_scaler.transform(OH_X_test)\n",
    "\n",
    "logit_model = LogisticRegression(penalty='l2', C=1.5).fit(X_train_minmax, y_train)\n",
    "y_pred = logit_model.predict(X_test_minmax)\n",
    "score_prediction(y_test, y_pred)"
   ]
  },
  {
   "cell_type": "code",
   "execution_count": 86,
   "id": "174ef627-5f49-4e43-b9c4-6d5a6df20a56",
   "metadata": {},
   "outputs": [
    {
     "name": "stdout",
     "output_type": "stream",
     "text": [
      "Accuracy:  0.795\n",
      "Precision: 0.829\n",
      "Recall:    0.600\n",
      "F1:        0.696\n"
     ]
    }
   ],
   "source": [
    "tree_model = DecisionTreeClassifier(random_state=42, max_depth=16, min_samples_split=5).fit(X_train_minmax, y_train)\n",
    "y_pred = tree_model.predict(X_test_minmax)\n",
    "score_prediction(y_test, y_pred)"
   ]
  },
  {
   "cell_type": "markdown",
   "id": "c41f852d-4c15-40ce-aa76-80e5e4c0a571",
   "metadata": {
    "id": "c41f852d-4c15-40ce-aa76-80e5e4c0a571"
   },
   "source": [
    "#### Quantile transformation\n",
    "\n",
    "Create bins with equal or similar number of records (values)"
   ]
  },
  {
   "cell_type": "code",
   "execution_count": 91,
   "id": "8bbc3fa7-a701-4297-ba90-62e363b31c05",
   "metadata": {
    "id": "52fcc716-459a-4300-9dc8-c5612e02fd99",
    "outputId": "cd902793-d50e-42a3-de45-cdba48b53cf0"
   },
   "outputs": [
    {
     "data": {
      "text/html": [
       "<div>\n",
       "<style scoped>\n",
       "    .dataframe tbody tr th:only-of-type {\n",
       "        vertical-align: middle;\n",
       "    }\n",
       "\n",
       "    .dataframe tbody tr th {\n",
       "        vertical-align: top;\n",
       "    }\n",
       "\n",
       "    .dataframe thead th {\n",
       "        text-align: right;\n",
       "    }\n",
       "</style>\n",
       "<table border=\"1\" class=\"dataframe\">\n",
       "  <thead>\n",
       "    <tr style=\"text-align: right;\">\n",
       "      <th></th>\n",
       "      <th>Pclass</th>\n",
       "      <th>Age</th>\n",
       "      <th>SibSp</th>\n",
       "      <th>Parch</th>\n",
       "      <th>Fare</th>\n",
       "      <th>if_female</th>\n",
       "      <th>if_embarked_C</th>\n",
       "      <th>if_embarked_Q</th>\n",
       "      <th>miss_Embarked</th>\n",
       "      <th>miss_age</th>\n",
       "    </tr>\n",
       "  </thead>\n",
       "  <tbody>\n",
       "    <tr>\n",
       "      <th>0</th>\n",
       "      <td>3</td>\n",
       "      <td>1.0000</td>\n",
       "      <td>1</td>\n",
       "      <td>0</td>\n",
       "      <td>7.2500</td>\n",
       "      <td>0</td>\n",
       "      <td>0</td>\n",
       "      <td>0</td>\n",
       "      <td>0</td>\n",
       "      <td>0</td>\n",
       "    </tr>\n",
       "    <tr>\n",
       "      <th>1</th>\n",
       "      <td>1</td>\n",
       "      <td>4.0000</td>\n",
       "      <td>1</td>\n",
       "      <td>0</td>\n",
       "      <td>71.2833</td>\n",
       "      <td>1</td>\n",
       "      <td>1</td>\n",
       "      <td>0</td>\n",
       "      <td>0</td>\n",
       "      <td>0</td>\n",
       "    </tr>\n",
       "    <tr>\n",
       "      <th>2</th>\n",
       "      <td>3</td>\n",
       "      <td>1.0000</td>\n",
       "      <td>0</td>\n",
       "      <td>0</td>\n",
       "      <td>7.9250</td>\n",
       "      <td>1</td>\n",
       "      <td>0</td>\n",
       "      <td>0</td>\n",
       "      <td>0</td>\n",
       "      <td>0</td>\n",
       "    </tr>\n",
       "    <tr>\n",
       "      <th>3</th>\n",
       "      <td>1</td>\n",
       "      <td>3.0000</td>\n",
       "      <td>1</td>\n",
       "      <td>0</td>\n",
       "      <td>53.1000</td>\n",
       "      <td>1</td>\n",
       "      <td>0</td>\n",
       "      <td>0</td>\n",
       "      <td>0</td>\n",
       "      <td>0</td>\n",
       "    </tr>\n",
       "    <tr>\n",
       "      <th>4</th>\n",
       "      <td>3</td>\n",
       "      <td>3.0000</td>\n",
       "      <td>0</td>\n",
       "      <td>0</td>\n",
       "      <td>8.0500</td>\n",
       "      <td>0</td>\n",
       "      <td>0</td>\n",
       "      <td>0</td>\n",
       "      <td>0</td>\n",
       "      <td>0</td>\n",
       "    </tr>\n",
       "  </tbody>\n",
       "</table>\n",
       "</div>"
      ],
      "text/plain": [
       "   Pclass    Age  SibSp  Parch    Fare  if_female  if_embarked_C  \\\n",
       "0       3 1.0000      1      0  7.2500          0              0   \n",
       "1       1 4.0000      1      0 71.2833          1              1   \n",
       "2       3 1.0000      0      0  7.9250          1              0   \n",
       "3       1 3.0000      1      0 53.1000          1              0   \n",
       "4       3 3.0000      0      0  8.0500          0              0   \n",
       "\n",
       "   if_embarked_Q  miss_Embarked  miss_age  \n",
       "0              0              0         0  \n",
       "1              0              0         0  \n",
       "2              0              0         0  \n",
       "3              0              0         0  \n",
       "4              0              0         0  "
      ]
     },
     "execution_count": 91,
     "metadata": {},
     "output_type": "execute_result"
    }
   ],
   "source": [
    "y = df_nonmiss[target]\n",
    "x = df_nonmiss.drop(columns=[target])\n",
    "\n",
    "transf = preprocessing.KBinsDiscretizer(n_bins = 5, encode = 'ordinal', strategy = 'quantile')\n",
    "\n",
    "# features_to_bin = ['Age', 'Fare']\n",
    "features_to_bin = ['Age']\n",
    "\n",
    "data_binned = transf.fit_transform(x[features_to_bin])\n",
    "\n",
    "x[features_to_bin] = data_binned\n",
    "x.head()"
   ]
  },
  {
   "cell_type": "code",
   "execution_count": 92,
   "id": "a5191453-c464-4d1a-b818-af1d91a0c240",
   "metadata": {
    "id": "c4cbc070-4add-432d-848d-e8219023e69b"
   },
   "outputs": [],
   "source": [
    "X_train,X_test,y_train,y_test=train_test_split(x, y, train_size = 0.7, random_state=412)\n",
    "min_max_scaler = preprocessing.MinMaxScaler()\n",
    "X_train_minmax = min_max_scaler.fit_transform(X_train)\n",
    "X_test_minmax = min_max_scaler.transform(X_test)"
   ]
  },
  {
   "cell_type": "code",
   "execution_count": 93,
   "id": "538951b2-b04a-4b6f-9514-b0ef98a770a9",
   "metadata": {
    "id": "bc2e22c4-8314-4271-ab78-76634f42b740",
    "outputId": "ca6e89f4-4f4b-4f88-c433-3c8b548c2df4"
   },
   "outputs": [
    {
     "name": "stdout",
     "output_type": "stream",
     "text": [
      "Accuracy:  0.828\n",
      "Precision: 0.817\n",
      "Recall:    0.724\n",
      "F1:        0.768\n"
     ]
    }
   ],
   "source": [
    "logit_model = LogisticRegression(penalty='l2', C=1.5).fit(X_train_minmax, y_train)\n",
    "y_pred = logit_model.predict(X_test_minmax)\n",
    "score_prediction(y_test, y_pred)"
   ]
  },
  {
   "cell_type": "code",
   "execution_count": 94,
   "id": "023d42f1-2d08-46de-9155-d6a85b4c52b2",
   "metadata": {},
   "outputs": [
    {
     "data": {
      "text/plain": [
       "3.0000    319\n",
       "4.0000    188\n",
       "1.0000    173\n",
       "0.0000    164\n",
       "2.0000     47\n",
       "Name: Age, dtype: int64"
      ]
     },
     "execution_count": 94,
     "metadata": {},
     "output_type": "execute_result"
    }
   ],
   "source": [
    "x.Age.value_counts()"
   ]
  },
  {
   "cell_type": "code",
   "execution_count": null,
   "id": "8d608ad9-3b5c-49c9-9471-5295f55d6037",
   "metadata": {},
   "outputs": [],
   "source": []
  }
 ],
 "metadata": {
  "colab": {
   "include_colab_link": true,
   "name": "classification.ipynb",
   "provenance": []
  },
  "kernelspec": {
   "display_name": "Python 3 (ipykernel)",
   "language": "python",
   "name": "python3"
  },
  "language_info": {
   "codemirror_mode": {
    "name": "ipython",
    "version": 3
   },
   "file_extension": ".py",
   "mimetype": "text/x-python",
   "name": "python",
   "nbconvert_exporter": "python",
   "pygments_lexer": "ipython3",
   "version": "3.9.10"
  }
 },
 "nbformat": 4,
 "nbformat_minor": 5
}
