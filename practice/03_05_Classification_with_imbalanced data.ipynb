{
 "cells": [
  {
   "cell_type": "markdown",
   "id": "e4f3722d-9a1c-49ca-8ebe-412bb953c2fe",
   "metadata": {
    "tags": []
   },
   "source": [
    "# Classification with Imbalanced Data"
   ]
  },
  {
   "cell_type": "markdown",
   "id": "96841c21-0a26-4981-aba3-567533b20659",
   "metadata": {
    "jp-MarkdownHeadingCollapsed": true,
    "tags": []
   },
   "source": [
    "## setup"
   ]
  },
  {
   "cell_type": "code",
   "execution_count": 1,
   "id": "3893b277-288d-4551-949a-08adf5d86bf0",
   "metadata": {},
   "outputs": [],
   "source": [
    "import pandas as pd\n",
    "import numpy as np # linear algebra\n",
    "from tqdm import tqdm\n",
    "\n",
    "import matplotlib.pyplot as plt\n",
    "import seaborn as sns\n",
    "\n",
    "# sns.set()"
   ]
  },
  {
   "cell_type": "code",
   "execution_count": 2,
   "id": "a454533a-b209-4b0f-8205-025ea1a29ece",
   "metadata": {},
   "outputs": [],
   "source": [
    "from sklearn.metrics import accuracy_score, precision_recall_curve, average_precision_score, auc, roc_curve\n",
    "from sklearn.metrics import confusion_matrix, classification_report, ConfusionMatrixDisplay, SCORERS\n",
    "from sklearn.metrics import accuracy_score, precision_score, recall_score, f1_score\n",
    "from sklearn.model_selection import train_test_split, StratifiedKFold, KFold, LeaveOneOut\n",
    "\n",
    "from sklearn.linear_model import LinearRegression, LogisticRegression\n",
    "from sklearn.tree import DecisionTreeClassifier\n",
    "from sklearn import tree\n",
    "from sklearn import preprocessing\n",
    "\n",
    "import graphviz\n",
    "\n",
    "from sklearn.utils import resample"
   ]
  },
  {
   "cell_type": "code",
   "execution_count": 3,
   "id": "a3718255-2b90-4bef-845a-3c1802b0bd6d",
   "metadata": {},
   "outputs": [],
   "source": [
    "def score_prediction(y_test, y_pred):\n",
    "    print(f'Accuracy:  {accuracy_score(y_test, y_pred):.3f}')\n",
    "    print(f'Precision: {precision_score(y_test, y_pred):.3f}')\n",
    "    print(f'Recall:    {recall_score(y_test, y_pred):.3f}')\n",
    "    print(f'F1:        {f1_score(y_test, y_pred):.3f}')"
   ]
  },
  {
   "cell_type": "code",
   "execution_count": 4,
   "id": "955e8fb4-db62-447b-b8a5-36fa36045cb4",
   "metadata": {},
   "outputs": [],
   "source": [
    "%matplotlib inline\n",
    "%load_ext autoreload\n",
    "%autoreload 2"
   ]
  },
  {
   "cell_type": "markdown",
   "id": "25a6ae65-9275-4604-94ec-3f3d8ea7cf3a",
   "metadata": {
    "tags": []
   },
   "source": [
    "## Credit Card Fraud dataset"
   ]
  },
  {
   "cell_type": "markdown",
   "id": "d4c51bd6-71a0-424e-bda1-2ae9a2766d38",
   "metadata": {
    "tags": []
   },
   "source": [
    "### Data"
   ]
  },
  {
   "cell_type": "markdown",
   "id": "5037bd3b-323a-4c39-a224-edcfd22d8a78",
   "metadata": {},
   "source": [
    "source: https://www.kaggle.com/mlg-ulb/creditcardfraud"
   ]
  },
  {
   "cell_type": "code",
   "execution_count": 5,
   "id": "4a67fb01-652a-4107-bb88-e0f8881e53b2",
   "metadata": {},
   "outputs": [
    {
     "name": "stdout",
     "output_type": "stream",
     "text": [
      "(284807, 31)\n"
     ]
    },
    {
     "data": {
      "text/html": [
       "<div>\n",
       "<style scoped>\n",
       "    .dataframe tbody tr th:only-of-type {\n",
       "        vertical-align: middle;\n",
       "    }\n",
       "\n",
       "    .dataframe tbody tr th {\n",
       "        vertical-align: top;\n",
       "    }\n",
       "\n",
       "    .dataframe thead th {\n",
       "        text-align: right;\n",
       "    }\n",
       "</style>\n",
       "<table border=\"1\" class=\"dataframe\">\n",
       "  <thead>\n",
       "    <tr style=\"text-align: right;\">\n",
       "      <th></th>\n",
       "      <th>Time</th>\n",
       "      <th>V1</th>\n",
       "      <th>V2</th>\n",
       "      <th>V3</th>\n",
       "      <th>V4</th>\n",
       "      <th>V5</th>\n",
       "      <th>V6</th>\n",
       "      <th>V7</th>\n",
       "      <th>V8</th>\n",
       "      <th>V9</th>\n",
       "      <th>...</th>\n",
       "      <th>V21</th>\n",
       "      <th>V22</th>\n",
       "      <th>V23</th>\n",
       "      <th>V24</th>\n",
       "      <th>V25</th>\n",
       "      <th>V26</th>\n",
       "      <th>V27</th>\n",
       "      <th>V28</th>\n",
       "      <th>Amount</th>\n",
       "      <th>Class</th>\n",
       "    </tr>\n",
       "  </thead>\n",
       "  <tbody>\n",
       "    <tr>\n",
       "      <th>0</th>\n",
       "      <td>0.0</td>\n",
       "      <td>-1.359807</td>\n",
       "      <td>-0.072781</td>\n",
       "      <td>2.536347</td>\n",
       "      <td>1.378155</td>\n",
       "      <td>-0.338321</td>\n",
       "      <td>0.462388</td>\n",
       "      <td>0.239599</td>\n",
       "      <td>0.098698</td>\n",
       "      <td>0.363787</td>\n",
       "      <td>...</td>\n",
       "      <td>-0.018307</td>\n",
       "      <td>0.277838</td>\n",
       "      <td>-0.110474</td>\n",
       "      <td>0.066928</td>\n",
       "      <td>0.128539</td>\n",
       "      <td>-0.189115</td>\n",
       "      <td>0.133558</td>\n",
       "      <td>-0.021053</td>\n",
       "      <td>149.62</td>\n",
       "      <td>0</td>\n",
       "    </tr>\n",
       "    <tr>\n",
       "      <th>1</th>\n",
       "      <td>0.0</td>\n",
       "      <td>1.191857</td>\n",
       "      <td>0.266151</td>\n",
       "      <td>0.166480</td>\n",
       "      <td>0.448154</td>\n",
       "      <td>0.060018</td>\n",
       "      <td>-0.082361</td>\n",
       "      <td>-0.078803</td>\n",
       "      <td>0.085102</td>\n",
       "      <td>-0.255425</td>\n",
       "      <td>...</td>\n",
       "      <td>-0.225775</td>\n",
       "      <td>-0.638672</td>\n",
       "      <td>0.101288</td>\n",
       "      <td>-0.339846</td>\n",
       "      <td>0.167170</td>\n",
       "      <td>0.125895</td>\n",
       "      <td>-0.008983</td>\n",
       "      <td>0.014724</td>\n",
       "      <td>2.69</td>\n",
       "      <td>0</td>\n",
       "    </tr>\n",
       "    <tr>\n",
       "      <th>2</th>\n",
       "      <td>1.0</td>\n",
       "      <td>-1.358354</td>\n",
       "      <td>-1.340163</td>\n",
       "      <td>1.773209</td>\n",
       "      <td>0.379780</td>\n",
       "      <td>-0.503198</td>\n",
       "      <td>1.800499</td>\n",
       "      <td>0.791461</td>\n",
       "      <td>0.247676</td>\n",
       "      <td>-1.514654</td>\n",
       "      <td>...</td>\n",
       "      <td>0.247998</td>\n",
       "      <td>0.771679</td>\n",
       "      <td>0.909412</td>\n",
       "      <td>-0.689281</td>\n",
       "      <td>-0.327642</td>\n",
       "      <td>-0.139097</td>\n",
       "      <td>-0.055353</td>\n",
       "      <td>-0.059752</td>\n",
       "      <td>378.66</td>\n",
       "      <td>0</td>\n",
       "    </tr>\n",
       "    <tr>\n",
       "      <th>3</th>\n",
       "      <td>1.0</td>\n",
       "      <td>-0.966272</td>\n",
       "      <td>-0.185226</td>\n",
       "      <td>1.792993</td>\n",
       "      <td>-0.863291</td>\n",
       "      <td>-0.010309</td>\n",
       "      <td>1.247203</td>\n",
       "      <td>0.237609</td>\n",
       "      <td>0.377436</td>\n",
       "      <td>-1.387024</td>\n",
       "      <td>...</td>\n",
       "      <td>-0.108300</td>\n",
       "      <td>0.005274</td>\n",
       "      <td>-0.190321</td>\n",
       "      <td>-1.175575</td>\n",
       "      <td>0.647376</td>\n",
       "      <td>-0.221929</td>\n",
       "      <td>0.062723</td>\n",
       "      <td>0.061458</td>\n",
       "      <td>123.50</td>\n",
       "      <td>0</td>\n",
       "    </tr>\n",
       "    <tr>\n",
       "      <th>4</th>\n",
       "      <td>2.0</td>\n",
       "      <td>-1.158233</td>\n",
       "      <td>0.877737</td>\n",
       "      <td>1.548718</td>\n",
       "      <td>0.403034</td>\n",
       "      <td>-0.407193</td>\n",
       "      <td>0.095921</td>\n",
       "      <td>0.592941</td>\n",
       "      <td>-0.270533</td>\n",
       "      <td>0.817739</td>\n",
       "      <td>...</td>\n",
       "      <td>-0.009431</td>\n",
       "      <td>0.798278</td>\n",
       "      <td>-0.137458</td>\n",
       "      <td>0.141267</td>\n",
       "      <td>-0.206010</td>\n",
       "      <td>0.502292</td>\n",
       "      <td>0.219422</td>\n",
       "      <td>0.215153</td>\n",
       "      <td>69.99</td>\n",
       "      <td>0</td>\n",
       "    </tr>\n",
       "  </tbody>\n",
       "</table>\n",
       "<p>5 rows × 31 columns</p>\n",
       "</div>"
      ],
      "text/plain": [
       "   Time        V1        V2        V3        V4        V5        V6        V7  \\\n",
       "0   0.0 -1.359807 -0.072781  2.536347  1.378155 -0.338321  0.462388  0.239599   \n",
       "1   0.0  1.191857  0.266151  0.166480  0.448154  0.060018 -0.082361 -0.078803   \n",
       "2   1.0 -1.358354 -1.340163  1.773209  0.379780 -0.503198  1.800499  0.791461   \n",
       "3   1.0 -0.966272 -0.185226  1.792993 -0.863291 -0.010309  1.247203  0.237609   \n",
       "4   2.0 -1.158233  0.877737  1.548718  0.403034 -0.407193  0.095921  0.592941   \n",
       "\n",
       "         V8        V9  ...       V21       V22       V23       V24       V25  \\\n",
       "0  0.098698  0.363787  ... -0.018307  0.277838 -0.110474  0.066928  0.128539   \n",
       "1  0.085102 -0.255425  ... -0.225775 -0.638672  0.101288 -0.339846  0.167170   \n",
       "2  0.247676 -1.514654  ...  0.247998  0.771679  0.909412 -0.689281 -0.327642   \n",
       "3  0.377436 -1.387024  ... -0.108300  0.005274 -0.190321 -1.175575  0.647376   \n",
       "4 -0.270533  0.817739  ... -0.009431  0.798278 -0.137458  0.141267 -0.206010   \n",
       "\n",
       "        V26       V27       V28  Amount  Class  \n",
       "0 -0.189115  0.133558 -0.021053  149.62      0  \n",
       "1  0.125895 -0.008983  0.014724    2.69      0  \n",
       "2 -0.139097 -0.055353 -0.059752  378.66      0  \n",
       "3 -0.221929  0.062723  0.061458  123.50      0  \n",
       "4  0.502292  0.219422  0.215153   69.99      0  \n",
       "\n",
       "[5 rows x 31 columns]"
      ]
     },
     "execution_count": 5,
     "metadata": {},
     "output_type": "execute_result"
    }
   ],
   "source": [
    "df = pd.read_csv('input/creditcard.csv')\n",
    "print(df.shape)\n",
    "df.head()"
   ]
  },
  {
   "cell_type": "code",
   "execution_count": 6,
   "id": "ace72b1e-1d55-42cd-8eea-ffd77b90a775",
   "metadata": {},
   "outputs": [
    {
     "data": {
      "image/png": "[encoded data removed]",
      "text/plain": [
       "<Figure size 432x288 with 1 Axes>"
      ]
     },
     "metadata": {
      "needs_background": "light"
     },
     "output_type": "display_data"
    }
   ],
   "source": [
    "sns.countplot(x=df['Class']);"
   ]
  },
  {
   "cell_type": "code",
   "execution_count": 7,
   "id": "9230330f-8f32-49f0-96ef-c6b71a4b7cd8",
   "metadata": {},
   "outputs": [
    {
     "name": "stdout",
     "output_type": "stream",
     "text": [
      "Fraudulent transactions: 492; Good transactions: 284,315\n"
     ]
    }
   ],
   "source": [
    "good = df[df['Class']==0]\n",
    "fraud = df[df['Class']==1]\n",
    "\n",
    "print(f'Fraudulent transactions: {len(fraud):,}; Good transactions: {len(good):,}')"
   ]
  },
  {
   "cell_type": "markdown",
   "id": "8eadf71a-a9c1-4ee6-a68e-311fd7649a64",
   "metadata": {
    "tags": []
   },
   "source": [
    "### Full sample"
   ]
  },
  {
   "cell_type": "code",
   "execution_count": 8,
   "id": "b6cc0ef4-276f-4d6e-827c-ba5add7d0bf0",
   "metadata": {},
   "outputs": [],
   "source": [
    "#spliting the data for target and features\n",
    "X = df.drop(columns=['Class'], axis=1)\n",
    "y = df['Class'] #.astype('int')"
   ]
  },
  {
   "cell_type": "code",
   "execution_count": 9,
   "id": "e9e07e17-8c63-4ae0-9aeb-ee5b4ac684f9",
   "metadata": {},
   "outputs": [
    {
     "name": "stdout",
     "output_type": "stream",
     "text": [
      "(199364, 30) (85443, 30)\n",
      "Ratio of fraudulent transactions in train dataset: 0.0017254870488152324, in test dataset: 0.0017321489179921118\n"
     ]
    }
   ],
   "source": [
    "X_train, X_test, y_train, y_test=train_test_split(X, y, train_size = 0.7, random_state=42, stratify=y) # \n",
    "print(X_train.shape, X_test.shape)\n",
    "print(f'Ratio of fraudulent transactions in train dataset: {y_train.mean()}, in test dataset: {y_test.mean()}')"
   ]
  },
  {
   "cell_type": "markdown",
   "id": "7f784eb2-c826-40cb-9b7e-47d76cb511e5",
   "metadata": {},
   "source": [
    "#### Naive prediction: all zeros in test dataset"
   ]
  },
  {
   "cell_type": "code",
   "execution_count": 10,
   "id": "7050d555-8f17-424d-9b66-be04fc3f6145",
   "metadata": {},
   "outputs": [
    {
     "name": "stdout",
     "output_type": "stream",
     "text": [
      "Accuracy:  0.998\n",
      "Precision: 0.000\n",
      "Recall:    0.000\n",
      "F1:        0.000\n"
     ]
    },
    {
     "name": "stderr",
     "output_type": "stream",
     "text": [
      "/Users/giedrius/anaconda3/envs/scipy/lib/python3.9/site-packages/sklearn/metrics/_classification.py:1318: UndefinedMetricWarning: Precision is ill-defined and being set to 0.0 due to no predicted samples. Use `zero_division` parameter to control this behavior.\n",
      "  _warn_prf(average, modifier, msg_start, len(result))\n"
     ]
    }
   ],
   "source": [
    "y_pred = np.zeros(y_test.shape)\n",
    "score_prediction(y_test, y_pred)"
   ]
  },
  {
   "cell_type": "markdown",
   "id": "8e51fd9f-a2e5-4208-ad8d-146192f47ddd",
   "metadata": {},
   "source": [
    "#### Conclusion: Accuracy is a very poor metric in inbalanced data"
   ]
  },
  {
   "cell_type": "code",
   "execution_count": 11,
   "id": "61c513b9-2595-40ad-a84a-313d67d00e65",
   "metadata": {},
   "outputs": [],
   "source": [
    "clf_tree = DecisionTreeClassifier(min_samples_split=7)\n",
    "model_tree = clf_tree.fit(X_train, y_train)"
   ]
  },
  {
   "cell_type": "code",
   "execution_count": 12,
   "id": "6040e633-39ce-4c4e-a4aa-56a240ad608b",
   "metadata": {},
   "outputs": [
    {
     "name": "stdout",
     "output_type": "stream",
     "text": [
      "Accuracy:  0.999\n",
      "Precision: 0.785\n",
      "Recall:    0.689\n",
      "F1:        0.734\n"
     ]
    }
   ],
   "source": [
    "y_pred = model_tree.predict(X_test)\n",
    "score_prediction(y_test, y_pred)"
   ]
  },
  {
   "cell_type": "code",
   "execution_count": 13,
   "id": "a5933113-63c9-4018-b8c4-cef905d9ec7a",
   "metadata": {},
   "outputs": [],
   "source": [
    "def plot_classification(y_true, y_pred):\n",
    "    target_names = ['Valid', 'Fraud']\n",
    "    labels_names = [0, 1] \n",
    "    print(classification_report(y_true, y_pred,labels=labels_names, target_names=target_names))    \n",
    "    cm = confusion_matrix(y_true, y_pred,labels=labels_names)  #, normalize='true'\n",
    "    disp = ConfusionMatrixDisplay(confusion_matrix=cm,display_labels=target_names)\n",
    "    disp = disp.plot(cmap=plt.cm.Blues,values_format='g')\n",
    "    plt.show()"
   ]
  },
  {
   "cell_type": "code",
   "execution_count": 14,
   "id": "82043587-47c0-447b-9ec2-021bdbf4b6c4",
   "metadata": {},
   "outputs": [
    {
     "name": "stdout",
     "output_type": "stream",
     "text": [
      "              precision    recall  f1-score   support\n",
      "\n",
      "       Valid       1.00      1.00      1.00     85295\n",
      "       Fraud       0.78      0.69      0.73       148\n",
      "\n",
      "    accuracy                           1.00     85443\n",
      "   macro avg       0.89      0.84      0.87     85443\n",
      "weighted avg       1.00      1.00      1.00     85443\n",
      "\n"
     ]
    },
    {
     "data": {
      "image/png": "[encoded data removed]",
      "text/plain": [
       "<Figure size 432x288 with 2 Axes>"
      ]
     },
     "metadata": {
      "needs_background": "light"
     },
     "output_type": "display_data"
    }
   ],
   "source": [
    "plot_classification(y_test, y_pred)"
   ]
  },
  {
   "cell_type": "markdown",
   "id": "180fb774-079e-41a8-983d-1d68e77c2feb",
   "metadata": {},
   "source": [
    "#### Conclusion: Recall is bad, as 30% of fraud cases are not caught - bad for business"
   ]
  },
  {
   "cell_type": "markdown",
   "id": "3cc951a7-30da-46fb-ad1c-343bc888ae48",
   "metadata": {
    "tags": []
   },
   "source": [
    "### What happens as we try to balance out the data?"
   ]
  },
  {
   "cell_type": "markdown",
   "id": "606fb689-b2d1-4660-8334-5bae1787d716",
   "metadata": {
    "tags": []
   },
   "source": [
    "#### Simple under-sampling"
   ]
  },
  {
   "cell_type": "code",
   "execution_count": 15,
   "id": "ef0c60c2-8b90-429c-ae45-4f25c404d457",
   "metadata": {},
   "outputs": [
    {
     "name": "stderr",
     "output_type": "stream",
     "text": [
      "/Users/giedrius/anaconda3/envs/scipy/lib/python3.9/site-packages/seaborn/_decorators.py:36: FutureWarning: Pass the following variable as a keyword arg: x. From version 0.12, the only valid positional argument will be `data`, and passing other arguments without an explicit keyword will result in an error or misinterpretation.\n",
      "  warnings.warn(\n"
     ]
    },
    {
     "data": {
      "image/png": "[encoded data removed]",
      "text/plain": [
       "<Figure size 432x288 with 1 Axes>"
      ]
     },
     "metadata": {
      "needs_background": "light"
     },
     "output_type": "display_data"
    }
   ],
   "source": [
    "df_majority = X_train[y_train == 0]\n",
    "df_minority = X_train[y_train == 1]\n",
    "size_minor = len(df_minority)\n",
    "\n",
    "y_majority = y_train[y_train == 0]\n",
    "y_minority = y_train[y_train == 1]\n",
    "\n",
    "# Downsample majority class\n",
    "df_majority_downsampled = resample(df_majority, \n",
    "                   replace=False,    # sample with replacement\n",
    "                   n_samples=size_minor,    # to match majority class\n",
    "                   random_state=42)  # reproducible results\n",
    "\n",
    "X_down_train = pd.concat([df_minority, df_majority_downsampled])\n",
    "# print(X_down_train.shape)\n",
    "\n",
    "y_majority_downsampled = y_majority[df_majority_downsampled.index]\n",
    "y_down_train = pd.concat([y_minority, y_majority_downsampled])\n",
    "# y_down_train.value_counts()\n",
    "\n",
    "sns.countplot(y_down_train);"
   ]
  },
  {
   "cell_type": "code",
   "execution_count": 16,
   "id": "a59db846-e6f7-4669-ae91-f4b07bc76ebe",
   "metadata": {},
   "outputs": [
    {
     "name": "stdout",
     "output_type": "stream",
     "text": [
      "Accuracy:  0.894\n",
      "Precision: 0.014\n",
      "Recall:    0.878\n",
      "F1:        0.028\n"
     ]
    }
   ],
   "source": [
    "clf_tree_down = DecisionTreeClassifier(min_samples_split=7)\n",
    "model_tree_down = clf_tree_down.fit(X_down_train, y_down_train)\n",
    "y_pred = model_tree_down.predict(X_test)\n",
    "score_prediction(y_test, y_pred)"
   ]
  },
  {
   "cell_type": "code",
   "execution_count": 17,
   "id": "b5f5eca8-250a-4afa-93cc-27c31d35889d",
   "metadata": {},
   "outputs": [
    {
     "name": "stdout",
     "output_type": "stream",
     "text": [
      "              precision    recall  f1-score   support\n",
      "\n",
      "       Valid       1.00      0.89      0.94     85295\n",
      "       Fraud       0.01      0.88      0.03       148\n",
      "\n",
      "    accuracy                           0.89     85443\n",
      "   macro avg       0.51      0.89      0.49     85443\n",
      "weighted avg       1.00      0.89      0.94     85443\n",
      "\n"
     ]
    },
    {
     "data": {
      "image/png": "[encoded data removed]",
      "text/plain": [
       "<Figure size 432x288 with 2 Axes>"
      ]
     },
     "metadata": {
      "needs_background": "light"
     },
     "output_type": "display_data"
    }
   ],
   "source": [
    "plot_classification(y_test, y_pred)"
   ]
  },
  {
   "cell_type": "markdown",
   "id": "8dc989cb-c65a-4ed5-bae6-beeb87144ca6",
   "metadata": {},
   "source": [
    "#### Recall is better, but precision is very bad, as many valid transactions are predicted to be fraud - bad customer experience"
   ]
  },
  {
   "cell_type": "markdown",
   "id": "2807b816-f65f-4917-bff6-e6cd89a5d6e9",
   "metadata": {},
   "source": [
    "#### Simple upsampling"
   ]
  },
  {
   "cell_type": "code",
   "execution_count": 18,
   "id": "818b9c1d-16a3-415d-b351-9fa2a4d8b9b4",
   "metadata": {},
   "outputs": [
    {
     "name": "stderr",
     "output_type": "stream",
     "text": [
      "/Users/giedrius/anaconda3/envs/scipy/lib/python3.9/site-packages/seaborn/_decorators.py:36: FutureWarning: Pass the following variable as a keyword arg: x. From version 0.12, the only valid positional argument will be `data`, and passing other arguments without an explicit keyword will result in an error or misinterpretation.\n",
      "  warnings.warn(\n"
     ]
    },
    {
     "data": {
      "image/png": "[encoded data removed]",
      "text/plain": [
       "<Figure size 432x288 with 1 Axes>"
      ]
     },
     "metadata": {
      "needs_background": "light"
     },
     "output_type": "display_data"
    }
   ],
   "source": [
    "df_majority = X_train[y_train == 0]\n",
    "df_minority = X_train[y_train == 1]\n",
    "size_major = len(df_majority)\n",
    "\n",
    "y_majority = y_train[y_train == 0]\n",
    "y_minority = y_train[y_train == 1]\n",
    "\n",
    "# Upsample minority class\n",
    "df_minority_upsampled = resample(df_minority, \n",
    "                                 replace=True,    # sample with replacement\n",
    "                                 n_samples=size_major,    # to match majority class\n",
    "                                 random_state=42) # reproducible results\n",
    "\n",
    "X_up_train = pd.concat([df_minority_upsampled, df_majority])\n",
    "# print(X_up_train.shape)\n",
    "\n",
    "y_minority_upsampled = y_minority[df_minority_upsampled.index]\n",
    "y_up_train = pd.concat([y_minority_upsampled, y_majority])\n",
    "# y_down_train.value_counts()\n",
    "\n",
    "sns.countplot(y_down_train); "
   ]
  },
  {
   "cell_type": "code",
   "execution_count": 19,
   "id": "b386ce87-4523-48fe-878e-2cffad6d1034",
   "metadata": {},
   "outputs": [
    {
     "name": "stdout",
     "output_type": "stream",
     "text": [
      "Accuracy:  0.999\n",
      "Precision: 0.779\n",
      "Recall:    0.689\n",
      "F1:        0.731\n"
     ]
    }
   ],
   "source": [
    "clf_tree_up = DecisionTreeClassifier(min_samples_split=7, max_depth=40)\n",
    "model_tree_up = clf_tree_up.fit(X_up_train, y_up_train)\n",
    "y_pred = model_tree_up.predict(X_test)\n",
    "score_prediction(y_test, y_pred)"
   ]
  },
  {
   "cell_type": "code",
   "execution_count": 20,
   "id": "20e7883e-3173-46c2-b02f-4f9b0ef00692",
   "metadata": {},
   "outputs": [
    {
     "name": "stdout",
     "output_type": "stream",
     "text": [
      "              precision    recall  f1-score   support\n",
      "\n",
      "       Valid       1.00      1.00      1.00     85295\n",
      "       Fraud       0.78      0.69      0.73       148\n",
      "\n",
      "    accuracy                           1.00     85443\n",
      "   macro avg       0.89      0.84      0.87     85443\n",
      "weighted avg       1.00      1.00      1.00     85443\n",
      "\n"
     ]
    },
    {
     "data": {
      "image/png": "[encoded data removed]",
      "text/plain": [
       "<Figure size 432x288 with 2 Axes>"
      ]
     },
     "metadata": {
      "needs_background": "light"
     },
     "output_type": "display_data"
    }
   ],
   "source": [
    "plot_classification(y_test, y_pred)"
   ]
  },
  {
   "cell_type": "markdown",
   "id": "aedd1a46-bbc7-49df-88e2-3ebab3cc7474",
   "metadata": {},
   "source": [
    "#### Oversampling minority class leads to worse results"
   ]
  },
  {
   "cell_type": "markdown",
   "id": "153dbfc2-54ed-4f73-9181-84fbe8f972c0",
   "metadata": {},
   "source": [
    "### Trying additional ways of sampling"
   ]
  },
  {
   "cell_type": "code",
   "execution_count": 21,
   "id": "d48ef615-7381-41fb-a9f9-3d64dee38603",
   "metadata": {},
   "outputs": [],
   "source": [
    "from collections import Counter\n",
    "\n",
    "# Different ways to upsample\n",
    "from imblearn.over_sampling import SMOTE\n",
    "from imblearn.combine import SMOTETomek\n",
    "from imblearn.combine import SMOTEENN"
   ]
  },
  {
   "cell_type": "code",
   "execution_count": 22,
   "id": "4ec94751-684d-4a2a-b54e-8ca661a4d165",
   "metadata": {},
   "outputs": [
    {
     "name": "stdout",
     "output_type": "stream",
     "text": [
      "Before: Counter({0: 199020, 1: 344})\n",
      "After: Counter({0: 199020, 1: 199020})\n"
     ]
    }
   ],
   "source": [
    "counter_before = Counter(y_train)\n",
    "\n",
    "smt = SMOTE(random_state=42)\n",
    "X_train_sm, y_train_sm = smt.fit_resample(X_train, y_train)\n",
    "\n",
    "print(f'Before: {counter_before}')\n",
    "print(f'After: {Counter(y_train_sm)}')"
   ]
  },
  {
   "cell_type": "code",
   "execution_count": 23,
   "id": "821d04df-7e1a-45f1-9733-d778365dfd07",
   "metadata": {},
   "outputs": [
    {
     "name": "stdout",
     "output_type": "stream",
     "text": [
      "Accuracy:  0.998\n",
      "Precision: 0.412\n",
      "Recall:    0.730\n",
      "F1:        0.527\n"
     ]
    }
   ],
   "source": [
    "clf_tree_sm = DecisionTreeClassifier(min_samples_split=7)\n",
    "model_tree_sm = clf_tree_sm.fit(X_train_sm, y_train_sm)\n",
    "y_pred = model_tree_sm.predict(X_test)\n",
    "score_prediction(y_test, y_pred)"
   ]
  },
  {
   "cell_type": "code",
   "execution_count": 24,
   "id": "c3d00861-0eae-4962-ac8e-255d3490973b",
   "metadata": {},
   "outputs": [
    {
     "name": "stdout",
     "output_type": "stream",
     "text": [
      "              precision    recall  f1-score   support\n",
      "\n",
      "       Valid       1.00      1.00      1.00     85295\n",
      "       Fraud       0.41      0.73      0.53       148\n",
      "\n",
      "    accuracy                           1.00     85443\n",
      "   macro avg       0.71      0.86      0.76     85443\n",
      "weighted avg       1.00      1.00      1.00     85443\n",
      "\n"
     ]
    },
    {
     "data": {
      "image/png": "[encoded data removed]",
      "text/plain": [
       "<Figure size 432x288 with 2 Axes>"
      ]
     },
     "metadata": {
      "needs_background": "light"
     },
     "output_type": "display_data"
    }
   ],
   "source": [
    "plot_classification(y_test, y_pred)"
   ]
  },
  {
   "cell_type": "code",
   "execution_count": 25,
   "id": "ac976239-c03c-4c0c-bd83-5a69710be5dc",
   "metadata": {},
   "outputs": [],
   "source": [
    "# smt = SMOTETomek(random_state=42)\n",
    "# X_train_sm, y_train_sm = smt.fit_resample(X_train, y_train)\n",
    "\n",
    "# print(f'Before: {counter_before}')\n",
    "# print(f'After: {Counter(y_train_sm)}')"
   ]
  },
  {
   "cell_type": "code",
   "execution_count": 26,
   "id": "99402d37-e385-463c-8286-edbc6cc3b897",
   "metadata": {},
   "outputs": [],
   "source": [
    "# clf_tree_sm = DecisionTreeClassifier(min_samples_split=7)\n",
    "# model_tree_sm = clf_tree_sm.fit(X_train_sm, y_train_sm)\n",
    "# y_pred = model_tree_sm.predict(X_test)\n",
    "# score_prediction(y_test, y_pred)"
   ]
  },
  {
   "cell_type": "code",
   "execution_count": 27,
   "id": "bd2003fe-c56c-45f5-ae38-d6947575fc83",
   "metadata": {
    "tags": []
   },
   "outputs": [],
   "source": [
    "# plot_classification(y_test, y_pred)"
   ]
  },
  {
   "cell_type": "code",
   "execution_count": 28,
   "id": "9dc4e394-e452-4e3e-84d7-16fa82c379d4",
   "metadata": {},
   "outputs": [
    {
     "name": "stdout",
     "output_type": "stream",
     "text": [
      "Before: Counter({0: 199020, 1: 344})\n",
      "After: Counter({1: 190538, 0: 182347})\n"
     ]
    }
   ],
   "source": [
    "smt = SMOTEENN(random_state=42)\n",
    "X_train_sm, y_train_sm = smt.fit_resample(X_train, y_train)\n",
    "\n",
    "print(f'Before: {counter_before}')\n",
    "print(f'After: {Counter(y_train_sm)}')"
   ]
  },
  {
   "cell_type": "code",
   "execution_count": 29,
   "id": "89a2887d-a1e1-40b2-8b36-0cd6227d8452",
   "metadata": {},
   "outputs": [
    {
     "name": "stdout",
     "output_type": "stream",
     "text": [
      "Accuracy:  0.997\n",
      "Precision: 0.363\n",
      "Recall:    0.736\n",
      "F1:        0.487\n"
     ]
    }
   ],
   "source": [
    "clf_tree_sm = DecisionTreeClassifier(min_samples_split=7)\n",
    "model_tree_sm = clf_tree_sm.fit(X_train_sm, y_train_sm)\n",
    "y_pred = model_tree_sm.predict(X_test)\n",
    "score_prediction(y_test, y_pred)"
   ]
  },
  {
   "cell_type": "code",
   "execution_count": 30,
   "id": "8b95ac49-3e89-4d93-b2c1-73a24d6f7fad",
   "metadata": {
    "tags": []
   },
   "outputs": [
    {
     "name": "stdout",
     "output_type": "stream",
     "text": [
      "              precision    recall  f1-score   support\n",
      "\n",
      "       Valid       1.00      1.00      1.00     85295\n",
      "       Fraud       0.36      0.74      0.49       148\n",
      "\n",
      "    accuracy                           1.00     85443\n",
      "   macro avg       0.68      0.87      0.74     85443\n",
      "weighted avg       1.00      1.00      1.00     85443\n",
      "\n"
     ]
    },
    {
     "data": {
      "image/png": "[encoded data removed]",
      "text/plain": [
       "<Figure size 432x288 with 2 Axes>"
      ]
     },
     "metadata": {
      "needs_background": "light"
     },
     "output_type": "display_data"
    }
   ],
   "source": [
    "plot_classification(y_test, y_pred)"
   ]
  },
  {
   "cell_type": "markdown",
   "id": "d7173e54-2b92-4e92-b8d1-9872a95e9841",
   "metadata": {},
   "source": [
    "### Test model accuracy (using F1-score as a metric) as amount of data increases"
   ]
  },
  {
   "cell_type": "code",
   "execution_count": 31,
   "id": "d19a791f-2d4d-482a-b18e-711b80a57dcc",
   "metadata": {},
   "outputs": [
    {
     "name": "stdout",
     "output_type": "stream",
     "text": [
      "Training sample size: 688, F1-score: 0.027, Precision: 0.014, Recall: 0.872\n",
      "Training sample size: 1,044, F1-score: 0.061, Precision: 0.031, Recall: 0.851\n",
      "Training sample size: 1,844, F1-score: 0.116, Precision: 0.062, Recall: 0.831\n",
      "Training sample size: 3,344, F1-score: 0.151, Precision: 0.083, Recall: 0.851\n",
      "Training sample size: 6,344, F1-score: 0.283, Precision: 0.170, Recall: 0.831\n",
      "Training sample size: 12,344, F1-score: 0.358, Precision: 0.229, Recall: 0.811\n",
      "Training sample size: 24,344, F1-score: 0.469, Precision: 0.339, Recall: 0.757\n",
      "Training sample size: 48,344, F1-score: 0.613, Precision: 0.496, Recall: 0.804\n",
      "Training sample size: 96,344, F1-score: 0.683, Precision: 0.617, Recall: 0.764\n"
     ]
    }
   ],
   "source": [
    "# Let's try doubling the amount of data for majority class\n",
    "\n",
    "df_majority = X_train[y_train == 0]\n",
    "df_minority = X_train[y_train == 1]\n",
    "\n",
    "y_majority = y_train[y_train == 0]\n",
    "y_minority = y_train[y_train == 1]\n",
    "    \n",
    "for size_minor in [344, 700, 1500, 3000, 6000, 12000, 24000, 48000, 96000]:\n",
    "    # Downsample majority class\n",
    "    df_majority_downsampled = resample(df_majority, \n",
    "                   replace=False,    # sample with replacement\n",
    "                   n_samples=size_minor,    # to match majority class\n",
    "                   random_state=42)  # reproducible results\n",
    "\n",
    "    X_down_train = pd.concat([df_minority, df_majority_downsampled])\n",
    "\n",
    "    y_majority_downsampled = y_majority[df_majority_downsampled.index]\n",
    "    y_down_train = pd.concat([y_minority, y_majority_downsampled])\n",
    "    \n",
    "    clf_tree_down = DecisionTreeClassifier(min_samples_split=7)\n",
    "    model_tree_down = clf_tree_down.fit(X_down_train, y_down_train)\n",
    "    y_pred = model_tree_down.predict(X_test)\n",
    "    print(f'Training sample size: {len(X_down_train):,}, F1-score: {f1_score(y_test, y_pred):.3f}, Precision: {precision_score(y_test, y_pred):.3f}, Recall: {recall_score(y_test, y_pred):.3f}')"
   ]
  },
  {
   "cell_type": "markdown",
   "id": "b01ab2fc-b884-44c0-9eaf-138d0bf1bc6d",
   "metadata": {},
   "source": [
    "#### Conclusion: additional data increases f1-score, so we want to balance out the problem by not loosing relevant data"
   ]
  },
  {
   "cell_type": "code",
   "execution_count": null,
   "id": "a3e77e0e-0e07-4028-b9eb-6332723f04b3",
   "metadata": {},
   "outputs": [],
   "source": []
  }
 ],
 "metadata": {
  "kernelspec": {
   "display_name": "Python 3 (ipykernel)",
   "language": "python",
   "name": "python3"
  },
  "language_info": {
   "codemirror_mode": {
    "name": "ipython",
    "version": 3
   },
   "file_extension": ".py",
   "mimetype": "text/x-python",
   "name": "python",
   "nbconvert_exporter": "python",
   "pygments_lexer": "ipython3",
   "version": "3.9.10"
  }
 },
 "nbformat": 4,
 "nbformat_minor": 5
}
