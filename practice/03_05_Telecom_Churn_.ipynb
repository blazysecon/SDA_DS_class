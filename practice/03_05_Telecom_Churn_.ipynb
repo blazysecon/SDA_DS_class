{
 "cells": [
  {
   "cell_type": "markdown",
   "id": "a03cc425",
   "metadata": {
    "colab_type": "text",
    "id": "view-in-github"
   },
   "source": [
    "<a href=\"https://colab.research.google.com/github/giedriusblazys/SDA_DS_class/blob/main/practice/03_05_Telecom_Churn_.ipynb\" target=\"_parent\"><img src=\"https://colab.research.google.com/assets/colab-badge.svg\" alt=\"Open In Colab\"/></a>"
   ]
  },
  {
   "cell_type": "markdown",
   "id": "e4f3722d-9a1c-49ca-8ebe-412bb953c2fe",
   "metadata": {
    "id": "e4f3722d-9a1c-49ca-8ebe-412bb953c2fe",
    "tags": []
   },
   "source": [
    "# Classification with Imbalanced Data"
   ]
  },
  {
   "cell_type": "markdown",
   "id": "96841c21-0a26-4981-aba3-567533b20659",
   "metadata": {
    "id": "96841c21-0a26-4981-aba3-567533b20659",
    "tags": []
   },
   "source": [
    "## setup"
   ]
  },
  {
   "cell_type": "code",
   "execution_count": 1,
   "id": "3893b277-288d-4551-949a-08adf5d86bf0",
   "metadata": {
    "id": "3893b277-288d-4551-949a-08adf5d86bf0"
   },
   "outputs": [],
   "source": [
    "import pandas as pd\n",
    "import numpy as np # linear algebra\n",
    "from tqdm import tqdm\n",
    "\n",
    "import matplotlib.pyplot as plt\n",
    "import seaborn as sns\n",
    "\n",
    "# sns.set()"
   ]
  },
  {
   "cell_type": "code",
   "execution_count": 2,
   "id": "a454533a-b209-4b0f-8205-025ea1a29ece",
   "metadata": {
    "id": "a454533a-b209-4b0f-8205-025ea1a29ece"
   },
   "outputs": [],
   "source": [
    "from sklearn.metrics import accuracy_score, precision_recall_curve, average_precision_score, auc, roc_curve\n",
    "from sklearn.metrics import confusion_matrix, classification_report, ConfusionMatrixDisplay, SCORERS\n",
    "from sklearn.metrics import accuracy_score, precision_score, recall_score, f1_score, fbeta_score\n",
    "from sklearn.model_selection import train_test_split, StratifiedKFold, KFold, LeaveOneOut\n",
    "\n",
    "from sklearn.linear_model import LinearRegression, LogisticRegression\n",
    "from sklearn.tree import DecisionTreeClassifier\n",
    "from sklearn import tree\n",
    "from sklearn import preprocessing\n",
    "\n",
    "import graphviz\n",
    "\n",
    "from sklearn.utils import resample"
   ]
  },
  {
   "cell_type": "markdown",
   "id": "b2744ced-0d0d-40bb-885f-6449aaa4a2b7",
   "metadata": {},
   "source": [
    "## Custom functions"
   ]
  },
  {
   "cell_type": "code",
   "execution_count": 3,
   "id": "a3718255-2b90-4bef-845a-3c1802b0bd6d",
   "metadata": {
    "id": "a3718255-2b90-4bef-845a-3c1802b0bd6d"
   },
   "outputs": [],
   "source": [
    "def score_prediction(y_test, y_pred):\n",
    "    print(f'Accuracy:  {accuracy_score(y_test, y_pred):.3f}')\n",
    "    print(f'Precision: {precision_score(y_test, y_pred):.3f}')\n",
    "    print(f'Recall:    {recall_score(y_test, y_pred):.3f}')\n",
    "    print(f'F1:        {f1_score(y_test, y_pred):.3f}')\n",
    "    \n",
    "def f_importances(coef, names):\n",
    "    imp = coef\n",
    "    imp,names = zip(*sorted(zip(imp,names)))\n",
    "    plt.barh(range(len(names)), imp, align='center')\n",
    "    plt.yticks(range(len(names)), names)\n",
    "    plt.show()"
   ]
  },
  {
   "cell_type": "code",
   "execution_count": 4,
   "id": "52a4e866-2472-4ab9-b318-82dc62d937df",
   "metadata": {},
   "outputs": [],
   "source": [
    "def heatmap(x, y, **kwargs):\n",
    "    if 'color' in kwargs:\n",
    "        color = kwargs['color']\n",
    "    else:\n",
    "        color = [1]*len(x)\n",
    "\n",
    "    if 'palette' in kwargs:\n",
    "        palette = kwargs['palette']\n",
    "        n_colors = len(palette)\n",
    "    else:\n",
    "        n_colors = 256 # Use 256 colors for the diverging color palette\n",
    "        palette = sns.color_palette(\"Blues\", n_colors) \n",
    "\n",
    "    if 'color_range' in kwargs:\n",
    "        color_min, color_max = kwargs['color_range']\n",
    "    else:\n",
    "        color_min, color_max = min(color), max(color) # Range of values that will be mapped to the palette, i.e. min and max possible correlation\n",
    "\n",
    "    def value_to_color(val):\n",
    "        if color_min == color_max:\n",
    "            return palette[-1]\n",
    "        else:\n",
    "            val_position = float((val - color_min)) / (color_max - color_min) # position of value in the input range, relative to the length of the input range\n",
    "            val_position = min(max(val_position, 0), 1) # bound the position betwen 0 and 1\n",
    "            ind = int(val_position * (n_colors - 1)) # target index in the color palette\n",
    "            return palette[ind]\n",
    "\n",
    "    if 'size' in kwargs:\n",
    "        size = kwargs['size']\n",
    "    else:\n",
    "        size = [1]*len(x)\n",
    "\n",
    "    if 'size_range' in kwargs:\n",
    "        size_min, size_max = kwargs['size_range'][0], kwargs['size_range'][1]\n",
    "    else:\n",
    "        size_min, size_max = min(size), max(size)\n",
    "\n",
    "    size_scale = kwargs.get('size_scale', 500)\n",
    "\n",
    "    def value_to_size(val):\n",
    "        if size_min == size_max:\n",
    "            return 1 * size_scale\n",
    "        else:\n",
    "            val_position = (val - size_min) * 0.99 / (size_max - size_min) + 0.01 # position of value in the input range, relative to the length of the input range\n",
    "            val_position = min(max(val_position, 0), 1) # bound the position betwen 0 and 1\n",
    "            return val_position * size_scale\n",
    "    if 'x_order' in kwargs: \n",
    "        x_names = [t for t in kwargs['x_order']]\n",
    "    else:\n",
    "        x_names = [t for t in sorted(set([v for v in x]))]\n",
    "    x_to_num = {p[1]:p[0] for p in enumerate(x_names)}\n",
    "\n",
    "    if 'y_order' in kwargs: \n",
    "        y_names = [t for t in kwargs['y_order']]\n",
    "    else:\n",
    "        y_names = [t for t in sorted(set([v for v in y]))]\n",
    "    y_to_num = {p[1]:p[0] for p in enumerate(y_names)}\n",
    "\n",
    "    plot_grid = plt.GridSpec(1, 15, hspace=0.2, wspace=0.1) # Setup a 1x10 grid\n",
    "    ax = plt.subplot(plot_grid[:,:-1]) # Use the left 14/15ths of the grid for the main plot\n",
    "\n",
    "    marker = kwargs.get('marker', 's')\n",
    "\n",
    "    kwargs_pass_on = {k:v for k,v in kwargs.items() if k not in [\n",
    "         'color', 'palette', 'color_range', 'size', 'size_range', 'size_scale', 'marker', 'x_order', 'y_order'\n",
    "    ]}\n",
    "\n",
    "    ax.scatter(\n",
    "        x=[x_to_num[v] for v in x],\n",
    "        y=[y_to_num[v] for v in y],\n",
    "        marker=marker,\n",
    "        s=[value_to_size(v) for v in size], \n",
    "        c=[value_to_color(v) for v in color],\n",
    "        **kwargs_pass_on\n",
    "    )\n",
    "    ax.set_xticks([v for k,v in x_to_num.items()])\n",
    "    ax.set_xticklabels([k for k in x_to_num], rotation=45, horizontalalignment='right')\n",
    "    ax.set_yticks([v for k,v in y_to_num.items()])\n",
    "    ax.set_yticklabels([k for k in y_to_num])\n",
    "\n",
    "    ax.grid(False, 'major')\n",
    "    ax.grid(True, 'minor')\n",
    "    ax.set_xticks([t + 0.5 for t in ax.get_xticks()], minor=True)\n",
    "    ax.set_yticks([t + 0.5 for t in ax.get_yticks()], minor=True)\n",
    "\n",
    "    ax.set_xlim([-0.5, max([v for v in x_to_num.values()]) + 0.5])\n",
    "    ax.set_ylim([-0.5, max([v for v in y_to_num.values()]) + 0.5])\n",
    "    ax.set_facecolor('#F1F1F1')\n",
    "\n",
    "    # Add color legend on the right side of the plot\n",
    "    if color_min < color_max:\n",
    "        ax = plt.subplot(plot_grid[:,-1]) # Use the rightmost column of the plot\n",
    "\n",
    "        col_x = [0]*len(palette) # Fixed x coordinate for the bars\n",
    "        bar_y=np.linspace(color_min, color_max, n_colors) # y coordinates for each of the n_colors bars\n",
    "\n",
    "        bar_height = bar_y[1] - bar_y[0]\n",
    "        ax.barh(\n",
    "            y=bar_y,\n",
    "            width=[5]*len(palette), # Make bars 5 units wide\n",
    "            left=col_x, # Make bars start at 0\n",
    "            height=bar_height,\n",
    "            color=palette,\n",
    "            linewidth=0\n",
    "        )\n",
    "        ax.set_xlim(1, 2) # Bars are going from 0 to 5, so lets crop the plot somewhere in the middle\n",
    "        ax.grid(False) # Hide grid\n",
    "        ax.set_facecolor('white') # Make background white\n",
    "        ax.set_xticks([]) # Remove horizontal ticks\n",
    "        ax.set_yticks(np.linspace(min(bar_y), max(bar_y), 3)) # Show vertical ticks for min, middle and max\n",
    "        ax.yaxis.tick_right() # Show vertical ticks on the right \n",
    "\n",
    "\n",
    "def corrplot(data, size_scale=500, marker='s'):\n",
    "    corr = pd.melt(data.reset_index(), id_vars='index')\n",
    "    corr.columns = ['x', 'y', 'value']\n",
    "    heatmap(\n",
    "        corr['x'], corr['y'],\n",
    "        color=corr['value'], color_range=[-1, 1],\n",
    "        palette=sns.diverging_palette(20, 220, n=256),\n",
    "        size=corr['value'].abs(), size_range=[0,1],\n",
    "        marker=marker,\n",
    "        x_order=data.columns,\n",
    "        y_order=data.columns[::-1],\n",
    "        size_scale=size_scale\n",
    "    )"
   ]
  },
  {
   "cell_type": "code",
   "execution_count": 5,
   "id": "955e8fb4-db62-447b-b8a5-36fa36045cb4",
   "metadata": {
    "id": "955e8fb4-db62-447b-b8a5-36fa36045cb4"
   },
   "outputs": [],
   "source": [
    "%matplotlib inline\n",
    "%load_ext autoreload\n",
    "%autoreload 2"
   ]
  },
  {
   "cell_type": "markdown",
   "id": "2ea908d7-f4f9-44bf-92b9-dd280d3459cd",
   "metadata": {
    "id": "2ea908d7-f4f9-44bf-92b9-dd280d3459cd"
   },
   "source": [
    "## Orange Telecom's Churn"
   ]
  },
  {
   "cell_type": "markdown",
   "id": "18bc4240-9133-438f-a57b-b7ebcae0943c",
   "metadata": {
    "id": "18bc4240-9133-438f-a57b-b7ebcae0943c"
   },
   "source": [
    "The Orange Telecom's Churn Dataset, which consists of cleaned customer activity data (features), along with a churn label specifying whether a customer canceled the subscription, will be used to develop predictive models. Two datasets are made available here: The churn-80 and churn-20 datasets can be downloaded.\n",
    "\n",
    "The two sets are from the same batch, but have been split by an 80/20 ratio. As more data is often desirable for developing ML models, let's use the larger set (that is, churn-80) for training and cross-validation purposes, and the smaller set (that is, churn-20) for final testing and model performance evaluation."
   ]
  },
  {
   "cell_type": "markdown",
   "id": "122e3960-6873-4941-954e-85a597d55150",
   "metadata": {
    "id": "122e3960-6873-4941-954e-85a597d55150"
   },
   "source": [
    "https://www.kaggle.com/mnassrib/telecom-churn-datasets"
   ]
  },
  {
   "cell_type": "code",
   "execution_count": 6,
   "id": "1c8b60d9-0edb-4e11-9bb4-e2938f423ad4",
   "metadata": {
    "colab": {
     "base_uri": "https://localhost:8080/",
     "height": 285
    },
    "id": "1c8b60d9-0edb-4e11-9bb4-e2938f423ad4",
    "outputId": "0acc8393-9c7d-461a-9575-d2dfb0ecf2fe"
   },
   "outputs": [
    {
     "data": {
      "text/html": [
       "<div>\n",
       "<style scoped>\n",
       "    .dataframe tbody tr th:only-of-type {\n",
       "        vertical-align: middle;\n",
       "    }\n",
       "\n",
       "    .dataframe tbody tr th {\n",
       "        vertical-align: top;\n",
       "    }\n",
       "\n",
       "    .dataframe thead th {\n",
       "        text-align: right;\n",
       "    }\n",
       "</style>\n",
       "<table border=\"1\" class=\"dataframe\">\n",
       "  <thead>\n",
       "    <tr style=\"text-align: right;\">\n",
       "      <th></th>\n",
       "      <th>State</th>\n",
       "      <th>Account length</th>\n",
       "      <th>Area code</th>\n",
       "      <th>International plan</th>\n",
       "      <th>Voice mail plan</th>\n",
       "      <th>Number vmail messages</th>\n",
       "      <th>Total day minutes</th>\n",
       "      <th>Total day calls</th>\n",
       "      <th>Total day charge</th>\n",
       "      <th>Total eve minutes</th>\n",
       "      <th>Total eve calls</th>\n",
       "      <th>Total eve charge</th>\n",
       "      <th>Total night minutes</th>\n",
       "      <th>Total night calls</th>\n",
       "      <th>Total night charge</th>\n",
       "      <th>Total intl minutes</th>\n",
       "      <th>Total intl calls</th>\n",
       "      <th>Total intl charge</th>\n",
       "      <th>Customer service calls</th>\n",
       "      <th>Churn</th>\n",
       "    </tr>\n",
       "  </thead>\n",
       "  <tbody>\n",
       "    <tr>\n",
       "      <th>0</th>\n",
       "      <td>KS</td>\n",
       "      <td>128</td>\n",
       "      <td>415</td>\n",
       "      <td>No</td>\n",
       "      <td>Yes</td>\n",
       "      <td>25</td>\n",
       "      <td>265.1</td>\n",
       "      <td>110</td>\n",
       "      <td>45.07</td>\n",
       "      <td>197.4</td>\n",
       "      <td>99</td>\n",
       "      <td>16.78</td>\n",
       "      <td>244.7</td>\n",
       "      <td>91</td>\n",
       "      <td>11.01</td>\n",
       "      <td>10.0</td>\n",
       "      <td>3</td>\n",
       "      <td>2.70</td>\n",
       "      <td>1</td>\n",
       "      <td>False</td>\n",
       "    </tr>\n",
       "    <tr>\n",
       "      <th>1</th>\n",
       "      <td>OH</td>\n",
       "      <td>107</td>\n",
       "      <td>415</td>\n",
       "      <td>No</td>\n",
       "      <td>Yes</td>\n",
       "      <td>26</td>\n",
       "      <td>161.6</td>\n",
       "      <td>123</td>\n",
       "      <td>27.47</td>\n",
       "      <td>195.5</td>\n",
       "      <td>103</td>\n",
       "      <td>16.62</td>\n",
       "      <td>254.4</td>\n",
       "      <td>103</td>\n",
       "      <td>11.45</td>\n",
       "      <td>13.7</td>\n",
       "      <td>3</td>\n",
       "      <td>3.70</td>\n",
       "      <td>1</td>\n",
       "      <td>False</td>\n",
       "    </tr>\n",
       "    <tr>\n",
       "      <th>2</th>\n",
       "      <td>NJ</td>\n",
       "      <td>137</td>\n",
       "      <td>415</td>\n",
       "      <td>No</td>\n",
       "      <td>No</td>\n",
       "      <td>0</td>\n",
       "      <td>243.4</td>\n",
       "      <td>114</td>\n",
       "      <td>41.38</td>\n",
       "      <td>121.2</td>\n",
       "      <td>110</td>\n",
       "      <td>10.30</td>\n",
       "      <td>162.6</td>\n",
       "      <td>104</td>\n",
       "      <td>7.32</td>\n",
       "      <td>12.2</td>\n",
       "      <td>5</td>\n",
       "      <td>3.29</td>\n",
       "      <td>0</td>\n",
       "      <td>False</td>\n",
       "    </tr>\n",
       "    <tr>\n",
       "      <th>3</th>\n",
       "      <td>OH</td>\n",
       "      <td>84</td>\n",
       "      <td>408</td>\n",
       "      <td>Yes</td>\n",
       "      <td>No</td>\n",
       "      <td>0</td>\n",
       "      <td>299.4</td>\n",
       "      <td>71</td>\n",
       "      <td>50.90</td>\n",
       "      <td>61.9</td>\n",
       "      <td>88</td>\n",
       "      <td>5.26</td>\n",
       "      <td>196.9</td>\n",
       "      <td>89</td>\n",
       "      <td>8.86</td>\n",
       "      <td>6.6</td>\n",
       "      <td>7</td>\n",
       "      <td>1.78</td>\n",
       "      <td>2</td>\n",
       "      <td>False</td>\n",
       "    </tr>\n",
       "    <tr>\n",
       "      <th>4</th>\n",
       "      <td>OK</td>\n",
       "      <td>75</td>\n",
       "      <td>415</td>\n",
       "      <td>Yes</td>\n",
       "      <td>No</td>\n",
       "      <td>0</td>\n",
       "      <td>166.7</td>\n",
       "      <td>113</td>\n",
       "      <td>28.34</td>\n",
       "      <td>148.3</td>\n",
       "      <td>122</td>\n",
       "      <td>12.61</td>\n",
       "      <td>186.9</td>\n",
       "      <td>121</td>\n",
       "      <td>8.41</td>\n",
       "      <td>10.1</td>\n",
       "      <td>3</td>\n",
       "      <td>2.73</td>\n",
       "      <td>3</td>\n",
       "      <td>False</td>\n",
       "    </tr>\n",
       "  </tbody>\n",
       "</table>\n",
       "</div>"
      ],
      "text/plain": [
       "  State  Account length  Area code International plan Voice mail plan  \\\n",
       "0    KS             128        415                 No             Yes   \n",
       "1    OH             107        415                 No             Yes   \n",
       "2    NJ             137        415                 No              No   \n",
       "3    OH              84        408                Yes              No   \n",
       "4    OK              75        415                Yes              No   \n",
       "\n",
       "   Number vmail messages  Total day minutes  Total day calls  \\\n",
       "0                     25              265.1              110   \n",
       "1                     26              161.6              123   \n",
       "2                      0              243.4              114   \n",
       "3                      0              299.4               71   \n",
       "4                      0              166.7              113   \n",
       "\n",
       "   Total day charge  Total eve minutes  Total eve calls  Total eve charge  \\\n",
       "0             45.07              197.4               99             16.78   \n",
       "1             27.47              195.5              103             16.62   \n",
       "2             41.38              121.2              110             10.30   \n",
       "3             50.90               61.9               88              5.26   \n",
       "4             28.34              148.3              122             12.61   \n",
       "\n",
       "   Total night minutes  Total night calls  Total night charge  \\\n",
       "0                244.7                 91               11.01   \n",
       "1                254.4                103               11.45   \n",
       "2                162.6                104                7.32   \n",
       "3                196.9                 89                8.86   \n",
       "4                186.9                121                8.41   \n",
       "\n",
       "   Total intl minutes  Total intl calls  Total intl charge  \\\n",
       "0                10.0                 3               2.70   \n",
       "1                13.7                 3               3.70   \n",
       "2                12.2                 5               3.29   \n",
       "3                 6.6                 7               1.78   \n",
       "4                10.1                 3               2.73   \n",
       "\n",
       "   Customer service calls  Churn  \n",
       "0                       1  False  \n",
       "1                       1  False  \n",
       "2                       0  False  \n",
       "3                       2  False  \n",
       "4                       3  False  "
      ]
     },
     "execution_count": 6,
     "metadata": {},
     "output_type": "execute_result"
    }
   ],
   "source": [
    "df = pd.read_csv(\"https://github.com/giedriusblazys/SDA_DS_class/raw/main/practice/input/churn-bigml-80.csv\")\n",
    "df.head()"
   ]
  },
  {
   "cell_type": "code",
   "execution_count": 7,
   "id": "e07eeb2e-b489-4746-b5d3-f3161b809d8f",
   "metadata": {
    "colab": {
     "base_uri": "https://localhost:8080/"
    },
    "id": "e07eeb2e-b489-4746-b5d3-f3161b809d8f",
    "outputId": "cb68f35b-c051-47ca-9183-2a7098b0aedc"
   },
   "outputs": [
    {
     "name": "stdout",
     "output_type": "stream",
     "text": [
      "<class 'pandas.core.frame.DataFrame'>\n",
      "RangeIndex: 2666 entries, 0 to 2665\n",
      "Data columns (total 20 columns):\n",
      " #   Column                  Non-Null Count  Dtype  \n",
      "---  ------                  --------------  -----  \n",
      " 0   State                   2666 non-null   object \n",
      " 1   Account length          2666 non-null   int64  \n",
      " 2   Area code               2666 non-null   int64  \n",
      " 3   International plan      2666 non-null   object \n",
      " 4   Voice mail plan         2666 non-null   object \n",
      " 5   Number vmail messages   2666 non-null   int64  \n",
      " 6   Total day minutes       2666 non-null   float64\n",
      " 7   Total day calls         2666 non-null   int64  \n",
      " 8   Total day charge        2666 non-null   float64\n",
      " 9   Total eve minutes       2666 non-null   float64\n",
      " 10  Total eve calls         2666 non-null   int64  \n",
      " 11  Total eve charge        2666 non-null   float64\n",
      " 12  Total night minutes     2666 non-null   float64\n",
      " 13  Total night calls       2666 non-null   int64  \n",
      " 14  Total night charge      2666 non-null   float64\n",
      " 15  Total intl minutes      2666 non-null   float64\n",
      " 16  Total intl calls        2666 non-null   int64  \n",
      " 17  Total intl charge       2666 non-null   float64\n",
      " 18  Customer service calls  2666 non-null   int64  \n",
      " 19  Churn                   2666 non-null   bool   \n",
      "dtypes: bool(1), float64(8), int64(8), object(3)\n",
      "memory usage: 398.5+ KB\n"
     ]
    }
   ],
   "source": [
    "df.info()"
   ]
  },
  {
   "cell_type": "code",
   "execution_count": 8,
   "id": "70de5435-5356-436d-8be3-ab8c09554532",
   "metadata": {
    "id": "70de5435-5356-436d-8be3-ab8c09554532"
   },
   "outputs": [],
   "source": [
    "def corr_plot(df):\n",
    "    corr = df.corr()\n",
    "    plt.figure(figsize=(10, 10))\n",
    "    ax = sns.heatmap(\n",
    "    corr, \n",
    "    vmin=-1, vmax=1, center=0,\n",
    "    cmap=sns.diverging_palette(20, 220, n=200),\n",
    "    square=True\n",
    "    )\n",
    "    ax.set_xticklabels(\n",
    "    ax.get_xticklabels(),\n",
    "    rotation=45,\n",
    "    horizontalalignment='right'\n",
    "    )"
   ]
  },
  {
   "cell_type": "code",
   "execution_count": 9,
   "id": "a2c33ead-3398-41c4-a41b-b2f1abb5bc74",
   "metadata": {
    "colab": {
     "base_uri": "https://localhost:8080/",
     "height": 643
    },
    "id": "a2c33ead-3398-41c4-a41b-b2f1abb5bc74",
    "outputId": "8830eafb-589d-4227-801c-c1c85f1b4c49"
   },
   "outputs": [
    {
     "data": {
      "image/png": "[encoded data removed]",
      "text/plain": [
       "<Figure size 720x720 with 2 Axes>"
      ]
     },
     "metadata": {
      "needs_background": "light"
     },
     "output_type": "display_data"
    }
   ],
   "source": [
    "corr_plot(df)"
   ]
  },
  {
   "cell_type": "code",
   "execution_count": 10,
   "id": "5d71cd03-eb30-4d66-998a-6362a367d3dd",
   "metadata": {
    "colab": {
     "base_uri": "https://localhost:8080/",
     "height": 285
    },
    "id": "355e4dfe-7424-4809-95bb-ccf9728da1aa",
    "outputId": "28994127-d29c-4944-f440-6c3cf9cdd342"
   },
   "outputs": [
    {
     "data": {
      "image/png": "[encoded data removed]",
      "text/plain": [
       "<Figure size 720x720 with 2 Axes>"
      ]
     },
     "metadata": {
      "needs_background": "light"
     },
     "output_type": "display_data"
    }
   ],
   "source": [
    "corr = df.corr()\n",
    "plt.figure(figsize=(10, 10))\n",
    "corrplot(corr)"
   ]
  },
  {
   "cell_type": "code",
   "execution_count": 11,
   "id": "cdc19127-d694-4530-bc1a-b54556094929",
   "metadata": {
    "colab": {
     "base_uri": "https://localhost:8080/",
     "height": 285
    },
    "id": "355e4dfe-7424-4809-95bb-ccf9728da1aa",
    "outputId": "28994127-d29c-4944-f440-6c3cf9cdd342"
   },
   "outputs": [
    {
     "data": {
      "image/png": "[encoded data removed]",
      "text/plain": [
       "<Figure size 432x288 with 1 Axes>"
      ]
     },
     "metadata": {
      "needs_background": "light"
     },
     "output_type": "display_data"
    }
   ],
   "source": [
    "sns.countplot(x=df[\"Churn\"]);"
   ]
  },
  {
   "cell_type": "code",
   "execution_count": 12,
   "id": "a5f53227-0b1e-49d3-aa16-a6463eec2335",
   "metadata": {
    "colab": {
     "base_uri": "https://localhost:8080/"
    },
    "id": "c6aa30d3-a139-4dd0-b58a-3ca736274bcc",
    "outputId": "d518b964-5653-4673-98a8-93a746921e08"
   },
   "outputs": [
    {
     "data": {
      "text/plain": [
       "Index(['State', 'Account length', 'Area code', 'International plan',\n",
       "       'Voice mail plan', 'Number vmail messages', 'Total day minutes',\n",
       "       'Total day calls', 'Total day charge', 'Total eve minutes',\n",
       "       'Total eve calls', 'Total eve charge', 'Total night minutes',\n",
       "       'Total night calls', 'Total night charge', 'Total intl minutes',\n",
       "       'Total intl calls', 'Total intl charge', 'Customer service calls',\n",
       "       'Churn'],\n",
       "      dtype='object')"
      ]
     },
     "execution_count": 12,
     "metadata": {},
     "output_type": "execute_result"
    }
   ],
   "source": [
    "df.columns"
   ]
  },
  {
   "cell_type": "code",
   "execution_count": 13,
   "id": "a156c1ce-cdf9-4ec3-a7a3-3bf57952ac0c",
   "metadata": {
    "colab": {
     "base_uri": "https://localhost:8080/"
    },
    "id": "c6aa30d3-a139-4dd0-b58a-3ca736274bcc",
    "outputId": "d518b964-5653-4673-98a8-93a746921e08"
   },
   "outputs": [
    {
     "name": "stdout",
     "output_type": "stream",
     "text": [
      "X_train: (1866, 14), X_test(800, 14)\n"
     ]
    }
   ],
   "source": [
    "#spliting the data for target and features\n",
    "X = df.drop(columns='Churn', axis=1)\n",
    "X = X.drop(columns=['Area code', 'State', 'Total day calls', 'Total eve calls', 'Total night calls'], axis=1)\n",
    "y = df['Churn'].astype('int')\n",
    "\n",
    "#creating the test train split\n",
    "X_train, X_test, y_train, y_test = train_test_split(X, y, test_size=0.3, random_state = 42, stratify=y)\n",
    "print(f'X_train: {X_train.shape}, X_test{X_test.shape}')\n",
    "\n",
    "## One-hot encoder\n",
    "\n",
    "s = (X_train.dtypes == 'object')\n",
    "obj_cols = list(s[s].index)\n",
    "\n",
    "OH_encoder = preprocessing.OneHotEncoder(drop='first', handle_unknown='ignore')\n",
    "\n",
    "X_train_array = OH_encoder.fit_transform(X_train[obj_cols]).toarray()\n",
    "OH_cols_train = pd.DataFrame(X_train_array, columns = OH_encoder.get_feature_names_out())\n",
    "\n",
    "X_test_array = OH_encoder.transform(X_test[obj_cols]).toarray()\n",
    "OH_cols_test = pd.DataFrame(X_test_array, columns = OH_encoder.get_feature_names_out())\n",
    "OH_cols_train.index = X_train.index\n",
    "OH_cols_test.index = X_test.index\n",
    "\n",
    "# Remove categorical columns (will replace with one-hot encoding)\n",
    "num_X_train = X_train.drop(obj_cols, axis=1)\n",
    "num_X_test = X_test.drop(obj_cols, axis=1)\n",
    "\n",
    "# Add one-hot encoded columns to numerical features\n",
    "OH_X_train = pd.concat([num_X_train, OH_cols_train], axis=1)\n",
    "OH_X_test = pd.concat([num_X_test, OH_cols_test], axis=1)\n",
    "# OH_X_train.columns"
   ]
  },
  {
   "cell_type": "markdown",
   "id": "6wJD9sSDywyH",
   "metadata": {
    "id": "6wJD9sSDywyH"
   },
   "source": [
    "## Questions:\n",
    "\n",
    "1. Use the following Algorithms to estimate Churn model with defaul parameters:\n",
    "\n",
    "```\n",
    "sklearn.neighbors.KNeighborsClassifier, sklearn.svm.SVC, \n",
    "sklearn.linear_model.LogisticRegression, sklearn.tree.DecisionTreeClassifier\n",
    "```\n",
    "\n",
    "2. Report and compare `F1-score`\n",
    "\n",
    "For next time:\n",
    "\n",
    "3. Try different hyper-parameters (\n",
    "    \n",
    "    SVM: kelnel, C,\n",
    "\n",
    "    KNN: n_neighbors, p, weights)\n",
    "\n",
    "4. Start reading about GridSearchCV, RandomSearchCV"
   ]
  },
  {
   "cell_type": "code",
   "execution_count": 14,
   "id": "5b2e5b87-cddd-4948-be37-13c1727cc6b3",
   "metadata": {
    "colab": {
     "base_uri": "https://localhost:8080/"
    },
    "id": "5b2e5b87-cddd-4948-be37-13c1727cc6b3",
    "outputId": "84922b2a-b3bc-4c39-ef34-a93bd5d8298e"
   },
   "outputs": [
    {
     "name": "stdout",
     "output_type": "stream",
     "text": [
      "(1866, 14) (800, 14) (1866,) (800,)\n"
     ]
    }
   ],
   "source": [
    "print(OH_X_train.shape, OH_X_test.shape, y_train.shape, y_test.shape)"
   ]
  },
  {
   "cell_type": "code",
   "execution_count": 15,
   "id": "sU-xH-G__g9E",
   "metadata": {
    "id": "sU-xH-G__g9E"
   },
   "outputs": [],
   "source": [
    "from sklearn.svm import SVC\n",
    "from sklearn.preprocessing import MinMaxScaler\n",
    "from sklearn.neighbors import KNeighborsClassifier"
   ]
  },
  {
   "cell_type": "code",
   "execution_count": 16,
   "id": "-MRVPHGiEme5",
   "metadata": {
    "id": "-MRVPHGiEme5"
   },
   "outputs": [],
   "source": [
    "df_results = pd.DataFrame(columns = ['method', 'parameters', 'f1-score'])"
   ]
  },
  {
   "cell_type": "code",
   "execution_count": 17,
   "id": "gl2BhA8Y0Tyl",
   "metadata": {
    "id": "gl2BhA8Y0Tyl"
   },
   "outputs": [],
   "source": [
    "# svm_model = SVC(kernel='linear', C=10, random_state=42).fit(OH_X_train, y_train)\n",
    "# y_pred = svm_model.predict(OH_X_test)\n",
    "# print(f'SVM F1 (no normalization): {f1_score(y_true=y_test, y_pred=y_pred)}')"
   ]
  },
  {
   "cell_type": "code",
   "execution_count": 18,
   "id": "tXFvEAB_-BXF",
   "metadata": {
    "id": "tXFvEAB_-BXF"
   },
   "outputs": [],
   "source": [
    "min_max_scaler = MinMaxScaler()\n",
    "\n",
    "X_train_minmax = min_max_scaler.fit_transform(OH_X_train)\n",
    "X_test_minmax = min_max_scaler.transform(OH_X_test)"
   ]
  },
  {
   "cell_type": "code",
   "execution_count": 19,
   "id": "baf54e43-3c24-454c-abf1-d6c6d4d6123d",
   "metadata": {
    "id": "ED26T-7H_Ojo"
   },
   "outputs": [
    {
     "name": "stdout",
     "output_type": "stream",
     "text": [
      "SVM F1 (data normalized): 0.0\n"
     ]
    }
   ],
   "source": [
    "svm_model = SVC(kernel='linear', C=10, random_state=42).fit(X_train_minmax, y_train)\n",
    "y_pred = svm_model.predict(X_test_minmax)\n",
    "print(f'SVM F1 (data normalized): {f1_score(y_true=y_test, y_pred=y_pred)}')\n",
    "# df_results.loc[len(df_results)] = ['SVM', 'kernel=linear', f1_score(y_true=y_test, y_pred=y_pred)]"
   ]
  },
  {
   "cell_type": "code",
   "execution_count": 20,
   "id": "96677400-f2a4-45a7-9a9a-639852897ea3",
   "metadata": {
    "id": "ED26T-7H_Ojo"
   },
   "outputs": [
    {
     "data": {
      "image/png": "[encoded data removed]",
      "text/plain": [
       "<Figure size 504x1152 with 1 Axes>"
      ]
     },
     "metadata": {
      "needs_background": "light"
     },
     "output_type": "display_data"
    }
   ],
   "source": [
    "features_names = OH_X_train.columns\n",
    "\n",
    "plt.figure(figsize=(7, 16))\n",
    "f_importances(svm_model.coef_[0], features_names)"
   ]
  },
  {
   "cell_type": "code",
   "execution_count": 21,
   "id": "G6ulQBHk_3Bb",
   "metadata": {
    "colab": {
     "base_uri": "https://localhost:8080/"
    },
    "id": "G6ulQBHk_3Bb",
    "outputId": "f3425785-94e8-4719-c46b-34874dd75a7c"
   },
   "outputs": [
    {
     "name": "stdout",
     "output_type": "stream",
     "text": [
      "KNN F1 (no normalization): 0.41916167664670656\n"
     ]
    }
   ],
   "source": [
    "knn_model = KNeighborsClassifier().fit(OH_X_train, y_train)\n",
    "y_pred = knn_model.predict(OH_X_test)\n",
    "print(f'KNN F1 (no normalization): {f1_score(y_true=y_test, y_pred=y_pred)}')\n",
    "df_results.loc[len(df_results)] = ['KNN', 'no normalization', f1_score(y_true=y_test, y_pred=y_pred)]"
   ]
  },
  {
   "cell_type": "code",
   "execution_count": 22,
   "id": "iN9UlsB8A2PI",
   "metadata": {
    "colab": {
     "base_uri": "https://localhost:8080/"
    },
    "id": "iN9UlsB8A2PI",
    "outputId": "e4215222-5067-4eb8-b488-103661208717"
   },
   "outputs": [
    {
     "name": "stdout",
     "output_type": "stream",
     "text": [
      "KNN F1 (data normalized): 0.5054945054945056\n"
     ]
    }
   ],
   "source": [
    "knn_model = KNeighborsClassifier().fit(X_train_minmax, y_train)\n",
    "y_pred = knn_model.predict(X_test_minmax)\n",
    "print(f'KNN F1 (data normalized): {f1_score(y_true=y_test, y_pred=y_pred)}')"
   ]
  },
  {
   "cell_type": "code",
   "execution_count": 23,
   "id": "6ev_m-YzBcDz",
   "metadata": {
    "colab": {
     "base_uri": "https://localhost:8080/"
    },
    "id": "6ev_m-YzBcDz",
    "outputId": "997a5c47-cbc8-49b5-eace-2f670577b56b"
   },
   "outputs": [
    {
     "name": "stdout",
     "output_type": "stream",
     "text": [
      "logistic F1 (no normalization): 0.29411764705882354\n"
     ]
    }
   ],
   "source": [
    "logit_model = LogisticRegression(penalty='l2', C=1.5, max_iter=10000).fit(OH_X_train, y_train)\n",
    "y_pred = logit_model.predict(OH_X_test)\n",
    "print(f'logistic F1 (no normalization): {f1_score(y_true=y_test, y_pred=y_pred)}')"
   ]
  },
  {
   "cell_type": "code",
   "execution_count": 24,
   "id": "5rsRBuq7A94p",
   "metadata": {
    "colab": {
     "base_uri": "https://localhost:8080/"
    },
    "id": "5rsRBuq7A94p",
    "outputId": "c36c5c1f-1ca9-485b-f1cf-5c0b9fa64372"
   },
   "outputs": [
    {
     "name": "stdout",
     "output_type": "stream",
     "text": [
      "logistic F1 (data normalized): 0.23076923076923075\n"
     ]
    }
   ],
   "source": [
    "logit_model = LogisticRegression(penalty='l2', C=1).fit(X_train_minmax, y_train)\n",
    "y_pred = logit_model.predict(X_test_minmax)\n",
    "print(f'logistic F1 (data normalized): {f1_score(y_true=y_test, y_pred=y_pred)}')"
   ]
  },
  {
   "cell_type": "markdown",
   "id": "f24f598f-67e1-46e7-b6ae-aaf474619ccc",
   "metadata": {
    "id": "f24f598f-67e1-46e7-b6ae-aaf474619ccc",
    "tags": []
   },
   "source": [
    "## GridSearchCV, RandomSearchCV\n",
    "\n",
    "https://scikit-learn.org/stable/modules/grid_search.html"
   ]
  },
  {
   "cell_type": "code",
   "execution_count": 25,
   "id": "3e06d000-1b88-4e57-9e7a-1c856a02a52b",
   "metadata": {
    "id": "3e06d000-1b88-4e57-9e7a-1c856a02a52b"
   },
   "outputs": [],
   "source": [
    "from sklearn.model_selection import GridSearchCV, RandomizedSearchCV\n",
    "from scipy.stats import uniform, randint\n",
    "\n",
    "def plot_classification(y_true, y_pred):\n",
    "    target_names = ['Loyal', 'Leavers']\n",
    "    labels_names = [0, 1] \n",
    "    print(classification_report(y_true, y_pred,labels=labels_names, target_names=target_names))    \n",
    "    cm = confusion_matrix(y_true, y_pred,labels=labels_names)  #, normalize='true'\n",
    "    disp = ConfusionMatrixDisplay(confusion_matrix=cm,display_labels=target_names)\n",
    "    disp = disp.plot(cmap=plt.cm.Blues,values_format='g')\n",
    "    plt.show()\n",
    "    \n",
    "\n"
   ]
  },
  {
   "cell_type": "code",
   "execution_count": 26,
   "id": "3d1dcdd4-5c55-408a-adb0-e7dc7042c022",
   "metadata": {
    "id": "3d1dcdd4-5c55-408a-adb0-e7dc7042c022"
   },
   "outputs": [],
   "source": [
    "# 16 combinations\n",
    "score = \"f1\"\n",
    "knn_model = KNeighborsClassifier()"
   ]
  },
  {
   "cell_type": "markdown",
   "id": "81c0453a-0d4d-44ab-891d-8d104612b60d",
   "metadata": {
    "id": "81c0453a-0d4d-44ab-891d-8d104612b60d",
    "tags": []
   },
   "source": [
    "### Grid Search - 16 combinations"
   ]
  },
  {
   "cell_type": "code",
   "execution_count": 27,
   "id": "945b11cf-a6ef-4bd1-b17f-e63a88c7545c",
   "metadata": {
    "colab": {
     "base_uri": "https://localhost:8080/"
    },
    "id": "945b11cf-a6ef-4bd1-b17f-e63a88c7545c",
    "outputId": "be379124-bc3b-4a80-aab7-2d946882c837"
   },
   "outputs": [
    {
     "name": "stdout",
     "output_type": "stream",
     "text": [
      "Grid Search F1: 0.5353535353535354\n",
      "Best parameters set found on training set:\n",
      "{'n_neighbors': 3, 'p': 2, 'weights': 'uniform'}\n",
      "CPU times: user 4.11 s, sys: 181 ms, total: 4.29 s\n",
      "Wall time: 3.62 s\n"
     ]
    }
   ],
   "source": [
    "%%time\n",
    "tuned_parameters = {\"n_neighbors\": [1, 3, 5, 7], \"weights\": [\"uniform\", \"distance\"], \"p\": [2, 10] }\n",
    "\n",
    "clf_grid = GridSearchCV(knn_model, tuned_parameters, scoring=score)\n",
    "clf_grid.fit(X_train_minmax, y_train)\n",
    "\n",
    "y_pred = clf_grid.predict(X_test_minmax)\n",
    "print(f'Grid Search F1: {f1_score(y_true=y_test, y_pred=y_pred)}')\n",
    "\n",
    "print(\"Best parameters set found on training set:\")\n",
    "print(clf_grid.best_params_)"
   ]
  },
  {
   "cell_type": "markdown",
   "id": "7df4d640-34d9-4fb7-8baf-a902fb33d390",
   "metadata": {
    "id": "7df4d640-34d9-4fb7-8baf-a902fb33d390",
    "tags": []
   },
   "source": [
    "### Random Search - 16 combinations"
   ]
  },
  {
   "cell_type": "code",
   "execution_count": 28,
   "id": "30a0800d-f642-4285-897a-576c3d9cf11f",
   "metadata": {
    "colab": {
     "base_uri": "https://localhost:8080/"
    },
    "id": "30a0800d-f642-4285-897a-576c3d9cf11f",
    "outputId": "a3bad59d-c46f-457f-d0ab-28b9b4a82485"
   },
   "outputs": [
    {
     "name": "stdout",
     "output_type": "stream",
     "text": [
      "Random Search F1: 0.5408163265306122\n",
      "Best parameters set found on training set:\n",
      "{'n_neighbors': 3, 'p': 3, 'weights': 'distance'}\n",
      "CPU times: user 5.85 s, sys: 96.3 ms, total: 5.94 s\n",
      "Wall time: 5.96 s\n"
     ]
    }
   ],
   "source": [
    "%%time\n",
    "tuned_parameters_rs = {\"n_neighbors\": randint(1, 10), \"weights\": [\"uniform\", \"distance\"], \"p\": randint(1, 100) }\n",
    "clf_rs = RandomizedSearchCV(knn_model, tuned_parameters_rs, scoring=score, n_iter=16)\n",
    "clf_rs.fit(X_train_minmax, y_train)\n",
    "y_pred = clf_rs.predict(X_test_minmax)\n",
    "print(f'Random Search F1: {f1_score(y_true=y_test, y_pred=y_pred)}')\n",
    "print(\"Best parameters set found on training set:\")\n",
    "print(clf_rs.best_params_)"
   ]
  },
  {
   "cell_type": "code",
   "execution_count": 29,
   "id": "qvclO37yXeW2",
   "metadata": {
    "colab": {
     "base_uri": "https://localhost:8080/"
    },
    "id": "qvclO37yXeW2",
    "outputId": "6665841f-3ca4-40d5-8438-37f6099e826e"
   },
   "outputs": [
    {
     "name": "stdout",
     "output_type": "stream",
     "text": [
      "Random Search F1: 0.5353535353535354\n",
      "Best parameters set found on training set:\n",
      "{'n_neighbors': 3, 'p': 2, 'weights': 'uniform'}\n",
      "CPU times: user 4.49 s, sys: 70.9 ms, total: 4.56 s\n",
      "Wall time: 4.58 s\n"
     ]
    }
   ],
   "source": [
    "%%time\n",
    "tuned_parameters_rs = {\"n_neighbors\": randint(1, 5), \"weights\": [\"uniform\", \"distance\"], \"p\": randint(1, 10) }\n",
    "clf_rs = RandomizedSearchCV(knn_model, tuned_parameters_rs, scoring=score, n_iter=16)\n",
    "clf_rs.fit(X_train_minmax, y_train)\n",
    "y_pred = clf_rs.predict(X_test_minmax)\n",
    "print(f'Random Search F1: {f1_score(y_true=y_test, y_pred=y_pred)}')\n",
    "print(\"Best parameters set found on training set:\")\n",
    "print(clf_rs.best_params_)"
   ]
  },
  {
   "cell_type": "markdown",
   "id": "0dbc1b58-2175-4920-9937-87680669e3e4",
   "metadata": {
    "id": "0dbc1b58-2175-4920-9937-87680669e3e4"
   },
   "source": [
    "#### Questions for practices\n",
    "- test out Grid and Random search algorithms to find best parameters for SVM classifier\n",
    "- 'linear' kernel: C\n",
    "- 'rbf' kernel: C, gamma\n",
    "- be mindful about estimation time\n",
    "- for random search use uniform distribution when possible {\"C\": uniform(0.1, 1000)}"
   ]
  },
  {
   "cell_type": "code",
   "execution_count": 30,
   "id": "03079dd3-243d-47c6-aba2-da189a58be43",
   "metadata": {
    "id": "03079dd3-243d-47c6-aba2-da189a58be43"
   },
   "outputs": [],
   "source": [
    "svm_params = {'C': 21.281798726506207, 'gamma': 0.522614759878134, 'kernel': 'rbf'}"
   ]
  },
  {
   "cell_type": "code",
   "execution_count": 31,
   "id": "93354543-584c-438c-843a-a0037265fbd1",
   "metadata": {},
   "outputs": [
    {
     "name": "stdout",
     "output_type": "stream",
     "text": [
      "Best SVM F1: 0.6217616580310881\n"
     ]
    }
   ],
   "source": [
    "svm_model = SVC(**svm_params).fit(X_train_minmax, y_train)\n",
    "y_pred = svm_model.predict(X_test_minmax)\n",
    "print(f'Best SVM F1: {f1_score(y_true=y_test, y_pred=y_pred)}')"
   ]
  },
  {
   "cell_type": "code",
   "execution_count": 32,
   "id": "2acdd195-7247-4bed-a41f-3fe371ab0dff",
   "metadata": {},
   "outputs": [
    {
     "name": "stdout",
     "output_type": "stream",
     "text": [
      "              precision    recall  f1-score   support\n",
      "\n",
      "       Loyal       0.92      0.98      0.95       684\n",
      "     Leavers       0.78      0.52      0.62       116\n",
      "\n",
      "    accuracy                           0.91       800\n",
      "   macro avg       0.85      0.75      0.78       800\n",
      "weighted avg       0.90      0.91      0.90       800\n",
      "\n"
     ]
    },
    {
     "data": {
      "image/png": "[encoded data removed]",
      "text/plain": [
       "<Figure size 432x288 with 2 Axes>"
      ]
     },
     "metadata": {
      "needs_background": "light"
     },
     "output_type": "display_data"
    }
   ],
   "source": [
    "plot_classification(y_test, y_pred)"
   ]
  },
  {
   "cell_type": "code",
   "execution_count": 33,
   "id": "59a0cc91-95d4-4c5c-9f12-b886cc2721b6",
   "metadata": {},
   "outputs": [],
   "source": [
    "# features_names = OH_X_train.columns\n",
    "# f_importances(svm_model.coef_, features_names)"
   ]
  },
  {
   "cell_type": "code",
   "execution_count": 34,
   "id": "2d2687d1-69b1-42bc-aa88-1ca4a548a056",
   "metadata": {},
   "outputs": [],
   "source": [
    "# # The SHAP values\n",
    "# import shap\n",
    "\n",
    "# svm_explainer = shap.KernelExplainer(svm_model.predict, X_test_minmax)\n",
    "# svm_shap_values = svm_explainer.shap_values(X_test_minmax)\n",
    "\n",
    "# # Make plot\n",
    "# shap.summary_plot(shap_values, X_test, plot_size=[16,12])"
   ]
  },
  {
   "cell_type": "code",
   "execution_count": 35,
   "id": "d1b2e64f-f3d6-4341-8e5d-60494ad175ef",
   "metadata": {},
   "outputs": [],
   "source": [
    "from collections import Counter\n",
    "\n",
    "# Different ways to upsample\n",
    "from imblearn.over_sampling import SMOTE\n",
    "from imblearn.combine import SMOTETomek\n",
    "from imblearn.combine import SMOTEENN"
   ]
  },
  {
   "cell_type": "code",
   "execution_count": 36,
   "id": "d4cffe03-ee88-49de-8a80-d1c435d19edf",
   "metadata": {},
   "outputs": [
    {
     "name": "stdout",
     "output_type": "stream",
     "text": [
      "Before: Counter({0: 1594, 1: 272})\n",
      "After: Counter({0: 1594, 1: 1594})\n"
     ]
    }
   ],
   "source": [
    "counter_before = Counter(y_train)\n",
    "\n",
    "smt = SMOTE(random_state=42)\n",
    "X_train_sm, y_train_sm = smt.fit_resample(X_train_minmax, y_train)\n",
    "\n",
    "print(f'Before: {counter_before}')\n",
    "print(f'After: {Counter(y_train_sm)}')"
   ]
  },
  {
   "cell_type": "code",
   "execution_count": 37,
   "id": "11257bc1-b9a0-4a33-a1f4-4df57801d10e",
   "metadata": {},
   "outputs": [
    {
     "name": "stdout",
     "output_type": "stream",
     "text": [
      "Best SVM F1: 0.6477732793522267\n"
     ]
    }
   ],
   "source": [
    "svm_model_sm = SVC(**svm_params).fit(X_train_sm, y_train_sm)\n",
    "y_pred = svm_model_sm.predict(X_test_minmax)\n",
    "print(f'Best SVM F1: {f1_score(y_true=y_test, y_pred=y_pred)}')"
   ]
  },
  {
   "cell_type": "code",
   "execution_count": 38,
   "id": "e609c1d5-c0cf-426a-807c-e0c2c8014986",
   "metadata": {},
   "outputs": [
    {
     "name": "stdout",
     "output_type": "stream",
     "text": [
      "              precision    recall  f1-score   support\n",
      "\n",
      "       Loyal       0.95      0.93      0.94       684\n",
      "     Leavers       0.61      0.69      0.65       116\n",
      "\n",
      "    accuracy                           0.89       800\n",
      "   macro avg       0.78      0.81      0.79       800\n",
      "weighted avg       0.90      0.89      0.89       800\n",
      "\n"
     ]
    },
    {
     "data": {
      "image/png": "[encoded data removed]",
      "text/plain": [
       "<Figure size 432x288 with 2 Axes>"
      ]
     },
     "metadata": {
      "needs_background": "light"
     },
     "output_type": "display_data"
    }
   ],
   "source": [
    "plot_classification(y_test, y_pred)"
   ]
  },
  {
   "cell_type": "code",
   "execution_count": 39,
   "id": "e0e64b8b-d7c2-4951-a45f-6c86a0387ce0",
   "metadata": {},
   "outputs": [
    {
     "name": "stdout",
     "output_type": "stream",
     "text": [
      "Grid Search F1: 0.6448979591836733\n",
      "Best parameters set found on training set:\n",
      "{'C': 100, 'gamma': 0.52, 'kernel': 'rbf'}\n",
      "CPU times: user 7.67 s, sys: 127 ms, total: 7.79 s\n",
      "Wall time: 7.83 s\n"
     ]
    }
   ],
   "source": [
    "%%time\n",
    "tuned_parameters = {'C': [1, 21, 100], 'gamma': [0.1, 0.52], 'kernel': ['rbf']}\n",
    "svm_model = SVC()\n",
    "score = 'f1'\n",
    "\n",
    "clf_grid = GridSearchCV(svm_model, tuned_parameters, scoring=score)\n",
    "clf_grid.fit(X_train_sm, y_train_sm)\n",
    "\n",
    "y_pred = clf_grid.predict(X_test_minmax)\n",
    "print(f'Grid Search F1: {f1_score(y_true=y_test, y_pred=y_pred)}')\n",
    "\n",
    "print(\"Best parameters set found on training set:\")\n",
    "print(clf_grid.best_params_)"
   ]
  },
  {
   "cell_type": "code",
   "execution_count": 40,
   "id": "c92c6ec9-82c1-444e-ab26-fc9d75b5cc65",
   "metadata": {},
   "outputs": [
    {
     "name": "stdout",
     "output_type": "stream",
     "text": [
      "              precision    recall  f1-score   support\n",
      "\n",
      "       Loyal       0.94      0.93      0.94       684\n",
      "     Leavers       0.61      0.68      0.64       116\n",
      "\n",
      "    accuracy                           0.89       800\n",
      "   macro avg       0.78      0.80      0.79       800\n",
      "weighted avg       0.90      0.89      0.89       800\n",
      "\n"
     ]
    },
    {
     "data": {
      "image/png": "[encoded data removed]",
      "text/plain": [
       "<Figure size 432x288 with 2 Axes>"
      ]
     },
     "metadata": {
      "needs_background": "light"
     },
     "output_type": "display_data"
    }
   ],
   "source": [
    "plot_classification(y_test, y_pred)"
   ]
  },
  {
   "cell_type": "code",
   "execution_count": 41,
   "id": "ccadffba-3508-4a68-9c45-31b33966fc82",
   "metadata": {},
   "outputs": [
    {
     "name": "stdout",
     "output_type": "stream",
     "text": [
      "Before: Counter({0: 1594, 1: 272})\n",
      "After: Counter({0: 1585, 1: 1585})\n"
     ]
    }
   ],
   "source": [
    "smt = SMOTETomek(random_state=42)\n",
    "X_train_sm, y_train_sm = smt.fit_resample(X_train_minmax, y_train)\n",
    "\n",
    "print(f'Before: {counter_before}')\n",
    "print(f'After: {Counter(y_train_sm)}')"
   ]
  },
  {
   "cell_type": "code",
   "execution_count": 42,
   "id": "1cd75d4e-401f-41a5-810e-1d59fda6e454",
   "metadata": {},
   "outputs": [
    {
     "name": "stdout",
     "output_type": "stream",
     "text": [
      "Best SVM F1: 0.6477732793522267\n"
     ]
    }
   ],
   "source": [
    "svm_model_sm = SVC(**svm_params).fit(X_train_sm, y_train_sm)\n",
    "y_pred = svm_model_sm.predict(X_test_minmax)\n",
    "print(f'Best SVM F1: {f1_score(y_true=y_test, y_pred=y_pred)}')"
   ]
  },
  {
   "cell_type": "code",
   "execution_count": 43,
   "id": "46ca4d88-dc80-4bdf-ae28-99e641b9024d",
   "metadata": {},
   "outputs": [
    {
     "name": "stdout",
     "output_type": "stream",
     "text": [
      "Before: Counter({0: 1594, 1: 272})\n",
      "After: Counter({1: 1532, 0: 1209})\n",
      "Best SVM F1: 0.5742574257425742\n"
     ]
    }
   ],
   "source": [
    "smt = SMOTEENN(random_state=42)\n",
    "X_train_sm, y_train_sm = smt.fit_resample(X_train_minmax, y_train)\n",
    "\n",
    "print(f'Before: {counter_before}')\n",
    "print(f'After: {Counter(y_train_sm)}')\n",
    "svm_model_sm = SVC(**svm_params).fit(X_train_sm, y_train_sm)\n",
    "y_pred = svm_model_sm.predict(X_test_minmax)\n",
    "print(f'Best SVM F1: {f1_score(y_true=y_test, y_pred=y_pred)}')"
   ]
  },
  {
   "cell_type": "code",
   "execution_count": 44,
   "id": "2800468b-f1d6-42df-9c93-7f6000bd3d62",
   "metadata": {},
   "outputs": [
    {
     "name": "stdout",
     "output_type": "stream",
     "text": [
      "Grid Search F1: 0.5819397993311037\n",
      "Best parameters set found on training set:\n",
      "{'C': 30, 'gamma': 0.52, 'kernel': 'rbf'}\n",
      "CPU times: user 5.57 s, sys: 82.3 ms, total: 5.65 s\n",
      "Wall time: 5.67 s\n"
     ]
    }
   ],
   "source": [
    "%%time\n",
    "tuned_parameters = {'C': [1, 15, 21, 30], 'gamma': [0.1, 0.52], 'kernel': ['rbf']}\n",
    "svm_model = SVC()\n",
    "score = 'f1'\n",
    "\n",
    "clf_grid = GridSearchCV(svm_model, tuned_parameters, scoring=score)\n",
    "clf_grid.fit(X_train_sm, y_train_sm)\n",
    "\n",
    "y_pred = clf_grid.predict(X_test_minmax)\n",
    "print(f'Grid Search F1: {f1_score(y_true=y_test, y_pred=y_pred)}')\n",
    "\n",
    "print(\"Best parameters set found on training set:\")\n",
    "print(clf_grid.best_params_)"
   ]
  },
  {
   "cell_type": "markdown",
   "id": "d4dc3854-91dc-4f62-aa01-570d3378fee7",
   "metadata": {},
   "source": [
    "## Naive Bayes Classifier"
   ]
  },
  {
   "cell_type": "code",
   "execution_count": 45,
   "id": "235e1668-7cec-4e49-b8e8-6cb72eb98df9",
   "metadata": {},
   "outputs": [],
   "source": [
    "from sklearn.naive_bayes import MultinomialNB, GaussianNB"
   ]
  },
  {
   "cell_type": "code",
   "execution_count": 46,
   "id": "84e2e4d7-f721-45c6-90a9-21968c829531",
   "metadata": {},
   "outputs": [
    {
     "name": "stdout",
     "output_type": "stream",
     "text": [
      "Naive Bayes F1 (data normalized): 0.49579831932773105\n",
      "\n",
      "              precision    recall  f1-score   support\n",
      "\n",
      "       Loyal       0.92      0.91      0.91       684\n",
      "     Leavers       0.48      0.51      0.50       116\n",
      "\n",
      "    accuracy                           0.85       800\n",
      "   macro avg       0.70      0.71      0.70       800\n",
      "weighted avg       0.85      0.85      0.85       800\n",
      "\n"
     ]
    },
    {
     "data": {
      "image/png": "[encoded data removed]",
      "text/plain": [
       "<Figure size 432x288 with 2 Axes>"
      ]
     },
     "metadata": {
      "needs_background": "light"
     },
     "output_type": "display_data"
    }
   ],
   "source": [
    "clf = GaussianNB()\n",
    "nb_model = clf.fit(X_train_minmax, y_train)\n",
    "y_pred = nb_model.predict(X_test_minmax)\n",
    "print(f'Naive Bayes F1 (data normalized): {f1_score(y_true=y_test, y_pred=y_pred)}')\n",
    "print()\n",
    "plot_classification(y_test, y_pred)"
   ]
  },
  {
   "cell_type": "code",
   "execution_count": 47,
   "id": "e1993ab8-154b-485e-9d6e-b2dbe7989fe5",
   "metadata": {},
   "outputs": [
    {
     "name": "stdout",
     "output_type": "stream",
     "text": [
      "Grid Search F1: 0.49579831932773105\n",
      "\n",
      "Best parameters set found on training set:\n",
      "{'var_smoothing': 0.00038566204211634724}\n",
      "CPU times: user 417 ms, sys: 15.1 ms, total: 433 ms\n",
      "Wall time: 434 ms\n"
     ]
    }
   ],
   "source": [
    "%%time\n",
    "tuned_parameters =  {'var_smoothing': np.logspace(0,-9, num=30)}\n",
    "clf = GaussianNB()\n",
    "score = 'f1'\n",
    "\n",
    "clf_grid = GridSearchCV(clf, tuned_parameters, scoring=score)\n",
    "clf_grid.fit(X_train_minmax, y_train)\n",
    "\n",
    "y_pred = clf_grid.predict(X_test_minmax)\n",
    "print(f'Grid Search F1: {f1_score(y_true=y_test, y_pred=y_pred)}')\n",
    "print()\n",
    "print(\"Best parameters set found on training set:\")\n",
    "print(clf_grid.best_params_)"
   ]
  },
  {
   "cell_type": "code",
   "execution_count": 48,
   "id": "7d2eedae-5006-4d05-800b-4d16e2a0952e",
   "metadata": {},
   "outputs": [
    {
     "name": "stdout",
     "output_type": "stream",
     "text": [
      "\n",
      "              precision    recall  f1-score   support\n",
      "\n",
      "       Loyal       0.92      0.91      0.91       684\n",
      "     Leavers       0.48      0.51      0.50       116\n",
      "\n",
      "    accuracy                           0.85       800\n",
      "   macro avg       0.70      0.71      0.70       800\n",
      "weighted avg       0.85      0.85      0.85       800\n",
      "\n"
     ]
    },
    {
     "data": {
      "image/png": "[encoded data removed]",
      "text/plain": [
       "<Figure size 432x288 with 2 Axes>"
      ]
     },
     "metadata": {
      "needs_background": "light"
     },
     "output_type": "display_data"
    }
   ],
   "source": [
    "print()\n",
    "plot_classification(y_test, y_pred)"
   ]
  },
  {
   "cell_type": "markdown",
   "id": "5fb47806-a00e-47ab-bf78-c459dfad1e7b",
   "metadata": {},
   "source": [
    "#### Try Naive Bayes Classifier on upsampled data"
   ]
  },
  {
   "cell_type": "code",
   "execution_count": 49,
   "id": "3c3c84d1-5879-4b90-9817-13654961014b",
   "metadata": {},
   "outputs": [
    {
     "name": "stdout",
     "output_type": "stream",
     "text": [
      "Before: Counter({0: 1594, 1: 272})\n",
      "After: Counter({1: 1532, 0: 1209})\n"
     ]
    }
   ],
   "source": [
    "smt = SMOTEENN(random_state=42)\n",
    "X_train_sm, y_train_sm = smt.fit_resample(X_train_minmax, y_train)\n",
    "\n",
    "print(f'Before: {counter_before}')\n",
    "print(f'After: {Counter(y_train_sm)}')"
   ]
  },
  {
   "cell_type": "code",
   "execution_count": 50,
   "id": "0ad574e5-ca95-4f63-acbd-85ae78380da1",
   "metadata": {},
   "outputs": [
    {
     "name": "stdout",
     "output_type": "stream",
     "text": [
      "Grid Search F1: 0.5269461077844312\n",
      "\n",
      "Best parameters set found on training set:\n",
      "{'var_smoothing': 0.0002030917620904735}\n",
      "CPU times: user 544 ms, sys: 26 ms, total: 570 ms\n",
      "Wall time: 572 ms\n"
     ]
    }
   ],
   "source": [
    "%%time\n",
    "tuned_parameters =  {'var_smoothing': np.logspace(0,-9, num=40)}\n",
    "clf = GaussianNB()\n",
    "score = 'f1'\n",
    "\n",
    "clf_grid = GridSearchCV(clf, tuned_parameters, scoring=score)\n",
    "clf_grid.fit(X_train_sm, y_train_sm)\n",
    "\n",
    "y_pred = clf_grid.predict(X_test_minmax)\n",
    "print(f'Grid Search F1: {f1_score(y_true=y_test, y_pred=y_pred)}')\n",
    "print()\n",
    "print(\"Best parameters set found on training set:\")\n",
    "print(clf_grid.best_params_)"
   ]
  },
  {
   "cell_type": "code",
   "execution_count": 51,
   "id": "4b2bc0f2-c48f-46b8-9fad-6855d282ecb3",
   "metadata": {},
   "outputs": [
    {
     "name": "stdout",
     "output_type": "stream",
     "text": [
      "\n",
      "              precision    recall  f1-score   support\n",
      "\n",
      "       Loyal       0.95      0.81      0.88       684\n",
      "     Leavers       0.40      0.76      0.53       116\n",
      "\n",
      "    accuracy                           0.80       800\n",
      "   macro avg       0.68      0.78      0.70       800\n",
      "weighted avg       0.87      0.80      0.82       800\n",
      "\n"
     ]
    },
    {
     "data": {
      "image/png": "[encoded data removed]",
      "text/plain": [
       "<Figure size 432x288 with 2 Axes>"
      ]
     },
     "metadata": {
      "needs_background": "light"
     },
     "output_type": "display_data"
    }
   ],
   "source": [
    "print()\n",
    "plot_classification(y_test, y_pred)"
   ]
  },
  {
   "cell_type": "code",
   "execution_count": 52,
   "id": "c5e37d62-7678-43d0-8219-0c143e3555bf",
   "metadata": {},
   "outputs": [],
   "source": [
    "from sklearn.linear_model import LogisticRegression"
   ]
  },
  {
   "cell_type": "code",
   "execution_count": 53,
   "id": "49c8348c-88e3-4797-9a8a-6c5dd92c8744",
   "metadata": {},
   "outputs": [
    {
     "name": "stdout",
     "output_type": "stream",
     "text": [
      "Grid Search F1: 0.23076923076923075\n",
      "\n",
      "              precision    recall  f1-score   support\n",
      "\n",
      "       Loyal       0.87      0.97      0.92       684\n",
      "     Leavers       0.45      0.16      0.23       116\n",
      "\n",
      "    accuracy                           0.85       800\n",
      "   macro avg       0.66      0.56      0.57       800\n",
      "weighted avg       0.81      0.85      0.82       800\n",
      "\n"
     ]
    },
    {
     "data": {
      "image/png": "[encoded data removed]",
      "text/plain": [
       "<Figure size 432x288 with 2 Axes>"
      ]
     },
     "metadata": {
      "needs_background": "light"
     },
     "output_type": "display_data"
    }
   ],
   "source": [
    "logit_model = LogisticRegression().fit(X_train_minmax, y_train)\n",
    "\n",
    "y_pred = logit_model.predict(X_test_minmax)\n",
    "\n",
    "print(f'Grid Search F1: {f1_score(y_true=y_test, y_pred=y_pred)}')\n",
    "print()\n",
    "plot_classification(y_test, y_pred)"
   ]
  },
  {
   "cell_type": "code",
   "execution_count": 54,
   "id": "4fb1ff48-4046-4c5f-bd4e-530912fdfea8",
   "metadata": {},
   "outputs": [
    {
     "name": "stdout",
     "output_type": "stream",
     "text": [
      "F1: 0.43934426229508194\n",
      "\n",
      "              precision    recall  f1-score   support\n",
      "\n",
      "       Loyal       0.92      0.82      0.87       684\n",
      "     Leavers       0.35      0.58      0.44       116\n",
      "\n",
      "    accuracy                           0.79       800\n",
      "   macro avg       0.64      0.70      0.65       800\n",
      "weighted avg       0.84      0.79      0.81       800\n",
      "\n"
     ]
    },
    {
     "data": {
      "image/png": "[encoded data removed]",
      "text/plain": [
       "<Figure size 432x288 with 2 Axes>"
      ]
     },
     "metadata": {
      "needs_background": "light"
     },
     "output_type": "display_data"
    }
   ],
   "source": [
    "logit_model = LogisticRegression().fit(X_train_sm, y_train_sm)\n",
    "thresh = 0.7\n",
    "y_pred_prob = logit_model.predict_proba(X_test_minmax)\n",
    "y_pred = (y_pred_prob[:,1] > thresh).astype('int')\n",
    "\n",
    "print(f'F1: {f1_score(y_true=y_test, y_pred=y_pred)}')\n",
    "print()\n",
    "plot_classification(y_test, y_pred)"
   ]
  },
  {
   "cell_type": "code",
   "execution_count": 55,
   "id": "6b98b503-99b0-4401-a884-64b663ebf138",
   "metadata": {},
   "outputs": [
    {
     "data": {
      "text/plain": [
       "0.5130168453292495"
      ]
     },
     "execution_count": 55,
     "metadata": {},
     "output_type": "execute_result"
    }
   ],
   "source": [
    "# beta = 2, gives more weight to recall\n",
    "fbeta_score(y_true=y_test, y_pred=y_pred, beta=2)"
   ]
  },
  {
   "cell_type": "markdown",
   "id": "6f37630d-f71b-431f-ba6e-41c1e3a68f0f",
   "metadata": {},
   "source": [
    "## Classifiers Ensemble"
   ]
  },
  {
   "cell_type": "markdown",
   "id": "e8a9c4c5-3a17-4003-b6e7-c9672e456e70",
   "metadata": {},
   "source": [
    "What if we combine not so good classifiers? Can we improve accuracy"
   ]
  },
  {
   "cell_type": "markdown",
   "id": "0fcd13d1-0db2-401c-94fe-4976f562e2cb",
   "metadata": {},
   "source": [
    "### Random Forrest"
   ]
  },
  {
   "cell_type": "code",
   "execution_count": 56,
   "id": "7f5add33-810d-4add-b551-522194fe1617",
   "metadata": {},
   "outputs": [],
   "source": [
    "from sklearn.ensemble import RandomForestClassifier\n",
    "from sklearn.metrics import make_scorer"
   ]
  },
  {
   "cell_type": "markdown",
   "id": "c5155735-aac1-45a3-9303-074069d4ad70",
   "metadata": {},
   "source": [
    "#### Upsampled data"
   ]
  },
  {
   "cell_type": "markdown",
   "id": "5d56c472-8c84-483a-8428-d027a757ade9",
   "metadata": {
    "tags": []
   },
   "source": [
    "Let's implements F2 score (more weight to precision than F1)"
   ]
  },
  {
   "cell_type": "code",
   "execution_count": 67,
   "id": "80329c35-d214-4076-8842-54f1fd022b66",
   "metadata": {},
   "outputs": [],
   "source": [
    "f2_scorer = make_scorer(fbeta_score, beta=2)\n",
    "\n",
    "clf = RandomForestClassifier(random_state=42)"
   ]
  },
  {
   "cell_type": "code",
   "execution_count": 70,
   "id": "e792b3c5-8099-4d72-ae2f-1f415d549e60",
   "metadata": {},
   "outputs": [
    {
     "name": "stdout",
     "output_type": "stream",
     "text": [
      "Grid Search F2: 0.7004830917874397\n",
      "Best parameters set found on training set:\n",
      "{'bootstrap': False, 'max_features': 'auto', 'min_samples_split': 4, 'n_estimators': 50}\n",
      "CPU times: user 340 ms, sys: 16.8 ms, total: 357 ms\n",
      "Wall time: 2.14 s\n"
     ]
    }
   ],
   "source": [
    "%%time\n",
    "tuned_parameters = {'n_estimators': [30, 50, 100],\n",
    "               'max_features': ['auto'],\n",
    "               'min_samples_split': [3, 4, 5, 7],\n",
    "               'bootstrap': [False],\n",
    "                }\n",
    "\n",
    "\n",
    "clf_grid = GridSearchCV(clf, tuned_parameters, scoring=f2_scorer, n_jobs=-1)\n",
    "clf_grid.fit(X_train_sm, y_train_sm)\n",
    "rf_params = clf_grid.best_params_\n",
    "\n",
    "y_pred = clf_grid.predict(X_test_minmax)\n",
    "print(f'Grid Search F2: {fbeta_score(y_true=y_test, y_pred=y_pred, beta=2)}')\n",
    "\n",
    "print(\"Best parameters set found on training set:\")\n",
    "print(clf_grid.best_params_)"
   ]
  },
  {
   "cell_type": "code",
   "execution_count": 71,
   "id": "ed487924-b88b-47f9-89d8-5409f7036e1d",
   "metadata": {},
   "outputs": [
    {
     "name": "stdout",
     "output_type": "stream",
     "text": [
      "F2: 0.70\n"
     ]
    }
   ],
   "source": [
    "clf = RandomForestClassifier(**rf_params, random_state=42)\n",
    "\n",
    "clf.fit(X_train_sm, y_train_sm)\n",
    "\n",
    "y_pred = clf.predict(X_test_minmax)\n",
    "print(f'F2: {fbeta_score(y_true=y_test, y_pred=y_pred, beta=2):.2f}')"
   ]
  },
  {
   "cell_type": "code",
   "execution_count": 60,
   "id": "bd9eed47-7aaf-4ef7-adff-89fddd9b3bb5",
   "metadata": {},
   "outputs": [
    {
     "name": "stdout",
     "output_type": "stream",
     "text": [
      "              precision    recall  f1-score   support\n",
      "\n",
      "       Loyal       0.95      0.90      0.93       684\n",
      "     Leavers       0.55      0.75      0.64       116\n",
      "\n",
      "    accuracy                           0.88       800\n",
      "   macro avg       0.75      0.82      0.78       800\n",
      "weighted avg       0.90      0.88      0.88       800\n",
      "\n"
     ]
    },
    {
     "data": {
      "image/png": "[encoded data removed]",
      "text/plain": [
       "<Figure size 432x288 with 2 Axes>"
      ]
     },
     "metadata": {
      "needs_background": "light"
     },
     "output_type": "display_data"
    }
   ],
   "source": [
    "plot_classification(y_test, y_pred)"
   ]
  },
  {
   "cell_type": "markdown",
   "id": "eae34d02-df77-4b1a-a35a-f5b3b2759488",
   "metadata": {},
   "source": [
    "#### Original data"
   ]
  },
  {
   "cell_type": "markdown",
   "id": "09f92838-c37c-447b-99aa-273f33e78191",
   "metadata": {
    "tags": []
   },
   "source": [
    "Let's implements F2 score (more weight to precision than F1)"
   ]
  },
  {
   "cell_type": "code",
   "execution_count": 61,
   "id": "9f7d6630-a9c0-4c30-b7bd-d6306a337a77",
   "metadata": {},
   "outputs": [],
   "source": [
    "f2_scorer = make_scorer(fbeta_score, beta=2)\n",
    "\n",
    "clf = RandomForestClassifier(random_state=42)"
   ]
  },
  {
   "cell_type": "code",
   "execution_count": 62,
   "id": "94b159e9-bbcc-4696-aa83-7a2024bd6869",
   "metadata": {},
   "outputs": [
    {
     "name": "stdout",
     "output_type": "stream",
     "text": [
      "Grid Search F2: 0.759493670886076\n",
      "Best parameters set found on training set:\n",
      "{'bootstrap': False, 'max_features': 'auto', 'min_samples_split': 4, 'n_estimators': 100}\n",
      "CPU times: user 11 s, sys: 182 ms, total: 11.2 s\n",
      "Wall time: 11.3 s\n"
     ]
    }
   ],
   "source": [
    "%%time\n",
    "tuned_parameters = {'n_estimators': [50, 70, 100],\n",
    "               'max_features': ['auto'],\n",
    "               'min_samples_split': [4, 5, 7],\n",
    "               'bootstrap': [False]}\n",
    "\n",
    "\n",
    "clf_grid = GridSearchCV(clf, tuned_parameters, scoring=f2_scorer)\n",
    "clf_grid.fit(X_train_minmax, y_train)\n",
    "rf_params = clf_grid.best_params_\n",
    "\n",
    "y_pred = clf_grid.predict(X_test_minmax)\n",
    "print(f'Grid Search F2: {fbeta_score(y_true=y_test, y_pred=y_pred, beta=2)}')\n",
    "\n",
    "print(\"Best parameters set found on training set:\")\n",
    "print(clf_grid.best_params_)"
   ]
  },
  {
   "cell_type": "code",
   "execution_count": 63,
   "id": "65b1cdba-a98c-44f4-af39-7aece0e1a3c3",
   "metadata": {},
   "outputs": [
    {
     "name": "stdout",
     "output_type": "stream",
     "text": [
      "F2: 0.76\n"
     ]
    }
   ],
   "source": [
    "clf = RandomForestClassifier(**rf_params, random_state=42)\n",
    "\n",
    "clf.fit(X_train_minmax, y_train)\n",
    "\n",
    "y_pred = clf.predict(X_test_minmax)\n",
    "print(f'F2: {fbeta_score(y_true=y_test, y_pred=y_pred, beta=2):.2f}')"
   ]
  },
  {
   "cell_type": "code",
   "execution_count": 64,
   "id": "e74f3707-31bd-49d8-83e9-d590521b37fd",
   "metadata": {},
   "outputs": [
    {
     "name": "stdout",
     "output_type": "stream",
     "text": [
      "              precision    recall  f1-score   support\n",
      "\n",
      "       Loyal       0.95      0.99      0.97       684\n",
      "     Leavers       0.94      0.72      0.82       116\n",
      "\n",
      "    accuracy                           0.95       800\n",
      "   macro avg       0.95      0.86      0.90       800\n",
      "weighted avg       0.95      0.95      0.95       800\n",
      "\n"
     ]
    },
    {
     "data": {
      "image/png": "[encoded data removed]",
      "text/plain": [
       "<Figure size 432x288 with 2 Axes>"
      ]
     },
     "metadata": {
      "needs_background": "light"
     },
     "output_type": "display_data"
    }
   ],
   "source": [
    "plot_classification(y_test, y_pred)"
   ]
  },
  {
   "cell_type": "code",
   "execution_count": 81,
   "id": "023f2bc4-a8b2-4b0e-8421-79bda35836e7",
   "metadata": {},
   "outputs": [],
   "source": [
    "from sklearn.ensemble import GradientBoostingClassifier, AdaBoostClassifier"
   ]
  },
  {
   "cell_type": "code",
   "execution_count": 74,
   "id": "6c0498d4-5741-40e3-af65-93de185ca028",
   "metadata": {},
   "outputs": [
    {
     "name": "stdout",
     "output_type": "stream",
     "text": [
      "Grid Search F2: 0.488245931283906\n",
      "Best parameters set found on training set:\n",
      "{'n_estimators': 100}\n",
      "CPU times: user 2.69 s, sys: 70 ms, total: 2.76 s\n",
      "Wall time: 2.78 s\n"
     ]
    }
   ],
   "source": [
    "%%time\n",
    "\n",
    "clf = AdaBoostClassifier(random_state=42)\n",
    "\n",
    "tuned_parameters = {'n_estimators': [10, 30, 50, 100]}\n",
    "\n",
    "clf_grid = GridSearchCV(clf, tuned_parameters, scoring=f2_scorer)\n",
    "clf_grid.fit(X_train_minmax, y_train)\n",
    "rf_params = clf_grid.best_params_\n",
    "\n",
    "y_pred = clf_grid.predict(X_test_minmax)\n",
    "print(f'Grid Search F2: {fbeta_score(y_true=y_test, y_pred=y_pred, beta=2)}')\n",
    "\n",
    "print(\"Best parameters set found on training set:\")\n",
    "print(clf_grid.best_params_)"
   ]
  },
  {
   "cell_type": "code",
   "execution_count": 88,
   "id": "067c2d68-fbda-4ad2-bbe6-5ddc2f514080",
   "metadata": {},
   "outputs": [
    {
     "name": "stdout",
     "output_type": "stream",
     "text": [
      "Grid Search F2: 0.7857142857142857\n",
      "Best parameters set found on training set:\n",
      "{'max_features': 'auto', 'min_samples_split': 5, 'n_estimators': 200}\n",
      "              precision    recall  f1-score   support\n",
      "\n",
      "       Loyal       0.96      0.99      0.97       684\n",
      "     Leavers       0.92      0.76      0.83       116\n",
      "\n",
      "    accuracy                           0.95       800\n",
      "   macro avg       0.94      0.87      0.90       800\n",
      "weighted avg       0.95      0.95      0.95       800\n",
      "\n"
     ]
    },
    {
     "data": {
      "image/png": "[encoded data removed]",
      "text/plain": [
       "<Figure size 432x288 with 2 Axes>"
      ]
     },
     "metadata": {},
     "output_type": "display_data"
    },
    {
     "name": "stdout",
     "output_type": "stream",
     "text": [
      "CPU times: user 33 s, sys: 508 ms, total: 33.6 s\n",
      "Wall time: 33.7 s\n"
     ]
    }
   ],
   "source": [
    "%%time\n",
    "clf = GradientBoostingClassifier(random_state=42)\n",
    "\n",
    "tuned_parameters = {'n_estimators': [70, 100, 200],\n",
    "               'max_features': ['auto', 'log2', 'sqrt'],\n",
    "               'min_samples_split': [5, 7, 10]}\n",
    "\n",
    "clf_grid = GridSearchCV(clf, tuned_parameters, scoring=f2_scorer) \n",
    "clf_grid.fit(X_train_minmax, y_train)\n",
    "rf_params = clf_grid.best_params_\n",
    "\n",
    "y_pred = clf_grid.predict(X_test_minmax)\n",
    "\n",
    "print(f'Grid Search F2: {fbeta_score(y_true=y_test, y_pred=y_pred, beta=2)}')\n",
    "\n",
    "print(\"Best parameters set found on training set:\")\n",
    "print(clf_grid.best_params_)\n",
    "\n",
    "plot_classification(y_test, y_pred)"
   ]
  },
  {
   "cell_type": "code",
   "execution_count": 89,
   "id": "b63b2a4c-a427-4a0e-8cf3-a1e3c50f50bc",
   "metadata": {},
   "outputs": [
    {
     "name": "stdout",
     "output_type": "stream",
     "text": [
      "Grid Search F2: 0.7165861513687601\n",
      "Best parameters set found on training set:\n",
      "{'max_features': 'auto', 'min_samples_split': 7, 'n_estimators': 200}\n",
      "              precision    recall  f1-score   support\n",
      "\n",
      "       Loyal       0.96      0.90      0.93       684\n",
      "     Leavers       0.57      0.77      0.65       116\n",
      "\n",
      "    accuracy                           0.88       800\n",
      "   macro avg       0.76      0.83      0.79       800\n",
      "weighted avg       0.90      0.88      0.89       800\n",
      "\n"
     ]
    },
    {
     "data": {
      "image/png": "[encoded data removed]",
      "text/plain": [
       "<Figure size 432x288 with 2 Axes>"
      ]
     },
     "metadata": {},
     "output_type": "display_data"
    },
    {
     "name": "stdout",
     "output_type": "stream",
     "text": [
      "CPU times: user 52.9 s, sys: 814 ms, total: 53.7 s\n",
      "Wall time: 54 s\n"
     ]
    }
   ],
   "source": [
    "%%time\n",
    "clf = GradientBoostingClassifier(random_state=42)\n",
    "\n",
    "tuned_parameters = {'n_estimators': [70, 100, 200],\n",
    "               'max_features': ['auto', 'log2', 'sqrt'],\n",
    "               'min_samples_split': [5, 7, 10]}\n",
    "\n",
    "clf_grid = GridSearchCV(clf, tuned_parameters, scoring=f2_scorer) \n",
    "clf_grid.fit(X_train_sm, y_train_sm)\n",
    "rf_params = clf_grid.best_params_\n",
    "\n",
    "y_pred = clf_grid.predict(X_test_minmax)\n",
    "\n",
    "print(f'Grid Search F2: {fbeta_score(y_true=y_test, y_pred=y_pred, beta=2)}')\n",
    "\n",
    "print(\"Best parameters set found on training set:\")\n",
    "print(clf_grid.best_params_)\n",
    "\n",
    "plot_classification(y_test, y_pred)"
   ]
  },
  {
   "cell_type": "code",
   "execution_count": null,
   "id": "64540be3-d814-4b77-92ef-863e51660ec6",
   "metadata": {},
   "outputs": [],
   "source": []
  }
 ],
 "metadata": {
  "colab": {
   "include_colab_link": true,
   "name": "03_05_Telecom_Churn_.ipynb",
   "provenance": []
  },
  "kernelspec": {
   "display_name": "Python 3 (ipykernel)",
   "language": "python",
   "name": "python3"
  },
  "language_info": {
   "codemirror_mode": {
    "name": "ipython",
    "version": 3
   },
   "file_extension": ".py",
   "mimetype": "text/x-python",
   "name": "python",
   "nbconvert_exporter": "python",
   "pygments_lexer": "ipython3",
   "version": "3.9.10"
  }
 },
 "nbformat": 4,
 "nbformat_minor": 5
}
