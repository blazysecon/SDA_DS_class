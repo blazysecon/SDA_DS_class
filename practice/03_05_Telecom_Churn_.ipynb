{
 "cells": [
  {
   "cell_type": "markdown",
   "id": "07c7955f",
   "metadata": {
    "colab_type": "text",
    "id": "view-in-github"
   },
   "source": [
    "<a href=\"https://colab.research.google.com/github/giedriusblazys/SDA_DS_class/blob/main/practice/03_05_Telecom_Churn_.ipynb\" target=\"_parent\"><img src=\"https://colab.research.google.com/assets/colab-badge.svg\" alt=\"Open In Colab\"/></a>"
   ]
  },
  {
   "cell_type": "markdown",
   "id": "e4f3722d-9a1c-49ca-8ebe-412bb953c2fe",
   "metadata": {
    "id": "e4f3722d-9a1c-49ca-8ebe-412bb953c2fe",
    "tags": []
   },
   "source": [
    "# Classification with Imbalanced Data"
   ]
  },
  {
   "cell_type": "markdown",
   "id": "96841c21-0a26-4981-aba3-567533b20659",
   "metadata": {
    "id": "96841c21-0a26-4981-aba3-567533b20659",
    "jp-MarkdownHeadingCollapsed": true,
    "tags": []
   },
   "source": [
    "## setup"
   ]
  },
  {
   "cell_type": "code",
   "execution_count": 1,
   "id": "3893b277-288d-4551-949a-08adf5d86bf0",
   "metadata": {
    "id": "3893b277-288d-4551-949a-08adf5d86bf0"
   },
   "outputs": [],
   "source": [
    "import pandas as pd\n",
    "import numpy as np # linear algebra\n",
    "from tqdm import tqdm\n",
    "\n",
    "import matplotlib.pyplot as plt\n",
    "import seaborn as sns\n",
    "\n",
    "sns.set()"
   ]
  },
  {
   "cell_type": "code",
   "execution_count": 2,
   "id": "a454533a-b209-4b0f-8205-025ea1a29ece",
   "metadata": {
    "id": "a454533a-b209-4b0f-8205-025ea1a29ece"
   },
   "outputs": [],
   "source": [
    "from sklearn.metrics import accuracy_score, confusion_matrix, classification_report, SCORERS, precision_recall_curve\n",
    "from sklearn.metrics import average_precision_score, auc, roc_curve\n",
    "from sklearn.metrics import accuracy_score, precision_score, recall_score, f1_score\n",
    "from sklearn.model_selection import train_test_split, StratifiedKFold, KFold, LeaveOneOut\n",
    "\n",
    "from sklearn.linear_model import LinearRegression, LogisticRegression\n",
    "from sklearn.tree import DecisionTreeClassifier\n",
    "from sklearn import tree\n",
    "from sklearn import preprocessing\n",
    "\n",
    "import graphviz\n",
    "\n",
    "from sklearn.utils import resample"
   ]
  },
  {
   "cell_type": "code",
   "execution_count": 3,
   "id": "a3718255-2b90-4bef-845a-3c1802b0bd6d",
   "metadata": {
    "id": "a3718255-2b90-4bef-845a-3c1802b0bd6d"
   },
   "outputs": [],
   "source": [
    "def score_prediction(y_test, y_pred):\n",
    "    print(f'Accuracy:  {accuracy_score(y_test, y_pred):.3f}')\n",
    "    print(f'Precision: {precision_score(y_test, y_pred):.3f}')\n",
    "    print(f'Recall:    {recall_score(y_test, y_pred):.3f}')\n",
    "    print(f'F1:        {f1_score(y_test, y_pred):.3f}')"
   ]
  },
  {
   "cell_type": "code",
   "execution_count": 4,
   "id": "955e8fb4-db62-447b-b8a5-36fa36045cb4",
   "metadata": {
    "id": "955e8fb4-db62-447b-b8a5-36fa36045cb4"
   },
   "outputs": [],
   "source": [
    "%matplotlib inline\n",
    "%load_ext autoreload\n",
    "%autoreload 2"
   ]
  },
  {
   "cell_type": "markdown",
   "id": "2ea908d7-f4f9-44bf-92b9-dd280d3459cd",
   "metadata": {
    "id": "2ea908d7-f4f9-44bf-92b9-dd280d3459cd"
   },
   "source": [
    "## Orange Telecom's Churn"
   ]
  },
  {
   "cell_type": "markdown",
   "id": "18bc4240-9133-438f-a57b-b7ebcae0943c",
   "metadata": {
    "id": "18bc4240-9133-438f-a57b-b7ebcae0943c"
   },
   "source": [
    "The Orange Telecom's Churn Dataset, which consists of cleaned customer activity data (features), along with a churn label specifying whether a customer canceled the subscription, will be used to develop predictive models. Two datasets are made available here: The churn-80 and churn-20 datasets can be downloaded.\n",
    "\n",
    "The two sets are from the same batch, but have been split by an 80/20 ratio. As more data is often desirable for developing ML models, let's use the larger set (that is, churn-80) for training and cross-validation purposes, and the smaller set (that is, churn-20) for final testing and model performance evaluation."
   ]
  },
  {
   "cell_type": "markdown",
   "id": "122e3960-6873-4941-954e-85a597d55150",
   "metadata": {
    "id": "122e3960-6873-4941-954e-85a597d55150"
   },
   "source": [
    "https://www.kaggle.com/mnassrib/telecom-churn-datasets"
   ]
  },
  {
   "cell_type": "code",
   "execution_count": 5,
   "id": "1c8b60d9-0edb-4e11-9bb4-e2938f423ad4",
   "metadata": {
    "colab": {
     "base_uri": "https://localhost:8080/",
     "height": 285
    },
    "id": "1c8b60d9-0edb-4e11-9bb4-e2938f423ad4",
    "outputId": "e566418a-6eac-4e03-b850-6d28b8a97457"
   },
   "outputs": [
    {
     "data": {
      "text/html": [
       "<div>\n",
       "<style scoped>\n",
       "    .dataframe tbody tr th:only-of-type {\n",
       "        vertical-align: middle;\n",
       "    }\n",
       "\n",
       "    .dataframe tbody tr th {\n",
       "        vertical-align: top;\n",
       "    }\n",
       "\n",
       "    .dataframe thead th {\n",
       "        text-align: right;\n",
       "    }\n",
       "</style>\n",
       "<table border=\"1\" class=\"dataframe\">\n",
       "  <thead>\n",
       "    <tr style=\"text-align: right;\">\n",
       "      <th></th>\n",
       "      <th>State</th>\n",
       "      <th>Account length</th>\n",
       "      <th>Area code</th>\n",
       "      <th>International plan</th>\n",
       "      <th>Voice mail plan</th>\n",
       "      <th>Number vmail messages</th>\n",
       "      <th>Total day minutes</th>\n",
       "      <th>Total day calls</th>\n",
       "      <th>Total day charge</th>\n",
       "      <th>Total eve minutes</th>\n",
       "      <th>Total eve calls</th>\n",
       "      <th>Total eve charge</th>\n",
       "      <th>Total night minutes</th>\n",
       "      <th>Total night calls</th>\n",
       "      <th>Total night charge</th>\n",
       "      <th>Total intl minutes</th>\n",
       "      <th>Total intl calls</th>\n",
       "      <th>Total intl charge</th>\n",
       "      <th>Customer service calls</th>\n",
       "      <th>Churn</th>\n",
       "    </tr>\n",
       "  </thead>\n",
       "  <tbody>\n",
       "    <tr>\n",
       "      <th>0</th>\n",
       "      <td>KS</td>\n",
       "      <td>128</td>\n",
       "      <td>415</td>\n",
       "      <td>No</td>\n",
       "      <td>Yes</td>\n",
       "      <td>25</td>\n",
       "      <td>265.1</td>\n",
       "      <td>110</td>\n",
       "      <td>45.07</td>\n",
       "      <td>197.4</td>\n",
       "      <td>99</td>\n",
       "      <td>16.78</td>\n",
       "      <td>244.7</td>\n",
       "      <td>91</td>\n",
       "      <td>11.01</td>\n",
       "      <td>10.0</td>\n",
       "      <td>3</td>\n",
       "      <td>2.70</td>\n",
       "      <td>1</td>\n",
       "      <td>False</td>\n",
       "    </tr>\n",
       "    <tr>\n",
       "      <th>1</th>\n",
       "      <td>OH</td>\n",
       "      <td>107</td>\n",
       "      <td>415</td>\n",
       "      <td>No</td>\n",
       "      <td>Yes</td>\n",
       "      <td>26</td>\n",
       "      <td>161.6</td>\n",
       "      <td>123</td>\n",
       "      <td>27.47</td>\n",
       "      <td>195.5</td>\n",
       "      <td>103</td>\n",
       "      <td>16.62</td>\n",
       "      <td>254.4</td>\n",
       "      <td>103</td>\n",
       "      <td>11.45</td>\n",
       "      <td>13.7</td>\n",
       "      <td>3</td>\n",
       "      <td>3.70</td>\n",
       "      <td>1</td>\n",
       "      <td>False</td>\n",
       "    </tr>\n",
       "    <tr>\n",
       "      <th>2</th>\n",
       "      <td>NJ</td>\n",
       "      <td>137</td>\n",
       "      <td>415</td>\n",
       "      <td>No</td>\n",
       "      <td>No</td>\n",
       "      <td>0</td>\n",
       "      <td>243.4</td>\n",
       "      <td>114</td>\n",
       "      <td>41.38</td>\n",
       "      <td>121.2</td>\n",
       "      <td>110</td>\n",
       "      <td>10.30</td>\n",
       "      <td>162.6</td>\n",
       "      <td>104</td>\n",
       "      <td>7.32</td>\n",
       "      <td>12.2</td>\n",
       "      <td>5</td>\n",
       "      <td>3.29</td>\n",
       "      <td>0</td>\n",
       "      <td>False</td>\n",
       "    </tr>\n",
       "    <tr>\n",
       "      <th>3</th>\n",
       "      <td>OH</td>\n",
       "      <td>84</td>\n",
       "      <td>408</td>\n",
       "      <td>Yes</td>\n",
       "      <td>No</td>\n",
       "      <td>0</td>\n",
       "      <td>299.4</td>\n",
       "      <td>71</td>\n",
       "      <td>50.90</td>\n",
       "      <td>61.9</td>\n",
       "      <td>88</td>\n",
       "      <td>5.26</td>\n",
       "      <td>196.9</td>\n",
       "      <td>89</td>\n",
       "      <td>8.86</td>\n",
       "      <td>6.6</td>\n",
       "      <td>7</td>\n",
       "      <td>1.78</td>\n",
       "      <td>2</td>\n",
       "      <td>False</td>\n",
       "    </tr>\n",
       "    <tr>\n",
       "      <th>4</th>\n",
       "      <td>OK</td>\n",
       "      <td>75</td>\n",
       "      <td>415</td>\n",
       "      <td>Yes</td>\n",
       "      <td>No</td>\n",
       "      <td>0</td>\n",
       "      <td>166.7</td>\n",
       "      <td>113</td>\n",
       "      <td>28.34</td>\n",
       "      <td>148.3</td>\n",
       "      <td>122</td>\n",
       "      <td>12.61</td>\n",
       "      <td>186.9</td>\n",
       "      <td>121</td>\n",
       "      <td>8.41</td>\n",
       "      <td>10.1</td>\n",
       "      <td>3</td>\n",
       "      <td>2.73</td>\n",
       "      <td>3</td>\n",
       "      <td>False</td>\n",
       "    </tr>\n",
       "  </tbody>\n",
       "</table>\n",
       "</div>"
      ],
      "text/plain": [
       "  State  Account length  Area code International plan Voice mail plan  \\\n",
       "0    KS             128        415                 No             Yes   \n",
       "1    OH             107        415                 No             Yes   \n",
       "2    NJ             137        415                 No              No   \n",
       "3    OH              84        408                Yes              No   \n",
       "4    OK              75        415                Yes              No   \n",
       "\n",
       "   Number vmail messages  Total day minutes  Total day calls  \\\n",
       "0                     25              265.1              110   \n",
       "1                     26              161.6              123   \n",
       "2                      0              243.4              114   \n",
       "3                      0              299.4               71   \n",
       "4                      0              166.7              113   \n",
       "\n",
       "   Total day charge  Total eve minutes  Total eve calls  Total eve charge  \\\n",
       "0             45.07              197.4               99             16.78   \n",
       "1             27.47              195.5              103             16.62   \n",
       "2             41.38              121.2              110             10.30   \n",
       "3             50.90               61.9               88              5.26   \n",
       "4             28.34              148.3              122             12.61   \n",
       "\n",
       "   Total night minutes  Total night calls  Total night charge  \\\n",
       "0                244.7                 91               11.01   \n",
       "1                254.4                103               11.45   \n",
       "2                162.6                104                7.32   \n",
       "3                196.9                 89                8.86   \n",
       "4                186.9                121                8.41   \n",
       "\n",
       "   Total intl minutes  Total intl calls  Total intl charge  \\\n",
       "0                10.0                 3               2.70   \n",
       "1                13.7                 3               3.70   \n",
       "2                12.2                 5               3.29   \n",
       "3                 6.6                 7               1.78   \n",
       "4                10.1                 3               2.73   \n",
       "\n",
       "   Customer service calls  Churn  \n",
       "0                       1  False  \n",
       "1                       1  False  \n",
       "2                       0  False  \n",
       "3                       2  False  \n",
       "4                       3  False  "
      ]
     },
     "execution_count": 5,
     "metadata": {},
     "output_type": "execute_result"
    }
   ],
   "source": [
    "df = pd.read_csv(\"https://github.com/giedriusblazys/SDA_DS_class/raw/main/practice/input/churn-bigml-80.csv\")\n",
    "df.head()"
   ]
  },
  {
   "cell_type": "code",
   "execution_count": 6,
   "id": "e07eeb2e-b489-4746-b5d3-f3161b809d8f",
   "metadata": {
    "colab": {
     "base_uri": "https://localhost:8080/"
    },
    "id": "e07eeb2e-b489-4746-b5d3-f3161b809d8f",
    "outputId": "f1ab342b-7351-4778-e0c1-500363152907"
   },
   "outputs": [
    {
     "name": "stdout",
     "output_type": "stream",
     "text": [
      "<class 'pandas.core.frame.DataFrame'>\n",
      "RangeIndex: 2666 entries, 0 to 2665\n",
      "Data columns (total 20 columns):\n",
      " #   Column                  Non-Null Count  Dtype  \n",
      "---  ------                  --------------  -----  \n",
      " 0   State                   2666 non-null   object \n",
      " 1   Account length          2666 non-null   int64  \n",
      " 2   Area code               2666 non-null   int64  \n",
      " 3   International plan      2666 non-null   object \n",
      " 4   Voice mail plan         2666 non-null   object \n",
      " 5   Number vmail messages   2666 non-null   int64  \n",
      " 6   Total day minutes       2666 non-null   float64\n",
      " 7   Total day calls         2666 non-null   int64  \n",
      " 8   Total day charge        2666 non-null   float64\n",
      " 9   Total eve minutes       2666 non-null   float64\n",
      " 10  Total eve calls         2666 non-null   int64  \n",
      " 11  Total eve charge        2666 non-null   float64\n",
      " 12  Total night minutes     2666 non-null   float64\n",
      " 13  Total night calls       2666 non-null   int64  \n",
      " 14  Total night charge      2666 non-null   float64\n",
      " 15  Total intl minutes      2666 non-null   float64\n",
      " 16  Total intl calls        2666 non-null   int64  \n",
      " 17  Total intl charge       2666 non-null   float64\n",
      " 18  Customer service calls  2666 non-null   int64  \n",
      " 19  Churn                   2666 non-null   bool   \n",
      "dtypes: bool(1), float64(8), int64(8), object(3)\n",
      "memory usage: 398.5+ KB\n"
     ]
    }
   ],
   "source": [
    "df.info()"
   ]
  },
  {
   "cell_type": "code",
   "execution_count": 7,
   "id": "70de5435-5356-436d-8be3-ab8c09554532",
   "metadata": {
    "id": "70de5435-5356-436d-8be3-ab8c09554532"
   },
   "outputs": [],
   "source": [
    "def corr_plot(df):\n",
    "    corr = df.corr()\n",
    "    plt.figure(figsize=(10, 10))\n",
    "    ax = sns.heatmap(\n",
    "    corr, \n",
    "    vmin=-1, vmax=1, center=0,\n",
    "    cmap=sns.diverging_palette(20, 220, n=200),\n",
    "    square=True\n",
    "    )\n",
    "    ax.set_xticklabels(\n",
    "    ax.get_xticklabels(),\n",
    "    rotation=45,\n",
    "    horizontalalignment='right'\n",
    "    )"
   ]
  },
  {
   "cell_type": "code",
   "execution_count": 8,
   "id": "a2c33ead-3398-41c4-a41b-b2f1abb5bc74",
   "metadata": {
    "colab": {
     "base_uri": "https://localhost:8080/",
     "height": 643
    },
    "id": "a2c33ead-3398-41c4-a41b-b2f1abb5bc74",
    "outputId": "ae4931f1-4e08-41e5-90c4-3808c18aade7"
   },
   "outputs": [
    {
     "data": {
      "image/png": "[encoded data removed]",
      "text/plain": [
       "<Figure size 720x720 with 2 Axes>"
      ]
     },
     "metadata": {
      "needs_background": "light"
     },
     "output_type": "display_data"
    }
   ],
   "source": [
    "corr_plot(df)"
   ]
  },
  {
   "cell_type": "code",
   "execution_count": 9,
   "id": "355e4dfe-7424-4809-95bb-ccf9728da1aa",
   "metadata": {
    "colab": {
     "base_uri": "https://localhost:8080/",
     "height": 285
    },
    "id": "355e4dfe-7424-4809-95bb-ccf9728da1aa",
    "outputId": "23a1866d-88c5-4d02-ee60-ce22c93e042d"
   },
   "outputs": [
    {
     "data": {
      "image/png": "[encoded data removed]",
      "text/plain": [
       "<Figure size 432x288 with 1 Axes>"
      ]
     },
     "metadata": {
      "needs_background": "light"
     },
     "output_type": "display_data"
    }
   ],
   "source": [
    "sns.countplot(x=df[\"Churn\"]);"
   ]
  },
  {
   "cell_type": "code",
   "execution_count": 10,
   "id": "c6aa30d3-a139-4dd0-b58a-3ca736274bcc",
   "metadata": {
    "colab": {
     "base_uri": "https://localhost:8080/"
    },
    "id": "c6aa30d3-a139-4dd0-b58a-3ca736274bcc",
    "outputId": "4b2f13e8-d889-4627-862d-91bf303669e2"
   },
   "outputs": [
    {
     "name": "stdout",
     "output_type": "stream",
     "text": [
      "X_train: (1866, 19), X_test(800, 19)\n"
     ]
    }
   ],
   "source": [
    "#spliting the data for target and features\n",
    "X = df.drop(columns='Churn', axis=1)\n",
    "y = df['Churn'].astype('int')\n",
    "\n",
    "#creating the test train split\n",
    "X_train, X_test, y_train, y_test = train_test_split(X, y, test_size=0.3, random_state = 42, stratify=y)\n",
    "print(f'X_train: {X_train.shape}, X_test{X_test.shape}')\n",
    "\n",
    "## One-hot encoder\n",
    "\n",
    "s = (X_train.dtypes == 'object')\n",
    "obj_cols = list(s[s].index)\n",
    "\n",
    "OH_encoder = preprocessing.OneHotEncoder(drop='first', handle_unknown='ignore')\n",
    "\n",
    "X_train_array = OH_encoder.fit_transform(X_train[obj_cols]).toarray()\n",
    "OH_cols_train = pd.DataFrame(X_train_array, columns = OH_encoder.get_feature_names_out())\n",
    "\n",
    "X_test_array = OH_encoder.transform(X_test[obj_cols]).toarray()\n",
    "OH_cols_test = pd.DataFrame(X_test_array, columns = OH_encoder.get_feature_names_out())\n",
    "OH_cols_train.index = X_train.index\n",
    "OH_cols_test.index = X_test.index\n",
    "\n",
    "# Remove categorical columns (will replace with one-hot encoding)\n",
    "num_X_train = X_train.drop(obj_cols, axis=1)\n",
    "num_X_test = X_test.drop(obj_cols, axis=1)\n",
    "\n",
    "# Add one-hot encoded columns to numerical features\n",
    "OH_X_train = pd.concat([num_X_train, OH_cols_train], axis=1)\n",
    "OH_X_test = pd.concat([num_X_test, OH_cols_test], axis=1)\n",
    "# OH_X_train.columns"
   ]
  },
  {
   "cell_type": "markdown",
   "id": "6wJD9sSDywyH",
   "metadata": {
    "id": "6wJD9sSDywyH"
   },
   "source": [
    "## Questions:\n",
    "\n",
    "1. Use the following Algorithms to estimate Churn model with defaul parameters:\n",
    "\n",
    "```\n",
    "sklearn.neighbors.KNeighborsClassifier, sklearn.svm.SVC, \n",
    "sklearn.linear_model.LogisticRegression, sklearn.tree.DecisionTreeClassifier\n",
    "```\n",
    "\n",
    "2. Report and compare `F1-score`\n",
    "\n",
    "For next time:\n",
    "\n",
    "3. Try different hyper-parameters (\n",
    "    \n",
    "    SVM: kelnel, C,\n",
    "\n",
    "    KNN: n_neighbors, p, weights)\n",
    "\n",
    "4. Start reading about GridSearchCV, RandomSearchCV"
   ]
  },
  {
   "cell_type": "code",
   "execution_count": 11,
   "id": "5b2e5b87-cddd-4948-be37-13c1727cc6b3",
   "metadata": {
    "colab": {
     "base_uri": "https://localhost:8080/"
    },
    "id": "5b2e5b87-cddd-4948-be37-13c1727cc6b3",
    "outputId": "8ace43bd-7282-40e5-ce56-5d7f97270f95"
   },
   "outputs": [
    {
     "name": "stdout",
     "output_type": "stream",
     "text": [
      "(1866, 68) (800, 68) (1866,) (800,)\n"
     ]
    }
   ],
   "source": [
    "print(OH_X_train.shape, OH_X_test.shape, y_train.shape, y_test.shape)"
   ]
  },
  {
   "cell_type": "code",
   "execution_count": 12,
   "id": "sU-xH-G__g9E",
   "metadata": {
    "id": "sU-xH-G__g9E"
   },
   "outputs": [],
   "source": [
    "from sklearn.svm import SVC\n",
    "from sklearn.preprocessing import MinMaxScaler\n",
    "from sklearn.neighbors import KNeighborsClassifier"
   ]
  },
  {
   "cell_type": "code",
   "execution_count": 13,
   "id": "-MRVPHGiEme5",
   "metadata": {
    "id": "-MRVPHGiEme5"
   },
   "outputs": [],
   "source": [
    "df_results = pd.DataFrame(columns = ['method', 'parameters', 'f1-score'])"
   ]
  },
  {
   "cell_type": "code",
   "execution_count": 14,
   "id": "gl2BhA8Y0Tyl",
   "metadata": {
    "colab": {
     "base_uri": "https://localhost:8080/"
    },
    "id": "gl2BhA8Y0Tyl",
    "outputId": "d7c8b4db-f5ac-4762-94e8-6e502617b28d"
   },
   "outputs": [
    {
     "name": "stdout",
     "output_type": "stream",
     "text": [
      "SVM F1 (no normalization): 0.30120481927710846\n"
     ]
    }
   ],
   "source": [
    "svm_model = SVC(kernel='linear', C=10, random_state=42).fit(OH_X_train, y_train)\n",
    "y_pred = svm_model.predict(OH_X_test)\n",
    "print(f'SVM F1 (no normalization): {f1_score(y_true=y_test, y_pred=y_pred)}')"
   ]
  },
  {
   "cell_type": "code",
   "execution_count": 15,
   "id": "tXFvEAB_-BXF",
   "metadata": {
    "id": "tXFvEAB_-BXF"
   },
   "outputs": [],
   "source": [
    "min_max_scaler = MinMaxScaler()\n",
    "\n",
    "X_train_minmax = min_max_scaler.fit_transform(OH_X_train)\n",
    "X_test_minmax = min_max_scaler.transform(OH_X_test)"
   ]
  },
  {
   "cell_type": "code",
   "execution_count": 16,
   "id": "ED26T-7H_Ojo",
   "metadata": {
    "colab": {
     "base_uri": "https://localhost:8080/",
     "height": 80
    },
    "id": "ED26T-7H_Ojo",
    "outputId": "8631c3e9-5601-4a06-c2f9-5968b31f80f7"
   },
   "outputs": [],
   "source": [
    "svm_model = SVC(kernel='linear', C=10, random_state=42).fit(X_train_minmax, y_train)\n",
    "y_pred = svm_model.predict(X_test_minmax)\n",
    "# print(f'SVM F1 (data normalized): {f1_score(y_true=y_test, y_pred=y_pred)}')\n",
    "df_results.loc[len(df_results)] = ['SVM', 'kernel=linear', f1_score(y_true=y_test, y_pred=y_pred)]"
   ]
  },
  {
   "cell_type": "code",
   "execution_count": 17,
   "id": "G6ulQBHk_3Bb",
   "metadata": {
    "colab": {
     "base_uri": "https://localhost:8080/",
     "height": 130
    },
    "id": "G6ulQBHk_3Bb",
    "outputId": "97ecb855-2b64-4c80-b7a7-8ca3f9e96a99"
   },
   "outputs": [
    {
     "name": "stdout",
     "output_type": "stream",
     "text": [
      "KNN F1 (no normalization): 0.34210526315789475\n"
     ]
    }
   ],
   "source": [
    "knn_model = KNeighborsClassifier().fit(OH_X_train, y_train)\n",
    "y_pred = knn_model.predict(OH_X_test)\n",
    "print(f'KNN F1 (no normalization): {f1_score(y_true=y_test, y_pred=y_pred)}')\n",
    "df_results.loc[len(df_results)] = ['KNN', 'no normalization', f1_score(y_true=y_test, y_pred=y_pred)]"
   ]
  },
  {
   "cell_type": "code",
   "execution_count": 18,
   "id": "iN9UlsB8A2PI",
   "metadata": {
    "colab": {
     "base_uri": "https://localhost:8080/"
    },
    "id": "iN9UlsB8A2PI",
    "outputId": "eea0199f-7f50-4b17-af52-3a721a098c66"
   },
   "outputs": [
    {
     "name": "stdout",
     "output_type": "stream",
     "text": [
      "KNN F1 (data normalized): 0.13138686131386862\n"
     ]
    }
   ],
   "source": [
    "knn_model = KNeighborsClassifier().fit(X_train_minmax, y_train)\n",
    "y_pred = knn_model.predict(X_test_minmax)\n",
    "print(f'KNN F1 (data normalized): {f1_score(y_true=y_test, y_pred=y_pred)}')"
   ]
  },
  {
   "cell_type": "code",
   "execution_count": 19,
   "id": "6ev_m-YzBcDz",
   "metadata": {
    "colab": {
     "base_uri": "https://localhost:8080/"
    },
    "id": "6ev_m-YzBcDz",
    "outputId": "d8700f71-b326-4c0e-e910-64f6d3c7143c"
   },
   "outputs": [
    {
     "name": "stdout",
     "output_type": "stream",
     "text": [
      "logistic F1 (no normalization): 0.3157894736842105\n"
     ]
    }
   ],
   "source": [
    "logit_model = LogisticRegression(penalty='l2', C=1.5, max_iter=10000).fit(OH_X_train, y_train)\n",
    "y_pred = logit_model.predict(OH_X_test)\n",
    "print(f'logistic F1 (no normalization): {f1_score(y_true=y_test, y_pred=y_pred)}')"
   ]
  },
  {
   "cell_type": "code",
   "execution_count": 20,
   "id": "5rsRBuq7A94p",
   "metadata": {
    "colab": {
     "base_uri": "https://localhost:8080/"
    },
    "id": "5rsRBuq7A94p",
    "outputId": "f6c926da-44d3-4b5a-d788-2f405ebf74f1"
   },
   "outputs": [
    {
     "name": "stdout",
     "output_type": "stream",
     "text": [
      "logistic F1 (data normalized): 0.30952380952380953\n"
     ]
    }
   ],
   "source": [
    "logit_model = LogisticRegression(penalty='l2', C=1).fit(X_train_minmax, y_train)\n",
    "y_pred = logit_model.predict(X_test_minmax)\n",
    "print(f'logistic F1 (data normalized): {f1_score(y_true=y_test, y_pred=y_pred)}')"
   ]
  },
  {
   "cell_type": "markdown",
   "id": "f24f598f-67e1-46e7-b6ae-aaf474619ccc",
   "metadata": {
    "id": "ww9brG15BZ2J"
   },
   "source": [
    "## GridSearchCV, RandomSearchCV\n",
    "\n",
    "https://scikit-learn.org/stable/modules/grid_search.html"
   ]
  },
  {
   "cell_type": "code",
   "execution_count": 36,
   "id": "3e06d000-1b88-4e57-9e7a-1c856a02a52b",
   "metadata": {},
   "outputs": [],
   "source": [
    "from sklearn.model_selection import GridSearchCV, RandomizedSearchCV\n",
    "from scipy.stats import uniform, randint"
   ]
  },
  {
   "cell_type": "code",
   "execution_count": 29,
   "id": "3d1dcdd4-5c55-408a-adb0-e7dc7042c022",
   "metadata": {},
   "outputs": [],
   "source": [
    "# 30 combinations\n",
    "\n",
    "tuned_parameters = {\"n_neighbors\": [1, 2, 3, 5], \"weights\": [\"uniform\", \"distance\"], \"p\": [2, 5, 10, 100] }\n",
    "score = \"f1\"\n",
    "knn_model = KNeighborsClassifier()"
   ]
  },
  {
   "cell_type": "markdown",
   "id": "81c0453a-0d4d-44ab-891d-8d104612b60d",
   "metadata": {},
   "source": [
    "### Grid Search - 30 combinations"
   ]
  },
  {
   "cell_type": "code",
   "execution_count": 34,
   "id": "945b11cf-a6ef-4bd1-b17f-e63a88c7545c",
   "metadata": {},
   "outputs": [
    {
     "name": "stdout",
     "output_type": "stream",
     "text": [
      "Grid Search F1: 0.27586206896551724\n",
      "Best parameters set found on training set:\n",
      "{'n_neighbors': 1, 'p': 10, 'weights': 'uniform'}\n",
      "CPU times: user 1min 6s, sys: 3.28 s, total: 1min 9s\n",
      "Wall time: 49.5 s\n"
     ]
    }
   ],
   "source": [
    "%%time\n",
    "clf_grid = GridSearchCV(knn_model, tuned_parameters, scoring=score)\n",
    "clf_grid.fit(X_train_minmax, y_train)\n",
    "\n",
    "y_pred = clf_grid.predict(X_test_minmax)\n",
    "print(f'Grid Search F1: {f1_score(y_true=y_test, y_pred=y_pred)}')\n",
    "\n",
    "print(\"Best parameters set found on training set:\")\n",
    "print(clf_grid.best_params_)"
   ]
  },
  {
   "cell_type": "markdown",
   "id": "7df4d640-34d9-4fb7-8baf-a902fb33d390",
   "metadata": {},
   "source": [
    "### Random Search - 30 combinations"
   ]
  },
  {
   "cell_type": "code",
   "execution_count": 37,
   "id": "30a0800d-f642-4285-897a-576c3d9cf11f",
   "metadata": {},
   "outputs": [
    {
     "name": "stdout",
     "output_type": "stream",
     "text": [
      "Random Search F1: 0.27586206896551724\n",
      "Best parameters set found on training set:\n",
      "{'weights': 'distance', 'p': 10, 'n_neighbors': 2}\n",
      "CPU times: user 1min 7s, sys: 3.56 s, total: 1min 11s\n",
      "Wall time: 47.9 s\n"
     ]
    }
   ],
   "source": [
    "%%time\n",
    "tuned_parameters_rs = {\"n_neighbors\": randint(1, 10), \"weights\": [\"uniform\", \"distance\"], \"p\": randint(1, 100) }\n",
    "clf_rs = RandomizedSearchCV(knn_model, tuned_parameters, scoring=score, n_iter=30)\n",
    "clf_rs.fit(X_train_minmax, y_train)\n",
    "y_pred = clf_rs.predict(X_test_minmax)\n",
    "print(f'Random Search F1: {f1_score(y_true=y_test, y_pred=y_pred)}')\n",
    "print(\"Best parameters set found on training set:\")\n",
    "print(clf_rs.best_params_)"
   ]
  },
  {
   "cell_type": "markdown",
   "id": "0dbc1b58-2175-4920-9937-87680669e3e4",
   "metadata": {},
   "source": [
    "#### Questions for practices\n",
    "- test out Grid and Random search algorithms to find best parameters for SVM classifier\n",
    "- 'linear' kernel: C\n",
    "- 'rbf' kernel: C, gamma\n",
    "- be mindful about estimation time\n",
    "- for random search use uniform distribution when possible {\"C\": uniform(0.1, 1000)}"
   ]
  },
  {
   "cell_type": "code",
   "execution_count": null,
   "id": "03079dd3-243d-47c6-aba2-da189a58be43",
   "metadata": {},
   "outputs": [],
   "source": []
  }
 ],
 "metadata": {
  "colab": {
   "include_colab_link": true,
   "name": "03_05_Telecom_Churn_.ipynb",
   "provenance": []
  },
  "kernelspec": {
   "display_name": "Python 3 (ipykernel)",
   "language": "python",
   "name": "python3"
  },
  "language_info": {
   "codemirror_mode": {
    "name": "ipython",
    "version": 3
   },
   "file_extension": ".py",
   "mimetype": "text/x-python",
   "name": "python",
   "nbconvert_exporter": "python",
   "pygments_lexer": "ipython3",
   "version": "3.9.10"
  }
 },
 "nbformat": 4,
 "nbformat_minor": 5
}
