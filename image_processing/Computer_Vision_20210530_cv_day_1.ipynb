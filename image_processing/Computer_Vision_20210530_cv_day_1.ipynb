{
 "cells": [
  {
   "cell_type": "markdown",
   "metadata": {
    "colab_type": "text",
    "id": "view-in-github"
   },
   "source": [
    "<a href=\"https://colab.research.google.com/github/giedriusblazys/SDA_DS_class/blob/main/Computer_Vision_20210530_cv_day_1.ipynb\" target=\"_parent\"><img src=\"https://colab.research.google.com/assets/colab-badge.svg\" alt=\"Open In Colab\"/></a>"
   ]
  },
  {
   "cell_type": "markdown",
   "metadata": {
    "id": "p7eSkJxR_8jG"
   },
   "source": [
    "# Configuration"
   ]
  },
  {
   "cell_type": "code",
   "execution_count": null,
   "metadata": {
    "colab": {
     "base_uri": "https://localhost:8080/"
    },
    "id": "yUlMR35gDBcO",
    "outputId": "60972d6e-5d61-442e-e686-b99717cf7eca"
   },
   "outputs": [
    {
     "name": "stdout",
     "output_type": "stream",
     "text": [
      "Mounted at /content/drive/\n"
     ]
    }
   ],
   "source": [
    "\n",
    "from google.colab import drive\n",
    "drive.mount('/content/drive/')\n"
   ]
  },
  {
   "cell_type": "code",
   "execution_count": null,
   "metadata": {
    "colab": {
     "base_uri": "https://localhost:8080/"
    },
    "id": "zHgXj5GU8Aol",
    "outputId": "b74eb707-f45a-48b3-bb62-51fe3e459ae4"
   },
   "outputs": [
    {
     "name": "stdout",
     "output_type": "stream",
     "text": [
      "total 8902\n",
      "-rw------- 1 root root  401802 Dec 19 06:21  01_Pandas.ipynb\n",
      "-rw------- 1 root root   74481 Jan 15 14:18  05_API.ipynb\n",
      "-rw------- 1 root root  200820 Apr  9 10:29  DNN_01.ipynb\n",
      "-rw------- 1 root root   23821 Mar 17 06:52 'Kopia notatnika Kopia notatnika Pipeline Experiment.ipynb'\n",
      "-rw------- 1 root root  573616 Jan 16 13:10 'Kopia notatnika Kopia notatnika wizualizacja_danych_zddatapol18.ipynb'\n",
      "-rw------- 1 root root   29877 Mar 17 06:53 'Kopia notatnika Pipeline Experiment.ipynb'\n",
      "-rw------- 1 root root  573526 Jan 16 13:11 'Kopia notatnika wizualizacja_danych_zddatapol18.ipynb'\n",
      "-rw------- 1 root root 1023149 Jan 22 12:46 'Kopia notatnika zddatapol18_wizualizacja_danych_dzien2 (1).ipynb'\n",
      "-rw------- 1 root root 4248800 Jan 24 05:35 'Kopia notatnika zddatapol18_wizualizacja_danych_dzien2.ipynb'\n",
      "-rw------- 1 root root   90999 Dec 27 12:55  mc_mój.ipynb\n",
      "-rw------- 1 root root   48142 Dec 13 17:53  numerical_python______stats.ipynb\n",
      "-rw------- 1 root root   41376 Dec 14 06:25  num_pyt___hypo_testing.ipynb\n",
      "-rw------- 1 root root  556179 Dec 27 10:11  Pandas.ipynb\n",
      "-rw------- 1 root root  193285 Dec 19 19:43 'Project - McDonald_19_12_21.ipynb'\n",
      "-rw------- 1 root root   58748 Dec 27 13:01  prze_danych2.ipynb\n",
      "-rw------- 1 root root  365154 Dec 27 12:58  przetwarzanie.ipynb\n",
      "-rw------- 1 root root    7057 Dec 14 19:27  stats_modelling.ipynb\n",
      "-rw------- 1 root root   65471 Mar 26 14:08  tensorflow_2.ipynb\n",
      "-rw------- 1 root root   33240 Mar 26 14:08  tensor_flow_basic.ipynb\n",
      "-rw------- 1 root root   30436 Dec 12 08:06  Untitled0.ipynb\n",
      "-rw------- 1 root root   23726 Dec 15 12:24  Untitled1.ipynb\n",
      "-rw------- 1 root root  179344 Dec 19 12:48  Untitled2.ipynb\n",
      "-rw------- 1 root root    4031 Feb 28 13:16  Untitled3.ipynb\n",
      "-rw------- 1 root root  262324 Mar 21 19:11  Untitled4.ipynb\n"
     ]
    }
   ],
   "source": [
    "!ls -la '/content/drive/My Drive/Colab Notebooks/'"
   ]
  },
  {
   "cell_type": "code",
   "execution_count": null,
   "metadata": {
    "colab": {
     "base_uri": "https://localhost:8080/",
     "height": 321
    },
    "id": "qdYl29M3B_Zo",
    "outputId": "d3891c15-262f-486f-b9c4-4224dafb8ccb"
   },
   "outputs": [
    {
     "ename": "AttributeError",
     "evalue": "ignored",
     "output_type": "error",
     "traceback": [
      "\u001b[0;31m---------------------------------------------------------------------------\u001b[0m",
      "\u001b[0;31mAttributeError\u001b[0m                            Traceback (most recent call last)",
      "\u001b[0;32m<ipython-input-3-4f9baf0a4298>\u001b[0m in \u001b[0;36m<module>\u001b[0;34m()\u001b[0m\n\u001b[1;32m      6\u001b[0m \u001b[0;34m\u001b[0m\u001b[0m\n\u001b[1;32m      7\u001b[0m \u001b[0mimg\u001b[0m \u001b[0;34m=\u001b[0m \u001b[0mcv2\u001b[0m\u001b[0;34m.\u001b[0m\u001b[0mimread\u001b[0m\u001b[0;34m(\u001b[0m\u001b[0;34m'/content/drive/My Drive/Colab Notebooks/test.png'\u001b[0m\u001b[0;34m)\u001b[0m\u001b[0;34m\u001b[0m\u001b[0;34m\u001b[0m\u001b[0m\n\u001b[0;32m----> 8\u001b[0;31m \u001b[0mcv2_imshow\u001b[0m\u001b[0;34m(\u001b[0m\u001b[0mimg\u001b[0m\u001b[0;34m)\u001b[0m\u001b[0;34m\u001b[0m\u001b[0;34m\u001b[0m\u001b[0m\n\u001b[0m",
      "\u001b[0;32m/usr/local/lib/python3.7/dist-packages/google/colab/patches/__init__.py\u001b[0m in \u001b[0;36mcv2_imshow\u001b[0;34m(a)\u001b[0m\n\u001b[1;32m     20\u001b[0m       \u001b[0mimage\u001b[0m\u001b[0;34m.\u001b[0m\u001b[0;34m\u001b[0m\u001b[0;34m\u001b[0m\u001b[0m\n\u001b[1;32m     21\u001b[0m   \"\"\"\n\u001b[0;32m---> 22\u001b[0;31m   \u001b[0ma\u001b[0m \u001b[0;34m=\u001b[0m \u001b[0ma\u001b[0m\u001b[0;34m.\u001b[0m\u001b[0mclip\u001b[0m\u001b[0;34m(\u001b[0m\u001b[0;36m0\u001b[0m\u001b[0;34m,\u001b[0m \u001b[0;36m255\u001b[0m\u001b[0;34m)\u001b[0m\u001b[0;34m.\u001b[0m\u001b[0mastype\u001b[0m\u001b[0;34m(\u001b[0m\u001b[0;34m'uint8'\u001b[0m\u001b[0;34m)\u001b[0m\u001b[0;34m\u001b[0m\u001b[0;34m\u001b[0m\u001b[0m\n\u001b[0m\u001b[1;32m     23\u001b[0m   \u001b[0;31m# cv2 stores colors as BGR; convert to RGB\u001b[0m\u001b[0;34m\u001b[0m\u001b[0;34m\u001b[0m\u001b[0;34m\u001b[0m\u001b[0m\n\u001b[1;32m     24\u001b[0m   \u001b[0;32mif\u001b[0m \u001b[0ma\u001b[0m\u001b[0;34m.\u001b[0m\u001b[0mndim\u001b[0m \u001b[0;34m==\u001b[0m \u001b[0;36m3\u001b[0m\u001b[0;34m:\u001b[0m\u001b[0;34m\u001b[0m\u001b[0;34m\u001b[0m\u001b[0m\n",
      "\u001b[0;31mAttributeError\u001b[0m: 'NoneType' object has no attribute 'clip'"
     ]
    }
   ],
   "source": [
    "import cv2\n",
    "from google.colab.patches import cv2_imshow\n",
    "\n",
    "from ipywidgets import interact, interactive, fixed, interact_manual\n",
    "import ipywidgets as widgets\n",
    "\n",
    "img = cv2.imread('/content/drive/My Drive/Colab Notebooks/test.png')\n",
    "cv2_imshow(img)"
   ]
  },
  {
   "cell_type": "markdown",
   "metadata": {
    "id": "b9_Pu1-1SN2g"
   },
   "source": [
    "# Filtry"
   ]
  },
  {
   "cell_type": "code",
   "execution_count": null,
   "metadata": {
    "id": "NDYrenzdHJYO"
   },
   "outputs": [],
   "source": [
    "#Filters\n",
    "\n",
    "import numpy as np\n",
    "\n",
    "def apply_filter(source, kernel):\n",
    "  new_image = cv2.filter2D(source, -1, kernel)\n",
    "  cv2_imshow(new_image)\n",
    "  return new_image\n",
    "\n",
    "\n",
    "#idendity\n",
    "idendity_kernel = np.array([[0, 0, 0],\n",
    "                            [0, 1, 0],\n",
    "                            [0, 0, 0]])\n",
    "apply_filter(img, idendity_kernel)\n",
    "\n",
    "#blur\n",
    "blur_kernel = np.ones((3, 3), np.float32) / 9\n",
    "apply_filter(img, blur_kernel)\n",
    "\n",
    "#sharpen\n",
    "sharpen_kernel = np.array([[0, -1, 0],\n",
    "                           [-1, 5, -1],\n",
    "                           [0, -1, 0]])\n",
    "\n",
    "apply_filter(img, sharpen_kernel)\n",
    "\n",
    "gray_img = cv2.cvtColor(img, cv2.COLOR_BGR2GRAY)\n",
    "\n",
    "#simply_edge_detection\n",
    "simply_edge_kernel = np.array([[-1, -1, -1],\n",
    "                               [-1, 8, -1],\n",
    "                               [-1, -1, -1]])\n",
    "\n",
    "apply_filter(gray_img, simply_edge_kernel)\n",
    "\n",
    "#bottom sobel\n",
    "bottom_sobel_kernel = np.array([[-1, -2, -1],\n",
    "                                [0, 0, 0],\n",
    "                                [1, 2, 1]])\n",
    "\n",
    "bottom_sobel = apply_filter(gray_img, bottom_sobel_kernel)\n",
    "\n",
    "#bottom sobel\n",
    "left_sobel_kernel = np.array([[1, 0, -1],\n",
    "                              [2, 0, -2],\n",
    "                              [1, 0, -1]])\n",
    "\n",
    "left_sobel = apply_filter(gray_img, left_sobel_kernel)\n",
    "\n",
    "\n",
    "#sobel\n",
    "sobel = left_sobel/2 + bottom_sobel/2\n",
    "cv2_imshow(sobel)\n",
    "\n"
   ]
  },
  {
   "cell_type": "markdown",
   "metadata": {
    "id": "9j96w7lMSbJl"
   },
   "source": [
    "# Histogram Equalization"
   ]
  },
  {
   "cell_type": "code",
   "execution_count": null,
   "metadata": {
    "id": "UdUJiMaYA-kG"
   },
   "outputs": [],
   "source": [
    "import matplotlib.pyplot as plt\n",
    "\n",
    "def show_histogram(image):\n",
    "  ax1 = plt.subplot(331)\n",
    "  plt.xlim([0, 256])\n",
    "  plt.ylim([0, 4000])\n",
    "  for i, col in enumerate(['b', 'g', 'r']):\n",
    "\n",
    "      hist = cv2.calcHist([image], [i], None, [256], [0, 256])\n",
    "      ax1 = plt.subplot(3,1,i+1, sharey=ax1)\n",
    "      plt.plot(hist, color = col)\n",
    "      \n",
    "      if i<2:\n",
    "        plt.setp(ax1.get_xticklabels(), visible=False)\n",
    "\n",
    "  plt.show()\n",
    "\n",
    "show_histogram(img)"
   ]
  },
  {
   "cell_type": "code",
   "execution_count": null,
   "metadata": {
    "id": "RQdCkdJuSgRB"
   },
   "outputs": [],
   "source": [
    "def show_hsv_equalized(image):\n",
    "    new_image = cv2.cvtColor(image, cv2.COLOR_BGR2HSV)\n",
    "    H, S, V = cv2.split(new_image)\n",
    "    eq_H = cv2.equalizeHist(H)\n",
    "    eq_S = cv2.equalizeHist(S)\n",
    "    eq_V = cv2.equalizeHist(V)\n",
    "    eq_image = cv2.cvtColor(cv2.merge([H, eq_S, eq_V]), cv2.COLOR_HSV2BGR)\n",
    "    cv2_imshow(eq_image)\n",
    "    show_histogram(eq_image)\n",
    "\n",
    "show_hsv_equalized(img)"
   ]
  },
  {
   "cell_type": "markdown",
   "metadata": {
    "id": "UaByMNkPNVJN"
   },
   "source": [
    "# Progression"
   ]
  },
  {
   "cell_type": "code",
   "execution_count": null,
   "metadata": {
    "id": "dhZhGbMBNZ4p"
   },
   "outputs": [],
   "source": [
    "def threshold(image):\n",
    "  @interact(x=widgets.IntSlider(min=0, max=255, step=1, value=100))\n",
    "  def trackbar(x):\n",
    "    gray_img = cv2.cvtColor(img, cv2.COLOR_BGR2GRAY)\n",
    "    _,thresh1 = cv2.threshold(gray_img,x,255,cv2.THRESH_BINARY)\n",
    "    cv2_imshow(thresh1)\n",
    "  \n",
    "threshold(img)"
   ]
  },
  {
   "cell_type": "code",
   "execution_count": null,
   "metadata": {
    "id": "F5BO2-waQeFV"
   },
   "outputs": [],
   "source": [
    "def adaptive_threshold(image):\n",
    "  @interact(x=widgets.IntSlider(min=3, max=15, step=2, value=9), y=True)\n",
    "  def trackbar(x, y):\n",
    "    gray_img = cv2.cvtColor(img, cv2.COLOR_BGR2GRAY)\n",
    "\n",
    "    if y:\n",
    "      adaptive_method = cv2.ADAPTIVE_THRESH_MEAN_C\n",
    "    else:\n",
    "      adaptive_method = cv2.ADAPTIVE_THRESH_GAUSSIAN_C\n",
    "\n",
    "    result = cv2.adaptiveThreshold(gray_img,255,adaptive_method, \n",
    "                                      cv2.THRESH_BINARY,x,2)\n",
    "    cv2_imshow(result)\n",
    "  \n",
    "  \n",
    "adaptive_threshold(img)"
   ]
  },
  {
   "cell_type": "markdown",
   "metadata": {
    "id": "1171h1-bXBpG"
   },
   "source": [
    "# Morphological operation"
   ]
  },
  {
   "cell_type": "code",
   "execution_count": null,
   "metadata": {
    "id": "tx6ddsbeXH32"
   },
   "outputs": [],
   "source": [
    "def morphological_operation(image):\n",
    "\n",
    "  def opening(img, kernel):\n",
    "    return cv2.morphologyEx(img, cv2.MORPH_OPEN, kernel)\n",
    "  \n",
    "  def closing(img, kernel):\n",
    "    return cv2.morphologyEx(img, cv2.MORPH_CLOSE, kernel)\n",
    "\n",
    "  @interact(operation=['Erosion','Dilation', 'Opening', 'Closing'], \n",
    "            struct_el=['MORPH_RECT','MORPH_ELLIPSE', 'MORPH_CROSS'], \n",
    "            size = widgets.IntSlider(min=3, max=15, step=2, value=5))\n",
    "  def trackbar(operation, struct_el, size):\n",
    "    operation_dict = {'Erosion': cv2.erode,'Dilation': cv2.dilate,\n",
    "                      'Opening': opening, 'Closing': closing}\n",
    "    struct_el_dict = {'MORPH_RECT': cv2.getStructuringElement(cv2.MORPH_RECT,(size, size)),\n",
    "                      'MORPH_ELLIPSE': cv2.getStructuringElement(cv2.MORPH_ELLIPSE,(size, size)),\n",
    "                      'MORPH_CROSS': cv2.getStructuringElement(cv2.MORPH_CROSS,(size, size))}\n",
    "    result = operation_dict[operation](image, struct_el_dict[struct_el])\n",
    "    cv2_imshow(result)\n",
    "  \n",
    "\n",
    "#using sobel output form above\n",
    "sobel[sobel>30] = 255\n",
    "cv2_imshow(sobel)\n",
    "morphological_operation(sobel)\n"
   ]
  },
  {
   "cell_type": "markdown",
   "metadata": {
    "id": "Aa74qglYX6mi"
   },
   "source": [
    "# Feature Extraction"
   ]
  },
  {
   "cell_type": "code",
   "execution_count": null,
   "metadata": {
    "colab": {
     "base_uri": "https://localhost:8080/",
     "height": 236
    },
    "id": "gU7fojMnX6Jr",
    "outputId": "c59d8b5b-07b4-4858-b6f0-382def0404b6"
   },
   "outputs": [
    {
     "ename": "NameError",
     "evalue": "ignored",
     "output_type": "error",
     "traceback": [
      "\u001b[0;31m---------------------------------------------------------------------------\u001b[0m",
      "\u001b[0;31mNameError\u001b[0m                                 Traceback (most recent call last)",
      "\u001b[0;32m<ipython-input-1-ca5781d16684>\u001b[0m in \u001b[0;36m<module>\u001b[0;34m()\u001b[0m\n\u001b[1;32m      1\u001b[0m \u001b[0;32mimport\u001b[0m \u001b[0mnumpy\u001b[0m \u001b[0;32mas\u001b[0m \u001b[0mnp\u001b[0m\u001b[0;34m\u001b[0m\u001b[0;34m\u001b[0m\u001b[0m\n\u001b[0;32m----> 2\u001b[0;31m \u001b[0mshapes\u001b[0m \u001b[0;34m=\u001b[0m \u001b[0mcv2\u001b[0m\u001b[0;34m.\u001b[0m\u001b[0mimread\u001b[0m\u001b[0;34m(\u001b[0m\u001b[0;34m'/content/drive/My Drive/Colab Notebooks/contours.png'\u001b[0m\u001b[0;34m)\u001b[0m\u001b[0;34m\u001b[0m\u001b[0;34m\u001b[0m\u001b[0m\n\u001b[0m\u001b[1;32m      3\u001b[0m \u001b[0;34m\u001b[0m\u001b[0m\n\u001b[1;32m      4\u001b[0m \u001b[0mgray_shapes\u001b[0m \u001b[0;34m=\u001b[0m \u001b[0mcv2\u001b[0m\u001b[0;34m.\u001b[0m\u001b[0mcvtColor\u001b[0m\u001b[0;34m(\u001b[0m\u001b[0mshapes\u001b[0m\u001b[0;34m,\u001b[0m \u001b[0mcv2\u001b[0m\u001b[0;34m.\u001b[0m\u001b[0mCOLOR_BGR2GRAY\u001b[0m\u001b[0;34m)\u001b[0m\u001b[0;34m\u001b[0m\u001b[0;34m\u001b[0m\u001b[0m\n\u001b[1;32m      5\u001b[0m \u001b[0m_\u001b[0m\u001b[0;34m,\u001b[0m\u001b[0mthresh1\u001b[0m \u001b[0;34m=\u001b[0m \u001b[0mcv2\u001b[0m\u001b[0;34m.\u001b[0m\u001b[0mthreshold\u001b[0m\u001b[0;34m(\u001b[0m\u001b[0mgray_shapes\u001b[0m\u001b[0;34m,\u001b[0m\u001b[0;36m50\u001b[0m\u001b[0;34m,\u001b[0m\u001b[0;36m255\u001b[0m\u001b[0;34m,\u001b[0m\u001b[0mcv2\u001b[0m\u001b[0;34m.\u001b[0m\u001b[0mTHRESH_BINARY\u001b[0m\u001b[0;34m)\u001b[0m\u001b[0;34m\u001b[0m\u001b[0;34m\u001b[0m\u001b[0m\n",
      "\u001b[0;31mNameError\u001b[0m: name 'cv2' is not defined"
     ]
    }
   ],
   "source": [
    "import numpy as np\n",
    "shapes = cv2.imread('/content/drive/My Drive/Colab Notebooks/contours.png')\n",
    "\n",
    "gray_shapes = cv2.cvtColor(shapes, cv2.COLOR_BGR2GRAY)\n",
    "_,thresh1 = cv2.threshold(gray_shapes,50,255,cv2.THRESH_BINARY)\n",
    "cv2_imshow(thresh1)"
   ]
  },
  {
   "cell_type": "code",
   "execution_count": null,
   "metadata": {
    "id": "RbEcNq6sZz53"
   },
   "outputs": [],
   "source": [
    "contours, hierarchy\t=\tcv2.findContours(thresh1, cv2.RETR_TREE, cv2.CHAIN_APPROX_SIMPLE)\n",
    "img_with_contours = cv2.drawContours(shapes, contours, -1, (255,0,0), 3)\n",
    "cv2_imshow(img_with_contours)\n",
    "print(hierarchy)"
   ]
  },
  {
   "cell_type": "code",
   "execution_count": null,
   "metadata": {
    "id": "VousIkzooRH6"
   },
   "outputs": [],
   "source": [
    "# Get rid of internal contours, extract information about childs\n",
    "\n",
    "filtered_contours = []\n",
    "has_a_child = []\n",
    "\n",
    "for contour, h in zip(contours, hierarchy[0]):\n",
    "  if h[3] == -1:\n",
    "    filtered_contours.append(contour)\n",
    "    if h[2] != -1:\n",
    "      has_a_child.append(1)\n",
    "    else:\n",
    "      has_a_child.append(0)\n",
    "\n",
    "print(has_a_child)"
   ]
  },
  {
   "cell_type": "code",
   "execution_count": null,
   "metadata": {
    "id": "hlcZZbqF4A6f"
   },
   "outputs": [],
   "source": [
    "# Get all usefull information from contours\n",
    "features_list = []\n",
    "\n",
    "for contour, childs in zip(filtered_contours, has_a_child):\n",
    "  print(contour)\n",
    "  moments = cv2.moments(contour)\n",
    "  hu_moments = cv2.HuMoments(moments)\n",
    "  \n",
    "  contour_area = cv2.contourArea(contour)\n",
    "  arc_length = cv2.arcLength(contour, True)\n",
    "  if arc_length > 0:\n",
    "    features = {x: hu[0] for x, hu in enumerate(hu_moments)}\n",
    "    features['circularity'] = 4 * 3.14 * contour_area / arc_length**2\n",
    "    features['has_child'] = childs\n",
    "    features_list.append(features)"
   ]
  },
  {
   "cell_type": "code",
   "execution_count": null,
   "metadata": {
    "id": "9i6pIfTn6Gyb"
   },
   "outputs": [],
   "source": [
    "# Save data as pd.DataFrame\n",
    "import pandas as pd\n",
    "\n",
    "pd.options.display.float_format = \"{:,.2f}\".format\n",
    "df = pd.DataFrame(features_list)\n",
    "df"
   ]
  },
  {
   "cell_type": "code",
   "execution_count": null,
   "metadata": {
    "id": "VvbEbsXg9GMj"
   },
   "outputs": [],
   "source": [
    "from sklearn.cluster import KMeans\n",
    "import numpy as np\n",
    "\n",
    "from sklearn import preprocessing\n",
    "\n",
    "x = df.values #returns a numpy array\n",
    "normalizer = preprocessing.Normalizer()\n",
    "x_scaled = normalizer.fit_transform(x)\n",
    "df = pd.DataFrame(x_scaled)\n",
    "\n",
    "kmeans = KMeans(n_clusters=6, random_state=0).fit(df)\n",
    "print(kmeans.labels_)\n",
    "\n",
    "colors = [(255,0,0), (255,255,0), (255,0,255), (0,255,0), (0,255,255), (0,0,255)]\n",
    "for contour, label in zip(filtered_contours, kmeans.labels_):\n",
    "  classified = cv2.drawContours(shapes, [contour], 0, colors[label], 3)\n",
    "  \n",
    "print(df)\n",
    "cv2_imshow(classified)\n"
   ]
  },
  {
   "cell_type": "markdown",
   "metadata": {
    "id": "X7ccWT8uhIAN"
   },
   "source": [
    "# Sesja samodzielna\n",
    "\n",
    "**MNIST**\n",
    "\n",
    "Zbiór danych MNIST to akronim oznaczający zbiór danych Modified National Institute of Standards and Technology.\n",
    "\n",
    "Jest to zbiór danych zawierający 60000 małych kwadratowych obrazów 28 × 28 pikseli w skali szarości, składających się z odręcznych pojedynczych cyfr od 0 do 9.\n",
    "\n",
    "Zadanie polega na zaklasyfikowaniu danego obrazu odręcznej cyfry do jednej z 10 klas reprezentujących wartości całkowite od 0 do 9 włącznie.\n",
    "\n",
    "Jest to powszechnie używany i głęboko rozumiany zbiór danych, który w większości jest „rozwiązany”. Modele o najwyższej wydajności to splotowe sieci neuronowe do głębokiego uczenia, które osiągają dokładność klasyfikacji powyżej 99%, przy współczynniku błędów między 0,4% a 0,2% w przypadku zestawu danych testowych.\n",
    "\n",
    "**Zadanie**\n",
    "\n",
    "Z wykorzystaniem konwencjonalnych metod, stwórz pipeline wydobywający cechy z obrazu i na ich podstawie spróbuj rozwiązać to zadanie.\n"
   ]
  },
  {
   "cell_type": "markdown",
   "metadata": {
    "id": "xj5sQJ07x25F"
   },
   "source": [
    "1.   Załaduj bazę obrazów do pamieci\n",
    "2.   Wyświetl kilka przykładowych obrazów, żeby zapoznać się z MNISTem\n",
    "3.   Stwórz funkcję pobierającą informację o odpowiednim konturze z obrazka\n",
    "4.   Stwórz funkcję pobierającą featury z konturu\n",
    "5.   Przedstaw dane w postaci dataframów (nie zapomnij - zarówno dla obrazów testowych i treningowych)\n",
    "6.   Znormalizuj dane!\n",
    "7.   Klasyfikacja! Wyniki przedstaw w raporcie\n"
   ]
  },
  {
   "cell_type": "markdown",
   "metadata": {
    "id": "RkJI-Q2UyFgG"
   },
   "source": [
    "# Zbiór odpowiedzi"
   ]
  },
  {
   "cell_type": "markdown",
   "metadata": {
    "id": "vSy9XkdSyLoI"
   },
   "source": [
    "1.   Załaduj bazę obrazów do pamieci\n",
    "\n",
    "\n"
   ]
  },
  {
   "cell_type": "code",
   "execution_count": null,
   "metadata": {
    "colab": {
     "base_uri": "https://localhost:8080/"
    },
    "id": "5-YaMg_WihtB",
    "outputId": "eabc25fe-8afe-4845-84f6-9e304a83d473"
   },
   "outputs": [
    {
     "name": "stdout",
     "output_type": "stream",
     "text": [
      "Downloading data from https://storage.googleapis.com/tensorflow/tf-keras-datasets/mnist.npz\n",
      "11493376/11490434 [==============================] - 0s 0us/step\n",
      "11501568/11490434 [==============================] - 0s 0us/step\n",
      "X_train: (60000, 28, 28)\n",
      "Y_train: (60000,)\n",
      "X_test:  (10000, 28, 28)\n",
      "Y_test:  (10000,)\n"
     ]
    }
   ],
   "source": [
    "from keras.datasets import mnist\n",
    "\n",
    "(train_X, train_y), (test_X, test_y) = mnist.load_data()\n",
    "\n",
    "print('X_train: ' + str(train_X.shape))\n",
    "print('Y_train: ' + str(train_y.shape))\n",
    "print('X_test:  '  + str(test_X.shape))\n",
    "print('Y_test:  '  + str(test_y.shape))"
   ]
  },
  {
   "cell_type": "markdown",
   "metadata": {
    "id": "bluTLykR0CjD"
   },
   "source": [
    "2.   Wyświetl kilka przykładowych obrazów, żeby zapoznać się z MNISTem\n"
   ]
  },
  {
   "cell_type": "code",
   "execution_count": null,
   "metadata": {
    "id": "E5Wr_OTTinVA"
   },
   "outputs": [],
   "source": [
    "# from matplotlib import pyplot\n",
    "\n",
    "# for i in range(9):  \n",
    "#   pyplot.subplot(330 + 1 + i)\n",
    "#   pyplot.imshow(train_X[i], cmap=pyplot.get_cmap('copper'))\n",
    "#   pyplot.show()\n"
   ]
  },
  {
   "cell_type": "markdown",
   "metadata": {
    "id": "YSWeHezA0FKt"
   },
   "source": [
    "3.   Stwórz funkcję pobierającą informację o odpowiednim konturze z obrazka\n"
   ]
  },
  {
   "cell_type": "code",
   "execution_count": null,
   "metadata": {
    "id": "B-pSJ58Rjv4k"
   },
   "outputs": [],
   "source": [
    "import pandas as pd\n",
    "\n",
    "def get_contour(image):\n",
    "  _,thresh1 = cv2.threshold(image,50,255,cv2.THRESH_BINARY)\n",
    "\n",
    "  contours, hierarchy\t=\tcv2.findContours(thresh1, cv2.RETR_TREE, cv2.CHAIN_APPROX_SIMPLE)\n",
    "\n",
    "  filtered_contours = []\n",
    "  childs_list = []\n",
    "  for contour, h in zip(contours, hierarchy[0]):\n",
    "    if h[3] == -1:\n",
    "      return contour, len(contours)-1"
   ]
  },
  {
   "cell_type": "markdown",
   "metadata": {
    "id": "bcVfbAv70HoL"
   },
   "source": [
    "4.   Stwórz funkcję pobierającą featury z konturu"
   ]
  },
  {
   "cell_type": "code",
   "execution_count": null,
   "metadata": {
    "id": "gOK4spGz0MgN"
   },
   "outputs": [],
   "source": [
    "def get_fetures(cnt, childs):\n",
    "\n",
    "  moments = cv2.moments(cnt)\n",
    "  hu_moments = cv2.HuMoments(moments)\n",
    "  features = {x: hu[0] for x, hu in enumerate(hu_moments)}\n",
    "  contour_area = cv2.contourArea(cnt)\n",
    "  arc_length = cv2.arcLength(cnt, True)\n",
    "  try:\n",
    "    features['circularity'] = 4 * 3.14 * contour_area / arc_length**2\n",
    "  except ZeroDivisionError:\n",
    "    features['circularity'] = 0\n",
    "  features['childs'] = childs\n",
    "  \n",
    "  return features"
   ]
  },
  {
   "cell_type": "markdown",
   "metadata": {
    "id": "_-aZRAZ-0PAb"
   },
   "source": [
    "5.   Przedstaw dane w postaci dataframów (nie zapomnij - zarówno dla obrazów testowych i treningowych)"
   ]
  },
  {
   "cell_type": "code",
   "execution_count": null,
   "metadata": {
    "colab": {
     "base_uri": "https://localhost:8080/",
     "height": 372
    },
    "id": "xN8mXfX2tUyN",
    "outputId": "29ddfb47-f6a8-4386-db33-69ec2bedbb17"
   },
   "outputs": [
    {
     "ename": "NameError",
     "evalue": "ignored",
     "output_type": "error",
     "traceback": [
      "\u001b[0;31m---------------------------------------------------------------------------\u001b[0m",
      "\u001b[0;31mNameError\u001b[0m                                 Traceback (most recent call last)",
      "\u001b[0;32m<ipython-input-6-b02d09c527b7>\u001b[0m in \u001b[0;36m<module>\u001b[0;34m()\u001b[0m\n\u001b[1;32m      3\u001b[0m \u001b[0mlst_features\u001b[0m \u001b[0;34m=\u001b[0m \u001b[0;34m[\u001b[0m\u001b[0;34m]\u001b[0m\u001b[0;34m\u001b[0m\u001b[0;34m\u001b[0m\u001b[0m\n\u001b[1;32m      4\u001b[0m \u001b[0;32mfor\u001b[0m \u001b[0mimage\u001b[0m \u001b[0;32min\u001b[0m \u001b[0mtrain_X\u001b[0m\u001b[0;34m:\u001b[0m\u001b[0;34m\u001b[0m\u001b[0;34m\u001b[0m\u001b[0m\n\u001b[0;32m----> 5\u001b[0;31m   \u001b[0mcontour\u001b[0m\u001b[0;34m,\u001b[0m \u001b[0mchilds\u001b[0m \u001b[0;34m=\u001b[0m \u001b[0mget_contour\u001b[0m\u001b[0;34m(\u001b[0m\u001b[0mimage\u001b[0m\u001b[0;34m)\u001b[0m\u001b[0;34m\u001b[0m\u001b[0;34m\u001b[0m\u001b[0m\n\u001b[0m\u001b[1;32m      6\u001b[0m   \u001b[0mlst_features\u001b[0m\u001b[0;34m.\u001b[0m\u001b[0mappend\u001b[0m\u001b[0;34m(\u001b[0m\u001b[0mget_fetures\u001b[0m\u001b[0;34m(\u001b[0m\u001b[0mcontour\u001b[0m\u001b[0;34m,\u001b[0m \u001b[0mchilds\u001b[0m\u001b[0;34m)\u001b[0m\u001b[0;34m)\u001b[0m\u001b[0;34m\u001b[0m\u001b[0;34m\u001b[0m\u001b[0m\n\u001b[1;32m      7\u001b[0m \u001b[0;34m\u001b[0m\u001b[0m\n",
      "\u001b[0;32m<ipython-input-4-206407c34797>\u001b[0m in \u001b[0;36mget_contour\u001b[0;34m(image)\u001b[0m\n\u001b[1;32m      2\u001b[0m \u001b[0;34m\u001b[0m\u001b[0m\n\u001b[1;32m      3\u001b[0m \u001b[0;32mdef\u001b[0m \u001b[0mget_contour\u001b[0m\u001b[0;34m(\u001b[0m\u001b[0mimage\u001b[0m\u001b[0;34m)\u001b[0m\u001b[0;34m:\u001b[0m\u001b[0;34m\u001b[0m\u001b[0;34m\u001b[0m\u001b[0m\n\u001b[0;32m----> 4\u001b[0;31m   \u001b[0m_\u001b[0m\u001b[0;34m,\u001b[0m\u001b[0mthresh1\u001b[0m \u001b[0;34m=\u001b[0m \u001b[0mcv2\u001b[0m\u001b[0;34m.\u001b[0m\u001b[0mthreshold\u001b[0m\u001b[0;34m(\u001b[0m\u001b[0mimage\u001b[0m\u001b[0;34m,\u001b[0m\u001b[0;36m50\u001b[0m\u001b[0;34m,\u001b[0m\u001b[0;36m255\u001b[0m\u001b[0;34m,\u001b[0m\u001b[0mcv2\u001b[0m\u001b[0;34m.\u001b[0m\u001b[0mTHRESH_BINARY\u001b[0m\u001b[0;34m)\u001b[0m\u001b[0;34m\u001b[0m\u001b[0;34m\u001b[0m\u001b[0m\n\u001b[0m\u001b[1;32m      5\u001b[0m \u001b[0;34m\u001b[0m\u001b[0m\n\u001b[1;32m      6\u001b[0m   \u001b[0mcontours\u001b[0m\u001b[0;34m,\u001b[0m \u001b[0mhierarchy\u001b[0m   \u001b[0;34m=\u001b[0m       \u001b[0mcv2\u001b[0m\u001b[0;34m.\u001b[0m\u001b[0mfindContours\u001b[0m\u001b[0;34m(\u001b[0m\u001b[0mthresh1\u001b[0m\u001b[0;34m,\u001b[0m \u001b[0mcv2\u001b[0m\u001b[0;34m.\u001b[0m\u001b[0mRETR_TREE\u001b[0m\u001b[0;34m,\u001b[0m \u001b[0mcv2\u001b[0m\u001b[0;34m.\u001b[0m\u001b[0mCHAIN_APPROX_SIMPLE\u001b[0m\u001b[0;34m)\u001b[0m\u001b[0;34m\u001b[0m\u001b[0;34m\u001b[0m\u001b[0m\n",
      "\u001b[0;31mNameError\u001b[0m: name 'cv2' is not defined"
     ]
    }
   ],
   "source": [
    "# train data\n",
    "\n",
    "lst_features = []\n",
    "for image in train_X:  \n",
    "  contour, childs = get_contour(image)\n",
    "  lst_features.append(get_fetures(contour, childs))\n",
    "\n",
    "pd.options.display.float_format = \"{:,.2f}\".format\n",
    "df_train = pd.DataFrame(lst_features)\n",
    "df_train\n",
    "\n",
    "# test data\n",
    "\n",
    "lst_features = []\n",
    "for image in test_X:  \n",
    "  contour, childs = get_contour(image)\n",
    "  lst_features.append(get_fetures(contour, childs))\n",
    "\n",
    "pd.options.display.float_format = \"{:,.2f}\".format\n",
    "df_test = pd.DataFrame(lst_features)\n",
    "df_test\n"
   ]
  },
  {
   "cell_type": "markdown",
   "metadata": {
    "id": "DRcjUeNW0Rvs"
   },
   "source": [
    "6.   Znormalizuj dane!"
   ]
  },
  {
   "cell_type": "code",
   "execution_count": null,
   "metadata": {
    "id": "mTQQBoQ4udBx"
   },
   "outputs": [],
   "source": [
    "#Normalization\n",
    "from sklearn import preprocessing\n",
    "\n",
    "def normalize(data):\n",
    "  x = data.values #returns a numpy array\n",
    "  normalizer = preprocessing.Normalizer()\n",
    "  x_scaled = normalizer.fit_transform(x)\n",
    "  data = pd.DataFrame(x_scaled)\n",
    "  return data\n",
    "\n",
    "df_test = normalize(df_test)\n",
    "df_train = normalize(df_train)"
   ]
  },
  {
   "cell_type": "markdown",
   "metadata": {
    "id": "eHPPaa1Z0TSF"
   },
   "source": [
    "7.   Klasyfikacja! Wyniki przedstaw w raporcie"
   ]
  },
  {
   "cell_type": "code",
   "execution_count": null,
   "metadata": {
    "id": "yW3JtkJyvaNv"
   },
   "outputs": [],
   "source": [
    "from sklearn.metrics import classification_report\n",
    "from sklearn.tree import DecisionTreeClassifier\n",
    "\n",
    "clf = DecisionTreeClassifier(random_state=0)\n",
    "clf.fit(df_train, train_y)\n",
    "prediction = clf.predict(df_test)\n",
    "print(classification_report(test_y, prediction))"
   ]
  },
  {
   "cell_type": "code",
   "execution_count": null,
   "metadata": {
    "id": "Kt6n23jBafsV"
   },
   "outputs": [],
   "source": [
    "from imgaug import augmenters as iaa\n",
    "ia.seed(4)\n",
    "images = [image, image, image, image]\n",
    "rotate = iaa.Affine(rotate=(-25, 25))\n",
    "image_aug = rotate(images=images)\n",
    "print(\"Augmented:\")\n",
    "ia.imshow(np.hstack(image_aug))"
   ]
  },
  {
   "cell_type": "code",
   "execution_count": null,
   "metadata": {
    "id": "5S1OW6EKagV2"
   },
   "outputs": [],
   "source": [
    "import cv2"
   ]
  },
  {
   "cell_type": "code",
   "execution_count": null,
   "metadata": {
    "colab": {
     "base_uri": "https://localhost:8080/",
     "height": 457
    },
    "id": "b1INroubA4k4",
    "outputId": "64453d26-d9c1-473b-8061-b552219f19ee"
   },
   "outputs": [
    {
     "name": "stdout",
     "output_type": "stream",
     "text": [
      "Downloading data from https://storage.googleapis.com/tensorflow/tf-keras-datasets/mnist.npz\n",
      "11493376/11490434 [==============================] - 0s 0us/step\n",
      "11501568/11490434 [==============================] - 0s 0us/step\n",
      "Training data shape :  (60000, 28, 28) (60000,)\n",
      "Testing data shape :  (10000, 28, 28) (10000,)\n",
      "Total number of outputs :  10\n",
      "Output classes :  [0 1 2 3 4 5 6 7 8 9]\n"
     ]
    },
    {
     "data": {
      "text/plain": [
       "Text(0.5, 1.0, 'Ground Truth : 7')"
      ]
     },
     "execution_count": 2,
     "metadata": {},
     "output_type": "execute_result"
    },
    {
     "data": {
      "image/png": "[encoded data removed]",
      "text/plain": [
       "<Figure size 720x360 with 2 Axes>"
      ]
     },
     "metadata": {},
     "output_type": "display_data"
    }
   ],
   "source": [
    "import numpy as np\n",
    "from matplotlib import pyplot as plt\n",
    "from tensorflow.keras.utils import to_categorical\n",
    "import keras\n",
    "\n",
    "(train_x, train_y), (test_x, test_y) = keras.datasets.mnist.load_data()\n",
    "print('Training data shape : ', train_x.shape, train_y.shape) \n",
    "print('Testing data shape : ', test_x.shape, test_y.shape)\n",
    "# Find the unique numbers from the train labels\n",
    "classes = np.unique(train_y)\n",
    "classes_num = len(classes)\n",
    "print('Total number of outputs : ', classes_num) \n",
    "print('Output classes : ', classes)\n",
    "plt.figure(figsize=[10,5])\n",
    "# Display the first image in training data\n",
    "plt.subplot(121)\n",
    "plt.imshow(train_x[0,:,:], cmap='copper') \n",
    "plt.title(\"Ground Truth : {}\".format(train_y[0]))\n",
    "# Display the first image in testing data\n",
    "plt.subplot(122)\n",
    "plt.imshow(test_x[0,:,:], cmap='copper') \n",
    "plt.title(\"Ground Truth : {}\".format(test_y[0]))\n",
    "plt.title(\"Ground Truth : {}\".format(test_y[0]))"
   ]
  },
  {
   "cell_type": "code",
   "execution_count": null,
   "metadata": {
    "id": "mQw2t-fOEfVR"
   },
   "outputs": [],
   "source": [
    " # Change from matrix to array of dimension 28x28 to array of dimension 784\n",
    "train_x = train_x.reshape(train_x.shape[0], -1) \n",
    "test_x = test_x.reshape(test_x.shape[0], -1)\n",
    "# 0-255 to 0-1\n",
    "train_x = train_x/255 \n",
    "test_x = test_x/255\n",
    "# Change the labels from integer to categorical data\n",
    "train_y_one_hot = to_categorical(train_y) \n",
    "test_y_one_hot = to_categorical(test_y)"
   ]
  },
  {
   "cell_type": "code",
   "execution_count": null,
   "metadata": {
    "colab": {
     "base_uri": "https://localhost:8080/"
    },
    "id": "2UVB9lxWBWHA",
    "outputId": "0ac5fc1d-93aa-4ed4-c2c7-f6c87b88b954"
   },
   "outputs": [
    {
     "name": "stdout",
     "output_type": "stream",
     "text": [
      "Epoch 1/10\n",
      "235/235 [==============================] - 10s 12ms/step - loss: 0.2672 - accuracy: 0.9177 - val_loss: 0.1244 - val_accuracy: 0.9608\n",
      "Epoch 2/10\n",
      "235/235 [==============================] - 2s 9ms/step - loss: 0.0918 - accuracy: 0.9715 - val_loss: 0.0738 - val_accuracy: 0.9769\n",
      "Epoch 3/10\n",
      "235/235 [==============================] - 2s 9ms/step - loss: 0.0594 - accuracy: 0.9812 - val_loss: 0.0897 - val_accuracy: 0.9725\n",
      "Epoch 4/10\n",
      "235/235 [==============================] - 2s 9ms/step - loss: 0.0403 - accuracy: 0.9873 - val_loss: 0.0700 - val_accuracy: 0.9804\n",
      "Epoch 5/10\n",
      "235/235 [==============================] - 2s 7ms/step - loss: 0.0289 - accuracy: 0.9909 - val_loss: 0.0772 - val_accuracy: 0.9802\n",
      "Epoch 6/10\n",
      "235/235 [==============================] - 1s 6ms/step - loss: 0.0206 - accuracy: 0.9934 - val_loss: 0.0705 - val_accuracy: 0.9815\n",
      "Epoch 7/10\n",
      "235/235 [==============================] - 2s 6ms/step - loss: 0.0174 - accuracy: 0.9945 - val_loss: 0.0778 - val_accuracy: 0.9809\n",
      "Epoch 8/10\n",
      "235/235 [==============================] - 2s 6ms/step - loss: 0.0132 - accuracy: 0.9955 - val_loss: 0.1642 - val_accuracy: 0.9619\n",
      "Epoch 9/10\n",
      "235/235 [==============================] - 2s 7ms/step - loss: 0.0118 - accuracy: 0.9962 - val_loss: 0.0941 - val_accuracy: 0.9815\n",
      "Epoch 10/10\n",
      "235/235 [==============================] - 2s 6ms/step - loss: 0.0094 - accuracy: 0.9969 - val_loss: 0.0950 - val_accuracy: 0.9816\n",
      "313/313 [==============================] - 1s 3ms/step - loss: 0.0950 - accuracy: 0.9816\n",
      "Evaluation result on Test Data : Loss = 0.09496629983186722, accuracy = 0.9815999865531921\n"
     ]
    }
   ],
   "source": [
    " # Make a model\n",
    "from tensorflow.keras.models import Sequential\n",
    "from tensorflow.keras.layers import Dense\n",
    "model = Sequential()\n",
    "model.add(Dense(512, activation='relu', input_shape=(train_x.shape[1],)))\n",
    "model.add(Dense(512, activation='relu'))\n",
    "model.add(Dense(classes_num, activation='softmax'))\n",
    "model.compile(optimizer='rmsprop', loss='categorical_crossentropy', metrics=['accuracy'])\n",
    "history = model.fit(train_x, train_y_one_hot,\n",
    "                   batch_size=256, epochs=10, verbose=True,\n",
    "                   validation_data=(test_x, test_y_one_hot))\n",
    "[test_loss, test_acc] = model.evaluate(test_x, test_y_one_hot)\n",
    "print(f\"Evaluation result on Test Data : Loss = {test_loss}, accuracy = {test_acc}\")"
   ]
  },
  {
   "cell_type": "code",
   "execution_count": null,
   "metadata": {
    "colab": {
     "base_uri": "https://localhost:8080/",
     "height": 805
    },
    "id": "Lcf1PG2NGebg",
    "outputId": "7c7da5cc-423f-4e3b-d8a5-1eab42b9ccdb"
   },
   "outputs": [
    {
     "data": {
      "image/png": "[encoded data removed]",
      "text/plain": [
       "<Figure size 576x432 with 1 Axes>"
      ]
     },
     "metadata": {},
     "output_type": "display_data"
    },
    {
     "data": {
      "image/png": "[encoded data removed]",
      "text/plain": [
       "<Figure size 576x432 with 1 Axes>"
      ]
     },
     "metadata": {},
     "output_type": "display_data"
    }
   ],
   "source": [
    "def plot_history(history):\n",
    " #Plot the Loss Curves\n",
    " plt.figure(figsize=[8,6])\n",
    " plt.plot(history.history['loss'],'r',linewidth=3.0)\n",
    " plt.plot(history.history['val_loss'],'b',linewidth=3.0)\n",
    " plt.legend(['Training loss', 'Validation Loss'],fontsize=18)\n",
    " plt.xlabel('Epochs ',fontsize=16)\n",
    " plt.ylabel('Loss',fontsize=16)\n",
    " plt.title('Loss Curves',fontsize=16)\n",
    " #Plot the Accuracy Curves\n",
    " plt.figure(figsize=[8,6])\n",
    " plt.plot(history.history['accuracy'], 'r', linewidth=3.0)\n",
    " plt.plot(history.history['val_accuracy'], 'b',linewidth=3.0)\n",
    " plt.legend(['Training Accuracy', 'Validation Accuracy'],fontsize=18)\n",
    " plt.xlabel('Epochs ',fontsize=16)\n",
    " plt.ylabel('Accuracy',fontsize=16)\n",
    " plt.title('Accuracy Curves',fontsize=16)\n",
    "plot_history(history)"
   ]
  },
  {
   "cell_type": "code",
   "execution_count": null,
   "metadata": {
    "colab": {
     "base_uri": "https://localhost:8080/"
    },
    "id": "BQ0N4x6ZK38l",
    "outputId": "c23b5cc9-113b-4f47-bbf7-84c3d438cce4"
   },
   "outputs": [
    {
     "name": "stdout",
     "output_type": "stream",
     "text": [
      "Downloading data from https://www.cs.toronto.edu/~kriz/cifar-10-python.tar.gz\n",
      "170500096/170498071 [==============================] - 2s 0us/step\n",
      "170508288/170498071 [==============================] - 2s 0us/step\n"
     ]
    }
   ],
   "source": [
    "(train_x, train_y), (test_x, test_y) = keras.datasets.cifar10.load_data () # 0-255 to 0-1\n",
    "train_x = train_x/ 255\n",
    "test_x = test_x/ 255\n",
    "# Change the labels from integer to categorical data\n",
    "train_y_one_hot = to_categorical (train_y) \n",
    "test_y_one_hot = to_categorical (test_y)"
   ]
  },
  {
   "cell_type": "code",
   "execution_count": null,
   "metadata": {
    "colab": {
     "base_uri": "https://localhost:8080/"
    },
    "id": "h76kQKCoD0Al",
    "outputId": "db58a6b6-ad34-487b-e5d7-a0c654eb9985"
   },
   "outputs": [
    {
     "name": "stderr",
     "output_type": "stream",
     "text": [
      "/usr/local/lib/python3.7/dist-packages/keras/optimizer_v2/gradient_descent.py:102: UserWarning: The `lr` argument is deprecated, use `learning_rate` instead.\n",
      "  super(SGD, self).__init__(name, **kwargs)\n"
     ]
    },
    {
     "name": "stdout",
     "output_type": "stream",
     "text": [
      "Epoch 1/30\n",
      "782/782 [==============================] - 27s 23ms/step - loss: 1.7639 - accuracy: 0.3609 - val_loss: 1.6051 - val_accuracy: 0.4416\n",
      "Epoch 2/30\n",
      "782/782 [==============================] - 17s 22ms/step - loss: 1.4121 - accuracy: 0.4922 - val_loss: 1.3599 - val_accuracy: 0.5083\n",
      "Epoch 3/30\n",
      "782/782 [==============================] - 17s 22ms/step - loss: 1.2392 - accuracy: 0.5602 - val_loss: 1.1861 - val_accuracy: 0.5780\n",
      "Epoch 4/30\n",
      "782/782 [==============================] - 18s 24ms/step - loss: 1.1082 - accuracy: 0.6073 - val_loss: 1.0951 - val_accuracy: 0.6084\n",
      "Epoch 5/30\n",
      "782/782 [==============================] - 17s 22ms/step - loss: 1.0023 - accuracy: 0.6464 - val_loss: 1.0616 - val_accuracy: 0.6309\n",
      "Epoch 6/30\n",
      "782/782 [==============================] - 17s 22ms/step - loss: 0.9081 - accuracy: 0.6811 - val_loss: 1.0305 - val_accuracy: 0.6389\n",
      "Epoch 7/30\n",
      "782/782 [==============================] - 17s 22ms/step - loss: 0.8384 - accuracy: 0.7069 - val_loss: 0.9646 - val_accuracy: 0.6717\n",
      "Epoch 8/30\n",
      "782/782 [==============================] - 17s 22ms/step - loss: 0.7686 - accuracy: 0.7332 - val_loss: 0.8949 - val_accuracy: 0.6923\n",
      "Epoch 9/30\n",
      "782/782 [==============================] - 17s 22ms/step - loss: 0.7105 - accuracy: 0.7529 - val_loss: 0.8979 - val_accuracy: 0.6947\n",
      "Epoch 10/30\n",
      "782/782 [==============================] - 17s 22ms/step - loss: 0.6530 - accuracy: 0.7726 - val_loss: 0.8486 - val_accuracy: 0.7131\n",
      "Epoch 11/30\n",
      "782/782 [==============================] - 21s 27ms/step - loss: 0.5978 - accuracy: 0.7922 - val_loss: 0.8869 - val_accuracy: 0.7029\n",
      "Epoch 12/30\n",
      "782/782 [==============================] - 18s 23ms/step - loss: 0.5443 - accuracy: 0.8105 - val_loss: 0.8874 - val_accuracy: 0.7050\n",
      "Epoch 13/30\n",
      "782/782 [==============================] - 17s 22ms/step - loss: 0.4969 - accuracy: 0.8272 - val_loss: 0.8952 - val_accuracy: 0.7065\n",
      "Epoch 14/30\n",
      "782/782 [==============================] - 17s 22ms/step - loss: 0.4500 - accuracy: 0.8434 - val_loss: 0.9261 - val_accuracy: 0.7157\n",
      "Epoch 15/30\n",
      "782/782 [==============================] - 17s 22ms/step - loss: 0.4053 - accuracy: 0.8600 - val_loss: 0.8917 - val_accuracy: 0.7162\n",
      "Epoch 16/30\n",
      "782/782 [==============================] - 17s 22ms/step - loss: 0.3609 - accuracy: 0.8748 - val_loss: 0.9675 - val_accuracy: 0.7149\n",
      "Epoch 17/30\n",
      "782/782 [==============================] - 17s 22ms/step - loss: 0.3187 - accuracy: 0.8889 - val_loss: 0.9896 - val_accuracy: 0.7245\n",
      "Epoch 18/30\n",
      "782/782 [==============================] - 17s 21ms/step - loss: 0.2803 - accuracy: 0.9026 - val_loss: 1.0633 - val_accuracy: 0.7109\n",
      "Epoch 19/30\n",
      "782/782 [==============================] - 17s 21ms/step - loss: 0.2456 - accuracy: 0.9151 - val_loss: 1.0476 - val_accuracy: 0.7170\n",
      "Epoch 20/30\n",
      "782/782 [==============================] - 17s 22ms/step - loss: 0.2115 - accuracy: 0.9266 - val_loss: 1.1285 - val_accuracy: 0.7138\n",
      "Epoch 21/30\n",
      "782/782 [==============================] - 17s 22ms/step - loss: 0.1832 - accuracy: 0.9370 - val_loss: 1.1606 - val_accuracy: 0.7248\n",
      "Epoch 22/30\n",
      "782/782 [==============================] - 17s 22ms/step - loss: 0.1570 - accuracy: 0.9452 - val_loss: 1.2656 - val_accuracy: 0.7104\n",
      "Epoch 23/30\n",
      "782/782 [==============================] - 17s 22ms/step - loss: 0.1354 - accuracy: 0.9529 - val_loss: 1.3006 - val_accuracy: 0.7197\n",
      "Epoch 24/30\n",
      "782/782 [==============================] - 17s 22ms/step - loss: 0.1146 - accuracy: 0.9593 - val_loss: 1.4535 - val_accuracy: 0.7130\n",
      "Epoch 25/30\n",
      "782/782 [==============================] - 17s 21ms/step - loss: 0.0932 - accuracy: 0.9681 - val_loss: 1.4614 - val_accuracy: 0.7228\n",
      "Epoch 26/30\n",
      "782/782 [==============================] - 17s 22ms/step - loss: 0.0853 - accuracy: 0.9709 - val_loss: 1.4960 - val_accuracy: 0.7154\n",
      "Epoch 27/30\n",
      "782/782 [==============================] - 17s 22ms/step - loss: 0.0721 - accuracy: 0.9756 - val_loss: 1.6168 - val_accuracy: 0.7132\n",
      "Epoch 28/30\n",
      "782/782 [==============================] - 17s 22ms/step - loss: 0.0742 - accuracy: 0.9744 - val_loss: 1.6375 - val_accuracy: 0.7118\n",
      "Epoch 29/30\n",
      "782/782 [==============================] - 17s 22ms/step - loss: 0.0634 - accuracy: 0.9782 - val_loss: 1.7343 - val_accuracy: 0.7123\n",
      "Epoch 30/30\n",
      "782/782 [==============================] - 17s 22ms/step - loss: 0.0505 - accuracy: 0.9827 - val_loss: 1.7292 - val_accuracy: 0.7164\n"
     ]
    }
   ],
   "source": [
    "from tensorflow.keras.layers import Conv2D, MaxPooling2D, Flatten\n",
    "import tensorflow\n",
    "\n",
    "model = Sequential()\n",
    "model.add(Conv2D(32, (3, 3), activation='relu',\n",
    "kernel_initializer='he_uniform', padding='same', input_shape=(32, 32, 3)))\n",
    "model.add(Conv2D(32, (3, 3), activation='relu',\n",
    "kernel_initializer='he_uniform', padding='same'))\n",
    "model.add(MaxPooling2D((2, 2)))\n",
    "model.add(Conv2D(64, (3, 3), activation='relu',\n",
    "kernel_initializer='he_uniform', padding='same'))\n",
    "model.add(Conv2D(64, (3, 3), activation='relu',\n",
    "kernel_initializer='he_uniform', padding='same'))\n",
    "model.add(MaxPooling2D((2, 2)))\n",
    "model.add(Conv2D(128, (3, 3), activation='relu',\n",
    "kernel_initializer='he_uniform', padding='same'))\n",
    "model.add(Conv2D(128, (3, 3), activation='relu',\n",
    "kernel_initializer='he_uniform', padding='same'))\n",
    "model.add(MaxPooling2D((2, 2)))\n",
    "model.add(Flatten())\n",
    "model.add(Dense(128, activation='relu', kernel_initializer='he_uniform'))\n",
    "model.add(Dense(10, activation='softmax'))\n",
    "# compile model\n",
    "opt = tensorflow.keras.optimizers.SGD(lr=0.001, momentum=0.9)\n",
    "model.compile(optimizer=opt, loss='categorical_crossentropy',\n",
    "metrics=['accuracy'])\n",
    "# fit model\n",
    "history = model.fit(train_x, train_y_one_hot, epochs=30, batch_size=64, validation_data=(test_x, test_y_one_hot), verbose=1)"
   ]
  },
  {
   "cell_type": "code",
   "execution_count": null,
   "metadata": {
    "colab": {
     "background_save": true,
     "base_uri": "https://localhost:8080/"
    },
    "id": "HhkBXLPBL8O9",
    "outputId": "8182917f-f116-435b-d0fc-cf187e29cc9a"
   },
   "outputs": [
    {
     "name": "stderr",
     "output_type": "stream",
     "text": [
      "/usr/local/lib/python3.7/dist-packages/keras/optimizer_v2/gradient_descent.py:102: UserWarning: The `lr` argument is deprecated, use `learning_rate` instead.\n",
      "  super(SGD, self).__init__(name, **kwargs)\n"
     ]
    },
    {
     "name": "stdout",
     "output_type": "stream",
     "text": [
      "Epoch 1/30\n",
      "782/782 [==============================] - 24s 27ms/step - loss: 2.0730 - accuracy: 0.3151 - val_loss: 1.5501 - val_accuracy: 0.4400\n",
      "Epoch 2/30\n",
      "782/782 [==============================] - 21s 26ms/step - loss: 1.5377 - accuracy: 0.4423 - val_loss: 1.4303 - val_accuracy: 0.4662\n",
      "Epoch 3/30\n",
      "782/782 [==============================] - 21s 27ms/step - loss: 1.3964 - accuracy: 0.4929 - val_loss: 1.3112 - val_accuracy: 0.5203\n",
      "Epoch 4/30\n",
      "782/782 [==============================] - 21s 27ms/step - loss: 1.3025 - accuracy: 0.5283 - val_loss: 1.2574 - val_accuracy: 0.5404\n",
      "Epoch 5/30\n",
      "782/782 [==============================] - 21s 26ms/step - loss: 1.2341 - accuracy: 0.5579 - val_loss: 1.2212 - val_accuracy: 0.5571\n",
      "Epoch 6/30\n",
      "782/782 [==============================] - 20s 26ms/step - loss: 1.1683 - accuracy: 0.5792 - val_loss: 1.1285 - val_accuracy: 0.5979\n",
      "Epoch 7/30\n",
      "782/782 [==============================] - 20s 26ms/step - loss: 1.1226 - accuracy: 0.6011 - val_loss: 1.0971 - val_accuracy: 0.6012\n",
      "Epoch 8/30\n",
      "782/782 [==============================] - 20s 26ms/step - loss: 1.0727 - accuracy: 0.6178 - val_loss: 1.1116 - val_accuracy: 0.6038\n",
      "Epoch 9/30\n",
      "782/782 [==============================] - 20s 25ms/step - loss: 1.0390 - accuracy: 0.6304 - val_loss: 1.0606 - val_accuracy: 0.6239\n",
      "Epoch 10/30\n",
      "782/782 [==============================] - 20s 26ms/step - loss: 1.0014 - accuracy: 0.6444 - val_loss: 1.0224 - val_accuracy: 0.6393\n",
      "Epoch 11/30\n",
      "782/782 [==============================] - 20s 26ms/step - loss: 0.9747 - accuracy: 0.6563 - val_loss: 0.9691 - val_accuracy: 0.6583\n",
      "Epoch 12/30\n",
      "782/782 [==============================] - 20s 26ms/step - loss: 0.9505 - accuracy: 0.6648 - val_loss: 0.9180 - val_accuracy: 0.6738\n",
      "Epoch 13/30\n",
      "782/782 [==============================] - 20s 26ms/step - loss: 0.9259 - accuracy: 0.6720 - val_loss: 0.9055 - val_accuracy: 0.6785\n",
      "Epoch 14/30\n",
      "782/782 [==============================] - 20s 26ms/step - loss: 0.8998 - accuracy: 0.6824 - val_loss: 0.8459 - val_accuracy: 0.6999\n",
      "Epoch 15/30\n",
      "782/782 [==============================] - 21s 27ms/step - loss: 0.8852 - accuracy: 0.6875 - val_loss: 0.8691 - val_accuracy: 0.6884\n",
      "Epoch 16/30\n",
      "782/782 [==============================] - 20s 26ms/step - loss: 0.8672 - accuracy: 0.6947 - val_loss: 0.8199 - val_accuracy: 0.7090\n",
      "Epoch 17/30\n",
      "782/782 [==============================] - 20s 26ms/step - loss: 0.8483 - accuracy: 0.7016 - val_loss: 0.7872 - val_accuracy: 0.7172\n",
      "Epoch 18/30\n",
      "782/782 [==============================] - 20s 26ms/step - loss: 0.8322 - accuracy: 0.7064 - val_loss: 0.8397 - val_accuracy: 0.7052\n",
      "Epoch 19/30\n",
      "782/782 [==============================] - 20s 26ms/step - loss: 0.8158 - accuracy: 0.7153 - val_loss: 0.7620 - val_accuracy: 0.7298\n",
      "Epoch 20/30\n",
      "782/782 [==============================] - 21s 26ms/step - loss: 0.8003 - accuracy: 0.7177 - val_loss: 0.7932 - val_accuracy: 0.7185\n",
      "Epoch 21/30\n",
      "782/782 [==============================] - 21s 26ms/step - loss: 0.7888 - accuracy: 0.7218 - val_loss: 0.7586 - val_accuracy: 0.7347\n",
      "Epoch 22/30\n",
      "782/782 [==============================] - 21s 27ms/step - loss: 0.7781 - accuracy: 0.7277 - val_loss: 0.7179 - val_accuracy: 0.7451\n",
      "Epoch 23/30\n",
      "782/782 [==============================] - 21s 26ms/step - loss: 0.7710 - accuracy: 0.7308 - val_loss: 0.7227 - val_accuracy: 0.7468\n",
      "Epoch 24/30\n",
      "782/782 [==============================] - 20s 26ms/step - loss: 0.7531 - accuracy: 0.7345 - val_loss: 0.6749 - val_accuracy: 0.7639\n",
      "Epoch 25/30\n",
      "782/782 [==============================] - 20s 25ms/step - loss: 0.7419 - accuracy: 0.7406 - val_loss: 0.7042 - val_accuracy: 0.7511\n",
      "Epoch 26/30\n",
      "782/782 [==============================] - 20s 25ms/step - loss: 0.7381 - accuracy: 0.7419 - val_loss: 0.6980 - val_accuracy: 0.7516\n",
      "Epoch 27/30\n",
      "782/782 [==============================] - 20s 26ms/step - loss: 0.7235 - accuracy: 0.7458 - val_loss: 0.7604 - val_accuracy: 0.7298\n",
      "Epoch 28/30\n",
      "782/782 [==============================] - 20s 25ms/step - loss: 0.7132 - accuracy: 0.7485 - val_loss: 0.6513 - val_accuracy: 0.7715\n",
      "Epoch 29/30\n",
      "782/782 [==============================] - 20s 25ms/step - loss: 0.7006 - accuracy: 0.7559 - val_loss: 0.6966 - val_accuracy: 0.7537\n",
      "Epoch 30/30\n",
      "782/782 [==============================] - 20s 25ms/step - loss: 0.6947 - accuracy: 0.7576 - val_loss: 0.6551 - val_accuracy: 0.7718\n"
     ]
    }
   ],
   "source": [
    "from tensorflow.keras.layers import BatchNormalization, Dropout\n",
    "\n",
    "model = Sequential ()\n",
    "model.add(Conv2D(32, (3, 3), activation='relu', kernel_initializer= 'he_uniform', padding='same', input_shape=(32, 32, 3)))\n",
    "model.add (BatchNormalization ())\n",
    "model.add(Conv2D(32, (3, 3), activation='relu', kernel_initializer= 'he_uniform', padding='same'))\n",
    "model.add (BatchNormalization ())\n",
    "model.add(MaxPooling2D((2, 2)))\n",
    "model.add(Dropout(0.2))\n",
    "model.add(Conv2D(64, (3, 3), activation='relu', kernel_initializer= 'he_uniform', padding='same'))\n",
    "model.add (BatchNormalization ())\n",
    "model.add(Conv2D(64, (3, 3), activation='relu', kernel_initializer= 'he_uniform', padding='same'))\n",
    "model.add (BatchNormalization ())\n",
    "model.add(MaxPooling2D((2, 2)))\n",
    "model.add(Dropout(0.3))\n",
    "model.add(Conv2D(128, (3, 3), activation='relu', kernel_initializer= 'he_uniform', padding='same'))\n",
    "model.add (BatchNormalization ())\n",
    "model.add(Conv2D(128, (3, 3), activation='relu', kernel_initializer= 'he_uniform', padding='same'))\n",
    "model.add (BatchNormalization ())\n",
    "model.add(MaxPooling2D((2, 2)))\n",
    "model.add(Dropout(0.4))\n",
    "model.add(Flatten())\n",
    "model.add(Dense(128, activation='relu', kernel_initializer= 'he_uniform')) \n",
    "model.add (BatchNormalization ())\n",
    "model.add(Dropout(0.5))\n",
    "model.add(Dense(10, activation='softmax'))\n",
    "# compile model\n",
    "opt = tensorflow.keras.optimizers.SGD(lr=0.001, momentum=0.9)\n",
    "model.compile(optimizer=opt, loss='categorical_crossentropy',\n",
    "metrics=['accuracy'])\n",
    "# fit model\n",
    "history = model.fit(train_x, train_y_one_hot, epochs=30, batch_size=64, validation_data=(test_x, test_y_one_hot), verbose=1)"
   ]
  },
  {
   "cell_type": "code",
   "execution_count": null,
   "metadata": {
    "id": "7f59hznrJ5oW"
   },
   "outputs": [],
   "source": [
    "from keras.models import Model\n",
    "from tensorflow.keras.applications import MobileNetV2\n",
    "\n",
    "(train_x, train_y), (test_x, test_y) = keras.datasets.cifar10.load_data () # 0-255 to 0-1\n",
    "train_x = train_x/ 255\n",
    "test_x = test_x/ 255\n",
    "# Change the labels from integer to categorical data\n",
    "train_y_one_hot = to_categorical (train_y) \n",
    "test_y_one_hot = to_categorical (test_y)\n",
    "model = MobileNetV2 (input_shape= (train_x.shape [1], train_x.shape [2], 3), classes= 10, include_top=False, weights=None)\n",
    "x=model.layers [-1].output\n",
    "x=keras.layers.BatchNormalization (axis=-1, momentum=0.99, epsilon=0.001 )(x) \n",
    "flatten=Flatten ()(x)\n",
    "predictions=Dense(10, activation='softmax')(flatten)\n",
    "model = Model (inputs=model.input , outputs=predictions )\n",
    "# compile model\n",
    "opt = tensorflow.keras.optimizers.SGD (lr=0.001, momentum=0.9) \n",
    "model.compile(optimizer=opt, loss='categorical_crossentropy' ,metrics= ['accuracy' ])\n",
    "# fit model\n",
    "history = model.fit(train_x, train_y_one_hot, epochs=30, batch_size=64, validation_data= (test_x, test_y_one_hot), verbose=1)\n",
    "# evaluate model\n",
    "_, acc = model.evaluate(test_x, test_y_one_hot, verbose=1)"
   ]
  }
 ],
 "metadata": {
  "accelerator": "GPU",
  "colab": {
   "collapsed_sections": [],
   "include_colab_link": true,
   "name": "Computer Vision_20210530_cv_day_1.ipynb",
   "provenance": []
  },
  "kernelspec": {
   "display_name": "Python 3 (ipykernel)",
   "language": "python",
   "name": "python3"
  },
  "language_info": {
   "codemirror_mode": {
    "name": "ipython",
    "version": 3
   },
   "file_extension": ".py",
   "mimetype": "text/x-python",
   "name": "python",
   "nbconvert_exporter": "python",
   "pygments_lexer": "ipython3",
   "version": "3.8.13"
  }
 },
 "nbformat": 4,
 "nbformat_minor": 4
}
